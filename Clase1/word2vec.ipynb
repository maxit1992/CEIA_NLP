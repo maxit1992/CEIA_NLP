{
  "nbformat": 4,
  "nbformat_minor": 0,
  "metadata": {
    "colab": {
      "name": "word2vec.ipynb",
      "provenance": [],
      "collapsed_sections": []
    },
    "kernelspec": {
      "name": "python3",
      "display_name": "Python 3"
    },
    "language_info": {
      "name": "python"
    }
  },
  "cells": [
    {
      "cell_type": "markdown",
      "metadata": {
        "id": "Ue5hxxkdAQJg"
      },
      "source": [
        "<a href=\"https://www.inove.com.ar\"><img src=\"https://github.com/hernancontigiani/ceia_memorias_especializacion/raw/master/Figures/logoFIUBA.jpg\" width=\"500\" align=\"center\"></a>\n",
        "\n",
        "\n",
        "# Procesamiento de lenguaje natural\n",
        "## Word2vect\n"
      ]
    },
    {
      "cell_type": "code",
      "metadata": {
        "id": "kCED1hh-Ioyf"
      },
      "source": [
        "import numpy as np"
      ],
      "execution_count": 1,
      "outputs": []
    },
    {
      "cell_type": "code",
      "metadata": {
        "id": "PUbfVnzIIoMj"
      },
      "source": [
        "def cosine_similarity(a, b):\n",
        "    return np.dot(a, b) / (np.linalg.norm(a) * (np.linalg.norm(b)))"
      ],
      "execution_count": 2,
      "outputs": []
    },
    {
      "cell_type": "markdown",
      "metadata": {
        "id": "DMOa4JPSCJ29"
      },
      "source": [
        "### Datos"
      ]
    },
    {
      "cell_type": "code",
      "metadata": {
        "id": "RIO7b8GjAC17"
      },
      "source": [
        "corpus = np.array(['que dia es hoy', 'martes el dia de hoy es martes', 'martes muchas gracias'])"
      ],
      "execution_count": 3,
      "outputs": []
    },
    {
      "cell_type": "markdown",
      "metadata": {
        "id": "FVHxBRNzCMOS"
      },
      "source": [
        "### 1 - Obtener el vocabulario del corpus (los términos utilizados)\n",
        "- Cada documento transformarlo en una lista de términos\n",
        "- Armar un vector de términos no repetidos de todos los documentos"
      ]
    },
    {
      "cell_type": "code",
      "metadata": {
        "id": "3ZqTOZzDI7uv"
      },
      "source": [
        "def get_docs(corpus):\n",
        "  docs = []\n",
        "  for e in corpus:\n",
        "    docs.append(e.split())\n",
        "  return docs\n",
        "\n",
        "def get_vocab(corpus):\n",
        "  vocab = set()\n",
        "  for e in corpus:\n",
        "    vocab.update(e.split())\n",
        "  vocab=np.array(list(vocab))\n",
        "  return vocab"
      ],
      "execution_count": 4,
      "outputs": []
    },
    {
      "cell_type": "code",
      "metadata": {
        "colab": {
          "base_uri": "https://localhost:8080/"
        },
        "id": "-1G_s0q87pIB",
        "outputId": "0629d0f5-4d66-440b-f502-ac248298c7c9"
      },
      "source": [
        "get_docs(corpus)"
      ],
      "execution_count": 5,
      "outputs": [
        {
          "output_type": "execute_result",
          "data": {
            "text/plain": [
              "[['que', 'dia', 'es', 'hoy'],\n",
              " ['martes', 'el', 'dia', 'de', 'hoy', 'es', 'martes'],\n",
              " ['martes', 'muchas', 'gracias']]"
            ]
          },
          "metadata": {},
          "execution_count": 5
        }
      ]
    },
    {
      "cell_type": "code",
      "metadata": {
        "colab": {
          "base_uri": "https://localhost:8080/"
        },
        "id": "NgaUKoRX7o8H",
        "outputId": "24a2ae4f-4bb4-4e2c-cb01-e3eb4c6eea60"
      },
      "source": [
        "get_vocab(corpus)"
      ],
      "execution_count": 6,
      "outputs": [
        {
          "output_type": "execute_result",
          "data": {
            "text/plain": [
              "array(['que', 'martes', 'de', 'gracias', 'el', 'hoy', 'dia', 'es',\n",
              "       'muchas'], dtype='<U7')"
            ]
          },
          "metadata": {},
          "execution_count": 6
        }
      ]
    },
    {
      "cell_type": "markdown",
      "metadata": {
        "id": "RUhH983FI7It"
      },
      "source": [
        "### 2- OneHot encoding\n",
        "Data una lista de textos, devolver una matriz con la representación oneHotEncoding de estos"
      ]
    },
    {
      "cell_type": "code",
      "metadata": {
        "id": "Os0AAQo6I6Z1",
        "colab": {
          "base_uri": "https://localhost:8080/"
        },
        "outputId": "cbbc3f81-6f04-4f32-a63e-6725d7b197be"
      },
      "source": [
        "def one_hot_encoding(corpus):\n",
        "  vocab = get_vocab(corpus)\n",
        "  result = np.zeros(shape=(len(corpus),len(vocab)))\n",
        "  for i,e in enumerate(corpus):\n",
        "    result[i]=np.max(vocab.reshape((1,-1)) == np.array(e.split()).reshape((-1,1)),axis=0)\n",
        "  return result\n",
        "\n",
        "one_hot_encoding(corpus)"
      ],
      "execution_count": 7,
      "outputs": [
        {
          "output_type": "execute_result",
          "data": {
            "text/plain": [
              "array([[1., 0., 0., 0., 0., 1., 1., 1., 0.],\n",
              "       [0., 1., 1., 0., 1., 1., 1., 1., 0.],\n",
              "       [0., 1., 0., 1., 0., 0., 0., 0., 1.]])"
            ]
          },
          "metadata": {},
          "execution_count": 7
        }
      ]
    },
    {
      "cell_type": "markdown",
      "metadata": {
        "id": "IIyWGmCpJVQL"
      },
      "source": [
        "### 3- Vectores de frecuencia\n",
        "Data una lista de textos, devolver una matriz con la representación de frecuencia de estos"
      ]
    },
    {
      "cell_type": "code",
      "metadata": {
        "colab": {
          "base_uri": "https://localhost:8080/"
        },
        "id": "wAX9l3L4_2Ye",
        "outputId": "87c7d050-a6fc-45f1-e483-0d2ff3892200"
      },
      "source": [
        "def frequency_vector(corpus):\n",
        "  vocab = get_vocab(corpus)\n",
        "  result = np.zeros(shape=(len(corpus),len(vocab)))\n",
        "  for i,e in enumerate(corpus):\n",
        "    result[i]=np.sum(vocab.reshape((1,-1)) == np.array(e.split()).reshape((-1,1)),axis=0)\n",
        "  return result\n",
        "\n",
        "frequency_vector(corpus)"
      ],
      "execution_count": 8,
      "outputs": [
        {
          "output_type": "execute_result",
          "data": {
            "text/plain": [
              "array([[1., 0., 0., 0., 0., 1., 1., 1., 0.],\n",
              "       [0., 2., 1., 0., 1., 1., 1., 1., 0.],\n",
              "       [0., 1., 0., 1., 0., 0., 0., 0., 1.]])"
            ]
          },
          "metadata": {},
          "execution_count": 8
        }
      ]
    },
    {
      "cell_type": "markdown",
      "metadata": {
        "id": "z_Ot8HvWJcBu"
      },
      "source": [
        "### 4- TF-IDF\n",
        "Data una lista de textos, devolver una matriz con la representacion TFIDF"
      ]
    },
    {
      "cell_type": "code",
      "metadata": {
        "colab": {
          "base_uri": "https://localhost:8080/"
        },
        "id": "rQn5iuO68FTP",
        "outputId": "199eeeea-30df-49bb-9112-c1063cacf754"
      },
      "source": [
        "def tf_idf(corpus):\n",
        "  vocab = get_vocab(corpus)\n",
        "  # multiple vocab calculation on tf and one hot. \n",
        "  # Inline code to improve performance?\n",
        "  tf = frequency_vector(corpus) \n",
        "  one_hot = one_hot_encoding(corpus)\n",
        "  idf = np.log10(tf.shape[0]/np.sum(one_hot,axis=0))\n",
        "  tf_idf = tf * idf\n",
        "  return tf_idf\n",
        "\n",
        "tf_idf(corpus)"
      ],
      "execution_count": 9,
      "outputs": [
        {
          "output_type": "execute_result",
          "data": {
            "text/plain": [
              "array([[0.47712125, 0.        , 0.        , 0.        , 0.        ,\n",
              "        0.17609126, 0.17609126, 0.17609126, 0.        ],\n",
              "       [0.        , 0.35218252, 0.47712125, 0.        , 0.47712125,\n",
              "        0.17609126, 0.17609126, 0.17609126, 0.        ],\n",
              "       [0.        , 0.17609126, 0.        , 0.47712125, 0.        ,\n",
              "        0.        , 0.        , 0.        , 0.47712125]])"
            ]
          },
          "metadata": {},
          "execution_count": 9
        }
      ]
    },
    {
      "cell_type": "markdown",
      "metadata": {
        "id": "xMcsfndWJjm_"
      },
      "source": [
        "### 5 - Comparación de documentos\n",
        "Realizar una funcion que reciba el corpus y el índice de un documento y devuelva los documentos ordenados por la similitud coseno"
      ]
    },
    {
      "cell_type": "code",
      "metadata": {
        "id": "CZdiop6IJpZN"
      },
      "source": [
        "def doc_order(corpus, index):\n",
        "  vocab = get_vocab(corpus)\n",
        "  order_idx = np.zeros(len(corpus))\n",
        "  tf_table = tf_idf(corpus)\n",
        "\n",
        "  for i,e in enumerate(corpus):\n",
        "    order_idx[i] = cosine_similarity(tf_table[index],tf_table[i])\n",
        "\n",
        "  result = corpus[np.argsort(order_idx)][::-1]\n",
        "\n",
        "  return result"
      ],
      "execution_count": 10,
      "outputs": []
    },
    {
      "cell_type": "code",
      "metadata": {
        "colab": {
          "base_uri": "https://localhost:8080/"
        },
        "id": "cmdwL_tiBsTa",
        "outputId": "e0a7c28e-ea01-4de8-c257-54f2e9be089d"
      },
      "source": [
        "doc_order(corpus, 1)"
      ],
      "execution_count": 11,
      "outputs": [
        {
          "output_type": "execute_result",
          "data": {
            "text/plain": [
              "array(['martes el dia de hoy es martes', 'que dia es hoy',\n",
              "       'martes muchas gracias'], dtype='<U30')"
            ]
          },
          "metadata": {},
          "execution_count": 11
        }
      ]
    }
  ]
}