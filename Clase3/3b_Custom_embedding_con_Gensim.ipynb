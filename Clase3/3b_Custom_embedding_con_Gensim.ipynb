{
  "nbformat": 4,
  "nbformat_minor": 0,
  "metadata": {
    "colab": {
      "name": "Copia de 3b - Custom embedding con Gensim",
      "provenance": [],
      "collapsed_sections": []
    },
    "kernelspec": {
      "name": "python3",
      "display_name": "Python 3"
    }
  },
  "cells": [
    {
      "cell_type": "markdown",
      "metadata": {
        "id": "sZd5yLnnHOK0"
      },
      "source": [
        "<a href=\"https://www.inove.com.ar\"><img src=\"https://github.com/hernancontigiani/ceia_memorias_especializacion/raw/master/Figures/logoFIUBA.jpg\" width=\"500\" align=\"center\"></a>\n",
        "\n",
        "\n",
        "# Procesamiento de lenguaje natural\n",
        "## Custom embedddings con Gensim\n",
        "\n"
      ]
    },
    {
      "cell_type": "markdown",
      "metadata": {
        "id": "vA7nqkumo9z9"
      },
      "source": [
        "### Objetivo\n",
        "El objetivo es utilizar documentos / corpus para crear embeddings de palabras basado en ese contexto. Se utilizará canciones de bandas para generar los embeddings, es decir, que los vectores tendrán la forma en función de como esa banda haya utilizado las palabras en sus canciones."
      ]
    },
    {
      "cell_type": "code",
      "metadata": {
        "id": "lFToQs5FK5uZ",
        "colab": {
          "base_uri": "https://localhost:8080/"
        },
        "outputId": "56daa8d3-6a88-4048-b14c-6e94c936c2bc"
      },
      "source": [
        "import pandas as pd\n",
        "import matplotlib.pyplot as plt\n",
        "import seaborn as sns\n",
        "\n",
        "import re\n",
        "import nltk\n",
        "# Descargar el diccionario\n",
        "nltk.download(\"punkt\")\n",
        "nltk.download(\"wordnet\")\n",
        "\n",
        "import multiprocessing\n",
        "from gensim.models import Word2Vec"
      ],
      "execution_count": 1,
      "outputs": [
        {
          "output_type": "stream",
          "name": "stdout",
          "text": [
            "[nltk_data] Downloading package punkt to /root/nltk_data...\n",
            "[nltk_data]   Package punkt is already up-to-date!\n",
            "[nltk_data] Downloading package wordnet to /root/nltk_data...\n",
            "[nltk_data]   Package wordnet is already up-to-date!\n"
          ]
        }
      ]
    },
    {
      "cell_type": "markdown",
      "metadata": {
        "id": "g07zJxG7H9vG"
      },
      "source": [
        "### Datos\n",
        "Utilizaremos como dataset discursos políticos de la ex presidenta Cristina Cristina Fernández de Kirchner. La idea es no entrar en ideologías ni discusiones políticas sino ver que palabras relaciona \"más\" el modelo a palabras claves y también como esto se modifica en los discursos de dos años (2008 y 2017).\n",
        "\n",
        "La selección de la persona fue únicamente por su capacidad como oradora y por la disponibilidad de los datos."
      ]
    },
    {
      "cell_type": "code",
      "metadata": {
        "id": "R7YYDAy8m5C_"
      },
      "source": [
        "#Carga de datos\n",
        "with open('/content/texto2008.txt', 'r') as file:\n",
        "  raw_discursos_2008 = file.read()\n",
        "\n",
        "with open('/content/texto2017.txt', 'r') as file:\n",
        "  raw_discursos_2017 = file.read()\n"
      ],
      "execution_count": 2,
      "outputs": []
    },
    {
      "cell_type": "code",
      "metadata": {
        "id": "6P6lGr1fprT6"
      },
      "source": [
        "def clean_text(raw_text):\n",
        "  text=list(filter(bool, raw_text.split('.')))\n",
        "  return text"
      ],
      "execution_count": 3,
      "outputs": []
    },
    {
      "cell_type": "code",
      "metadata": {
        "colab": {
          "base_uri": "https://localhost:8080/"
        },
        "id": "DplTTMZymiDq",
        "outputId": "38ad405f-0f79-4e76-fcc0-2af2541036ed"
      },
      "source": [
        "discursos_2008 = clean_text(raw_discursos_2008)\n",
        "print(\"Cantidad de documentos 2008:\", len(discursos_2008))\n",
        "print(discursos_2008[0])"
      ],
      "execution_count": 4,
      "outputs": [
        {
          "output_type": "stream",
          "name": "stdout",
          "text": [
            "Cantidad de documentos 2008: 406\n",
            "Muy buenas tardes a todos y a todas; señores gobernadores, señores legisladores; señores dirigentes sindicales; señor Secretario General de la CTA; señor Secretario General de la CGT: en principio pedir disculpas a todos ustedes por estar aquí muy apretados en esta carpa, pero fue una decisión de esta presidenta que este acto tuviera lugar aquí, en el ANSES, no es una casualidad, no es un capricho, es simplemente la decisión de también a través de lo simbólico saber que hoy estamos decidiendo sobre el patrimonio de los jubilados de nuestro país, y el patrimonio de los jubilados de nuestro país no tenía por qué estar en el Salón Blanco de la Casa de Gobierno, tenía que estar aquí en el ANSES, en su natural lugar\n"
          ]
        }
      ]
    },
    {
      "cell_type": "code",
      "metadata": {
        "colab": {
          "base_uri": "https://localhost:8080/"
        },
        "id": "0v6GmfkRqLqw",
        "outputId": "a6db15e1-a9cb-4fee-e0e9-c9f4fe814d02"
      },
      "source": [
        "discursos_2017 = clean_text(raw_discursos_2017)\n",
        "print(\"Cantidad de documentos 2008:\", len(discursos_2017))\n",
        "print(discursos_2017[0])"
      ],
      "execution_count": 5,
      "outputs": [
        {
          "output_type": "stream",
          "name": "stdout",
          "text": [
            "Cantidad de documentos 2008: 616\n",
            "Muchas gracias a todos, a todas trabajadores y trabajadoras de prensa\n"
          ]
        }
      ]
    },
    {
      "cell_type": "markdown",
      "metadata": {
        "id": "rreWxobZtXPu"
      },
      "source": [
        "### Discursos 2008"
      ]
    },
    {
      "cell_type": "markdown",
      "metadata": {
        "id": "ab94qaFlrA1G"
      },
      "source": [
        "#### 1 - Preprocesamiento"
      ]
    },
    {
      "cell_type": "code",
      "metadata": {
        "id": "rIsmMWmjrDHd"
      },
      "source": [
        "from keras.preprocessing.text import text_to_word_sequence\n",
        "\n",
        "sentence_tokens = []\n",
        "# Recorrer todas las filas y transformar las oraciones\n",
        "# en una secuencia de palabras (esto podría realizarse con NLTK o spaCy también)\n",
        "for row in discursos_2008:\n",
        "    sentence_tokens.append(text_to_word_sequence(row))"
      ],
      "execution_count": 6,
      "outputs": []
    },
    {
      "cell_type": "code",
      "metadata": {
        "id": "CHepi_DGrbhq",
        "colab": {
          "base_uri": "https://localhost:8080/"
        },
        "outputId": "73ad258e-fefa-4d2d-c92b-ae113bfaf20e"
      },
      "source": [
        "# Demos un vistazo\n",
        "sentence_tokens[0][0:5]"
      ],
      "execution_count": 7,
      "outputs": [
        {
          "output_type": "execute_result",
          "data": {
            "text/plain": [
              "['muy', 'buenas', 'tardes', 'a', 'todos']"
            ]
          },
          "metadata": {},
          "execution_count": 7
        }
      ]
    },
    {
      "cell_type": "markdown",
      "metadata": {
        "id": "BaXV6nlHr5Aa"
      },
      "source": [
        "#### 2 - Crear los vectores (word2vec)"
      ]
    },
    {
      "cell_type": "code",
      "metadata": {
        "id": "OSb0v7h8r7hK"
      },
      "source": [
        "from gensim.models.callbacks import CallbackAny2Vec\n",
        "# Durante el entrenamiento gensim por defecto no informa el \"loss\" en cada época\n",
        "# Sobracargamos el callback para poder tener esta información\n",
        "class callback(CallbackAny2Vec):\n",
        "    \"\"\"\n",
        "    Callback to print loss after each epoch\n",
        "    \"\"\"\n",
        "    def __init__(self):\n",
        "        self.epoch = 0\n",
        "\n",
        "    def on_epoch_end(self, model):\n",
        "        loss = model.get_latest_training_loss()\n",
        "        if self.epoch == 0:\n",
        "            print('Loss after epoch {}: {}'.format(self.epoch, loss))\n",
        "        else:\n",
        "            print('Loss after epoch {}: {}'.format(self.epoch, loss- self.loss_previous_step))\n",
        "        self.epoch += 1\n",
        "        self.loss_previous_step = loss"
      ],
      "execution_count": 8,
      "outputs": []
    },
    {
      "cell_type": "code",
      "metadata": {
        "id": "i0wnDdv9sJ47"
      },
      "source": [
        "# Crearmos el modelo generador de vectoeres\n",
        "# En este caso utilizaremos la estructura modelo Skipgram\n",
        "w2v_model = Word2Vec(min_count=5,    # frecuencia mínima de palabra para incluirla en el vocabulario\n",
        "                     window=2,       # cant de palabras antes y desp de la predicha\n",
        "                     size=300,       # dimensionalidad de los vectores \n",
        "                     negative=20,    # cantidad de negative samples... 0 es no se usa\n",
        "                     workers=1,      # si tienen más cores pueden cambiar este valor\n",
        "                     sg=1)           # modelo 0:CBOW  1:skipgram"
      ],
      "execution_count": 9,
      "outputs": []
    },
    {
      "cell_type": "code",
      "metadata": {
        "id": "5lTt8wErsf17"
      },
      "source": [
        "# Buildear el vocabularui con los tokens\n",
        "w2v_model.build_vocab(sentence_tokens)"
      ],
      "execution_count": 10,
      "outputs": []
    },
    {
      "cell_type": "code",
      "metadata": {
        "id": "TNc9qt4os5AT",
        "colab": {
          "base_uri": "https://localhost:8080/"
        },
        "outputId": "c610b831-872d-4bb8-c64e-ad53048bde2c"
      },
      "source": [
        "# Cantidad de filas/docs encontradas en el corpus\n",
        "print(\"Cantidad de docs en el corpus:\", w2v_model.corpus_count)"
      ],
      "execution_count": 11,
      "outputs": [
        {
          "output_type": "stream",
          "name": "stdout",
          "text": [
            "Cantidad de docs en el corpus: 406\n"
          ]
        }
      ]
    },
    {
      "cell_type": "code",
      "metadata": {
        "id": "idw9cHF3tSMl",
        "colab": {
          "base_uri": "https://localhost:8080/"
        },
        "outputId": "54de4300-2e35-40f1-c956-712f2eec9e57"
      },
      "source": [
        "# Cantidad de words encontradas en el corpus\n",
        "print(\"Cantidad de words distintas en el corpus:\", len(w2v_model.wv.vocab))"
      ],
      "execution_count": 12,
      "outputs": [
        {
          "output_type": "stream",
          "name": "stdout",
          "text": [
            "Cantidad de words distintas en el corpus: 515\n"
          ]
        }
      ]
    },
    {
      "cell_type": "markdown",
      "metadata": {
        "id": "fC9mZ8DPk-UC"
      },
      "source": [
        "#### 3 - Entrenar el modelo generador"
      ]
    },
    {
      "cell_type": "code",
      "metadata": {
        "id": "QSp-x0PAsq56",
        "colab": {
          "base_uri": "https://localhost:8080/"
        },
        "outputId": "9f0115a3-3a16-4503-c534-38ebeb67188f"
      },
      "source": [
        "# Entrenamos el modelo generador de vectores\n",
        "# Utilizamos nuestro callback\n",
        "w2v_model.train(sentence_tokens,\n",
        "                 total_examples=w2v_model.corpus_count,\n",
        "                 epochs=20,\n",
        "                 compute_loss = True,\n",
        "                 callbacks=[callback()]\n",
        "                 )"
      ],
      "execution_count": 13,
      "outputs": [
        {
          "output_type": "stream",
          "name": "stdout",
          "text": [
            "Loss after epoch 0: 156263.609375\n",
            "Loss after epoch 1: 88927.875\n",
            "Loss after epoch 2: 88877.140625\n",
            "Loss after epoch 3: 88741.71875\n",
            "Loss after epoch 4: 88302.59375\n",
            "Loss after epoch 5: 88735.125\n",
            "Loss after epoch 6: 89245.875\n",
            "Loss after epoch 7: 90873.9375\n",
            "Loss after epoch 8: 91188.1875\n",
            "Loss after epoch 9: 90814.375\n",
            "Loss after epoch 10: 88131.5625\n",
            "Loss after epoch 11: 79804.5\n",
            "Loss after epoch 12: 79523.125\n",
            "Loss after epoch 13: 78616.625\n",
            "Loss after epoch 14: 78926.75\n",
            "Loss after epoch 15: 77958.0\n",
            "Loss after epoch 16: 77403.375\n",
            "Loss after epoch 17: 77769.625\n",
            "Loss after epoch 18: 77877.875\n",
            "Loss after epoch 19: 77592.625\n"
          ]
        },
        {
          "output_type": "execute_result",
          "data": {
            "text/plain": [
              "(157045, 350800)"
            ]
          },
          "metadata": {},
          "execution_count": 13
        }
      ]
    },
    {
      "cell_type": "markdown",
      "metadata": {
        "id": "ddT9NVuNlCAe"
      },
      "source": [
        "#### 4 - Ensayar"
      ]
    },
    {
      "cell_type": "code",
      "metadata": {
        "id": "6cHN9xGLuPEm",
        "colab": {
          "base_uri": "https://localhost:8080/"
        },
        "outputId": "fd4a51e1-22c7-45fc-a413-aec187f61da7"
      },
      "source": [
        "# Palabras que MÁS se relacionan con...:\n",
        "w2v_model.wv.most_similar(positive=[\"argentina\"], topn=10)"
      ],
      "execution_count": 14,
      "outputs": [
        {
          "output_type": "execute_result",
          "data": {
            "text/plain": [
              "[('la', 0.973285973072052),\n",
              " ('república', 0.9716184139251709),\n",
              " ('hermana', 0.9457426071166992),\n",
              " ('presidente', 0.937554121017456),\n",
              " ('en', 0.9269363880157471),\n",
              " ('bolivia', 0.925162136554718),\n",
              " ('nuestra', 0.9159132242202759),\n",
              " ('américa', 0.9137928485870361),\n",
              " ('mi', 0.9125527143478394),\n",
              " ('donde', 0.9124279022216797)]"
            ]
          },
          "metadata": {},
          "execution_count": 14
        }
      ]
    },
    {
      "cell_type": "markdown",
      "metadata": {
        "id": "zqXOWnqOu5qq"
      },
      "source": [
        "Notamos gran presencia de las palabra república lo cual era esperable."
      ]
    },
    {
      "cell_type": "code",
      "metadata": {
        "id": "47HiU5gdkdMq",
        "colab": {
          "base_uri": "https://localhost:8080/"
        },
        "outputId": "87830b5e-234d-4d20-a298-73448bb96fb6"
      },
      "source": [
        "# Palabras que MENOS se relacionan con...:\n",
        "w2v_model.wv.most_similar(negative=[\"argentino\"], topn=10)"
      ],
      "execution_count": 15,
      "outputs": [
        {
          "output_type": "execute_result",
          "data": {
            "text/plain": [
              "[('tal', -0.6362572312355042),\n",
              " ('vez', -0.6623671054840088),\n",
              " ('muchas', -0.6909328699111938),\n",
              " ('cada', -0.7149629592895508),\n",
              " ('gracias', -0.720418393611908),\n",
              " ('sus', -0.7263839244842529),\n",
              " ('uno', -0.7461254000663757),\n",
              " ('materia', -0.7561880946159363),\n",
              " ('veces', -0.7900851964950562),\n",
              " ('los', -0.805310845375061)]"
            ]
          },
          "metadata": {},
          "execution_count": 15
        }
      ]
    },
    {
      "cell_type": "code",
      "metadata": {
        "id": "DT4Rvno2mD65",
        "colab": {
          "base_uri": "https://localhost:8080/"
        },
        "outputId": "94bb2e21-602c-4439-f33a-dd3257b8213e"
      },
      "source": [
        "# Palabras que MÁS se relacionan con...:\n",
        "w2v_model.wv.most_similar(positive=[\"política\"], topn=10)"
      ],
      "execution_count": 16,
      "outputs": [
        {
          "output_type": "execute_result",
          "data": {
            "text/plain": [
              "[('económica', 0.9939993023872375),\n",
              " ('viene', 0.9909510612487793),\n",
              " ('distribución', 0.9908921122550964),\n",
              " ('definitiva', 0.9901146292686462),\n",
              " ('mercosur', 0.9899274110794067),\n",
              " ('memoria', 0.9898775219917297),\n",
              " ('anses', 0.9896991848945618),\n",
              " ('inequidad', 0.9894982576370239),\n",
              " ('pensamos', 0.9894669055938721),\n",
              " ('internacional', 0.9893531203269958)]"
            ]
          },
          "metadata": {},
          "execution_count": 16
        }
      ]
    },
    {
      "cell_type": "markdown",
      "metadata": {
        "id": "hTuuZk6tve-q"
      },
      "source": [
        "En este apartado hay conexiones interesantes como económica, distribución e inequidad."
      ]
    },
    {
      "cell_type": "markdown",
      "metadata": {
        "id": "_g8UVWe6lFmh"
      },
      "source": [
        "#### 5 - Visualizar agrupación de vectores"
      ]
    },
    {
      "cell_type": "code",
      "metadata": {
        "id": "pDxEVXAivjr9"
      },
      "source": [
        "from sklearn.decomposition import IncrementalPCA    \n",
        "from sklearn.manifold import TSNE                   \n",
        "import numpy as np                                  \n",
        "\n",
        "def reduce_dimensions(model):\n",
        "    num_dimensions = 2  \n",
        "\n",
        "    vectors = np.asarray(model.wv.vectors)\n",
        "    labels = np.asarray(model.wv.index2word)  \n",
        "\n",
        "    tsne = TSNE(n_components=num_dimensions, random_state=0)\n",
        "    vectors = tsne.fit_transform(vectors)\n",
        "\n",
        "    x_vals = [v[0] for v in vectors]\n",
        "    y_vals = [v[1] for v in vectors]\n",
        "    return x_vals, y_vals, labels"
      ],
      "execution_count": 17,
      "outputs": []
    },
    {
      "cell_type": "code",
      "metadata": {
        "id": "NCCXtDpcugmd",
        "colab": {
          "base_uri": "https://localhost:8080/",
          "height": 542
        },
        "outputId": "d0cc227e-de82-4f0f-ec2a-65b29c4ce7b3"
      },
      "source": [
        "# Graficar los embedddings en 2D\n",
        "import plotly.graph_objects as go\n",
        "import plotly.express as px\n",
        "\n",
        "x_vals, y_vals, labels = reduce_dimensions(w2v_model)\n",
        "\n",
        "MAX_WORDS=100\n",
        "fig = px.scatter(x=x_vals[:MAX_WORDS], y=y_vals[:MAX_WORDS], text=labels[:MAX_WORDS])\n",
        "fig.show(renderer=\"colab\") # esto para plotly en colab\n"
      ],
      "execution_count": 18,
      "outputs": [
        {
          "output_type": "display_data",
          "data": {
            "text/html": [
              "<html>\n",
              "<head><meta charset=\"utf-8\" /></head>\n",
              "<body>\n",
              "    <div>\n",
              "            <script src=\"https://cdnjs.cloudflare.com/ajax/libs/mathjax/2.7.5/MathJax.js?config=TeX-AMS-MML_SVG\"></script><script type=\"text/javascript\">if (window.MathJax) {MathJax.Hub.Config({SVG: {font: \"STIX-Web\"}});}</script>\n",
              "                <script type=\"text/javascript\">window.PlotlyConfig = {MathJaxConfig: 'local'};</script>\n",
              "        <script src=\"https://cdn.plot.ly/plotly-latest.min.js\"></script>    \n",
              "            <div id=\"12a800e7-321a-4a94-9a54-363a2f443921\" class=\"plotly-graph-div\" style=\"height:525px; width:100%;\"></div>\n",
              "            <script type=\"text/javascript\">\n",
              "                \n",
              "                    window.PLOTLYENV=window.PLOTLYENV || {};\n",
              "                    \n",
              "                if (document.getElementById(\"12a800e7-321a-4a94-9a54-363a2f443921\")) {\n",
              "                    Plotly.newPlot(\n",
              "                        '12a800e7-321a-4a94-9a54-363a2f443921',\n",
              "                        [{\"hoverlabel\": {\"namelength\": 0}, \"hovertemplate\": \"x=%{x}<br>y=%{y}<br>text=%{text}\", \"legendgroup\": \"\", \"marker\": {\"color\": \"#636efa\", \"symbol\": \"circle\"}, \"mode\": \"markers+text\", \"name\": \"\", \"showlegend\": false, \"text\": [\"de\", \"que\", \"la\", \"y\", \"a\", \"en\", \"el\", \"los\", \"no\", \"un\", \"es\", \"lo\", \"por\", \"las\", \"con\", \"una\", \"del\", \"se\", \"todos\", \"para\", \"m\\u00e1s\", \"tambi\\u00e9n\", \"pero\", \"porque\", \"como\", \"esta\", \"argentinos\", \"al\", \"este\", \"cuando\", \"o\", \"me\", \"pa\\u00eds\", \"ha\", \"vez\", \"yo\", \"nos\", \"uno\", \"quiero\", \"argentina\", \"creo\", \"ser\", \"hoy\", \"tal\", \"siempre\", \"qu\\u00e9\", \"son\", \"aqu\\u00ed\", \"estado\", \"ustedes\", \"mundo\", \"cada\", \"muy\", \"han\", \"mi\", \"si\", \"puede\", \"tiene\", \"trabajo\", \"hemos\", \"est\\u00e1\", \"esto\", \"sino\", \"muchas\", \"nosotros\", \"tener\", \"sus\", \"materia\", \"hace\", \"precisamente\", \"pa\\u00edses\", \"fue\", \"donde\", \"historia\", \"desde\", \"rep\\u00fablica\", \"estamos\", \"ese\", \"acuerdo\", \"eso\", \"alimentos\", \"su\", \"tenemos\", \"otro\", \"entonces\", \"todas\", \"todo\", \"sin\", \"mucho\", \"pol\\u00edtica\", \"entre\", \"sector\", \"adem\\u00e1s\", \"esa\", \"solamente\", \"hay\", \"mujeres\", \"pueblo\", \"le\", \"a\\u00f1os\"], \"type\": \"scatter\", \"x\": [-8.74427318572998, 9.89118766784668, -17.47010040283203, 20.203628540039062, 21.10225486755371, -10.393802642822266, -20.83822250366211, 22.835468292236328, 5.647940635681152, -9.613176345825195, 7.5616888999938965, 8.424322128295898, 11.82466983795166, 19.236841201782227, 9.030876159667969, -1.3964296579360962, -15.787437438964844, -19.321979522705078, 22.24897575378418, 17.452472686767578, 18.452341079711914, 17.11516571044922, 7.923121929168701, 9.256999969482422, -10.285826683044434, -6.511656284332275, 22.660259246826172, -21.180452346801758, -17.4272403717041, 4.4459686279296875, 16.40143394470215, 5.972348213195801, -23.54640007019043, -20.088356018066406, 1.6441158056259155, 11.826910018920898, 10.788257598876953, 6.499456405639648, 21.612253189086914, -18.05790138244629, 11.2481689453125, 6.007440567016602, -8.822375297546387, 18.8597354888916, 4.289154052734375, 5.270115375518799, 18.787872314453125, -18.422412872314453, -18.416751861572266, 18.862613677978516, -19.650218963623047, 6.522185802459717, 10.071525573730469, -18.67601203918457, -23.490673065185547, 6.6261725425720215, 5.965816497802734, 7.3234710693359375, 1.3501054048538208, 2.787869453430176, 4.232578277587891, 7.908670902252197, -17.24391746520996, 20.865270614624023, 20.27214241027832, 9.891365051269531, 9.375398635864258, -7.399716854095459, -13.96212387084961, -7.49088716506958, 13.259251594543457, -21.534799575805664, -15.66064453125, -21.721940994262695, -18.07819938659668, -18.167896270751953, -8.756499290466309, -8.889020919799805, -5.265370845794678, 9.163928985595703, -6.545575141906738, -11.589871406555176, 11.13047981262207, 2.754572629928589, 8.471055030822754, 19.165456771850586, -19.548187255859375, 15.106996536254883, 14.954202651977539, -21.035221099853516, -12.652488708496094, 2.2223918437957764, 4.877182960510254, -11.451873779296875, -0.13303720951080322, 8.971063613891602, 21.486663818359375, -19.741649627685547, 3.363926410675049, -6.489472389221191], \"xaxis\": \"x\", \"y\": [22.50852394104004, -22.335525512695312, 20.59971046447754, 3.4112377166748047, -1.2263773679733276, 21.913740158081055, 15.443778991699219, 1.2437877655029297, -19.98444175720215, -9.677050590515137, -24.78739356994629, -25.158493041992188, 0.9355082511901855, 6.19317626953125, 14.536982536315918, -17.50556755065918, 20.661447525024414, 2.226168394088745, 0.38267266750335693, 0.7394066452980042, -12.761995315551758, -2.6887974739074707, -20.52657699584961, -18.086950302124023, -15.395695686340332, 12.054176330566406, 0.9694417715072632, 16.1303653717041, 6.910139560699463, -25.131696701049805, -12.611037254333496, -17.127723693847656, 14.154130935668945, 2.064028263092041, -19.911983489990234, -18.16409683227539, -16.782230377197266, -28.342010498046875, -2.2437527179718018, 21.101579666137695, -20.432931900024414, -24.594152450561523, -20.520103454589844, -13.198609352111816, -19.754867553710938, -26.213245391845703, 1.4136561155319214, 12.20507526397705, 14.841758728027344, -0.22055937349796295, 17.24915885925293, -28.389474868774414, -18.55303955078125, -5.057869911193848, 14.146092414855957, -18.27287483215332, -25.46976661682129, -23.638219833374023, 6.790600776672363, 11.58717155456543, -27.1658935546875, -22.885910034179688, 8.398097038269043, -5.98710298538208, -2.6472718715667725, -21.233137130737305, 14.76800537109375, 24.148107528686523, 4.30123233795166, 15.24731159210205, 12.486040115356445, 3.821838617324829, 16.890230178833008, 3.8300390243530273, 10.564129829406738, 21.244827270507812, -20.493452072143555, -9.614090919494629, -14.064492225646973, -12.557290077209473, 23.574539184570312, -1.3668324947357178, -19.552982330322266, -27.250749588012695, -21.024860382080078, 5.653713703155518, 16.359174728393555, -6.221808910369873, -9.21888256072998, 8.584332466125488, -6.559422492980957, -24.785398483276367, -19.036386489868164, 10.849940299987793, -15.958600997924805, -18.97650146484375, 4.4146952629089355, 15.21094036102295, -26.655452728271484, 16.597318649291992], \"yaxis\": \"y\"}],\n",
              "                        {\"legend\": {\"tracegroupgap\": 0}, \"margin\": {\"t\": 60}, \"template\": {\"data\": {\"bar\": [{\"error_x\": {\"color\": \"#2a3f5f\"}, \"error_y\": {\"color\": \"#2a3f5f\"}, \"marker\": {\"line\": {\"color\": \"#E5ECF6\", \"width\": 0.5}}, \"type\": \"bar\"}], \"barpolar\": [{\"marker\": {\"line\": {\"color\": \"#E5ECF6\", \"width\": 0.5}}, \"type\": \"barpolar\"}], \"carpet\": [{\"aaxis\": {\"endlinecolor\": \"#2a3f5f\", \"gridcolor\": \"white\", \"linecolor\": \"white\", \"minorgridcolor\": \"white\", \"startlinecolor\": \"#2a3f5f\"}, \"baxis\": {\"endlinecolor\": \"#2a3f5f\", \"gridcolor\": \"white\", \"linecolor\": \"white\", \"minorgridcolor\": \"white\", \"startlinecolor\": \"#2a3f5f\"}, \"type\": \"carpet\"}], \"choropleth\": [{\"colorbar\": {\"outlinewidth\": 0, \"ticks\": \"\"}, \"type\": \"choropleth\"}], \"contour\": [{\"colorbar\": {\"outlinewidth\": 0, \"ticks\": \"\"}, \"colorscale\": [[0.0, \"#0d0887\"], [0.1111111111111111, \"#46039f\"], [0.2222222222222222, \"#7201a8\"], [0.3333333333333333, \"#9c179e\"], [0.4444444444444444, \"#bd3786\"], [0.5555555555555556, \"#d8576b\"], [0.6666666666666666, \"#ed7953\"], [0.7777777777777778, \"#fb9f3a\"], [0.8888888888888888, \"#fdca26\"], [1.0, \"#f0f921\"]], \"type\": \"contour\"}], \"contourcarpet\": [{\"colorbar\": {\"outlinewidth\": 0, \"ticks\": \"\"}, \"type\": \"contourcarpet\"}], \"heatmap\": [{\"colorbar\": {\"outlinewidth\": 0, \"ticks\": \"\"}, \"colorscale\": [[0.0, \"#0d0887\"], [0.1111111111111111, \"#46039f\"], [0.2222222222222222, \"#7201a8\"], [0.3333333333333333, \"#9c179e\"], [0.4444444444444444, \"#bd3786\"], [0.5555555555555556, \"#d8576b\"], [0.6666666666666666, \"#ed7953\"], [0.7777777777777778, \"#fb9f3a\"], [0.8888888888888888, \"#fdca26\"], [1.0, \"#f0f921\"]], \"type\": \"heatmap\"}], \"heatmapgl\": [{\"colorbar\": {\"outlinewidth\": 0, \"ticks\": \"\"}, \"colorscale\": [[0.0, \"#0d0887\"], [0.1111111111111111, \"#46039f\"], [0.2222222222222222, \"#7201a8\"], [0.3333333333333333, \"#9c179e\"], [0.4444444444444444, \"#bd3786\"], [0.5555555555555556, \"#d8576b\"], [0.6666666666666666, \"#ed7953\"], [0.7777777777777778, \"#fb9f3a\"], [0.8888888888888888, \"#fdca26\"], [1.0, \"#f0f921\"]], \"type\": \"heatmapgl\"}], \"histogram\": [{\"marker\": {\"colorbar\": {\"outlinewidth\": 0, \"ticks\": \"\"}}, \"type\": \"histogram\"}], \"histogram2d\": [{\"colorbar\": {\"outlinewidth\": 0, \"ticks\": \"\"}, \"colorscale\": [[0.0, \"#0d0887\"], [0.1111111111111111, \"#46039f\"], [0.2222222222222222, \"#7201a8\"], [0.3333333333333333, \"#9c179e\"], [0.4444444444444444, \"#bd3786\"], [0.5555555555555556, \"#d8576b\"], [0.6666666666666666, \"#ed7953\"], [0.7777777777777778, \"#fb9f3a\"], [0.8888888888888888, \"#fdca26\"], [1.0, \"#f0f921\"]], \"type\": \"histogram2d\"}], \"histogram2dcontour\": [{\"colorbar\": {\"outlinewidth\": 0, \"ticks\": \"\"}, \"colorscale\": [[0.0, \"#0d0887\"], [0.1111111111111111, \"#46039f\"], [0.2222222222222222, \"#7201a8\"], [0.3333333333333333, \"#9c179e\"], [0.4444444444444444, \"#bd3786\"], [0.5555555555555556, \"#d8576b\"], [0.6666666666666666, \"#ed7953\"], [0.7777777777777778, \"#fb9f3a\"], [0.8888888888888888, \"#fdca26\"], [1.0, \"#f0f921\"]], \"type\": \"histogram2dcontour\"}], \"mesh3d\": [{\"colorbar\": {\"outlinewidth\": 0, \"ticks\": \"\"}, \"type\": \"mesh3d\"}], \"parcoords\": [{\"line\": {\"colorbar\": {\"outlinewidth\": 0, \"ticks\": \"\"}}, \"type\": \"parcoords\"}], \"pie\": [{\"automargin\": true, \"type\": \"pie\"}], \"scatter\": [{\"marker\": {\"colorbar\": {\"outlinewidth\": 0, \"ticks\": \"\"}}, \"type\": \"scatter\"}], \"scatter3d\": [{\"line\": {\"colorbar\": {\"outlinewidth\": 0, \"ticks\": \"\"}}, \"marker\": {\"colorbar\": {\"outlinewidth\": 0, \"ticks\": \"\"}}, \"type\": \"scatter3d\"}], \"scattercarpet\": [{\"marker\": {\"colorbar\": {\"outlinewidth\": 0, \"ticks\": \"\"}}, \"type\": \"scattercarpet\"}], \"scattergeo\": [{\"marker\": {\"colorbar\": {\"outlinewidth\": 0, \"ticks\": \"\"}}, \"type\": \"scattergeo\"}], \"scattergl\": [{\"marker\": {\"colorbar\": {\"outlinewidth\": 0, \"ticks\": \"\"}}, \"type\": \"scattergl\"}], \"scattermapbox\": [{\"marker\": {\"colorbar\": {\"outlinewidth\": 0, \"ticks\": \"\"}}, \"type\": \"scattermapbox\"}], \"scatterpolar\": [{\"marker\": {\"colorbar\": {\"outlinewidth\": 0, \"ticks\": \"\"}}, \"type\": \"scatterpolar\"}], \"scatterpolargl\": [{\"marker\": {\"colorbar\": {\"outlinewidth\": 0, \"ticks\": \"\"}}, \"type\": \"scatterpolargl\"}], \"scatterternary\": [{\"marker\": {\"colorbar\": {\"outlinewidth\": 0, \"ticks\": \"\"}}, \"type\": \"scatterternary\"}], \"surface\": [{\"colorbar\": {\"outlinewidth\": 0, \"ticks\": \"\"}, \"colorscale\": [[0.0, \"#0d0887\"], [0.1111111111111111, \"#46039f\"], [0.2222222222222222, \"#7201a8\"], [0.3333333333333333, \"#9c179e\"], [0.4444444444444444, \"#bd3786\"], [0.5555555555555556, \"#d8576b\"], [0.6666666666666666, \"#ed7953\"], [0.7777777777777778, \"#fb9f3a\"], [0.8888888888888888, \"#fdca26\"], [1.0, \"#f0f921\"]], \"type\": \"surface\"}], \"table\": [{\"cells\": {\"fill\": {\"color\": \"#EBF0F8\"}, \"line\": {\"color\": \"white\"}}, \"header\": {\"fill\": {\"color\": \"#C8D4E3\"}, \"line\": {\"color\": \"white\"}}, \"type\": \"table\"}]}, \"layout\": {\"annotationdefaults\": {\"arrowcolor\": \"#2a3f5f\", \"arrowhead\": 0, \"arrowwidth\": 1}, \"coloraxis\": {\"colorbar\": {\"outlinewidth\": 0, \"ticks\": \"\"}}, \"colorscale\": {\"diverging\": [[0, \"#8e0152\"], [0.1, \"#c51b7d\"], [0.2, \"#de77ae\"], [0.3, \"#f1b6da\"], [0.4, \"#fde0ef\"], [0.5, \"#f7f7f7\"], [0.6, \"#e6f5d0\"], [0.7, \"#b8e186\"], [0.8, \"#7fbc41\"], [0.9, \"#4d9221\"], [1, \"#276419\"]], \"sequential\": [[0.0, \"#0d0887\"], [0.1111111111111111, \"#46039f\"], [0.2222222222222222, \"#7201a8\"], [0.3333333333333333, \"#9c179e\"], [0.4444444444444444, \"#bd3786\"], [0.5555555555555556, \"#d8576b\"], [0.6666666666666666, \"#ed7953\"], [0.7777777777777778, \"#fb9f3a\"], [0.8888888888888888, \"#fdca26\"], [1.0, \"#f0f921\"]], \"sequentialminus\": [[0.0, \"#0d0887\"], [0.1111111111111111, \"#46039f\"], [0.2222222222222222, \"#7201a8\"], [0.3333333333333333, \"#9c179e\"], [0.4444444444444444, \"#bd3786\"], [0.5555555555555556, \"#d8576b\"], [0.6666666666666666, \"#ed7953\"], [0.7777777777777778, \"#fb9f3a\"], [0.8888888888888888, \"#fdca26\"], [1.0, \"#f0f921\"]]}, \"colorway\": [\"#636efa\", \"#EF553B\", \"#00cc96\", \"#ab63fa\", \"#FFA15A\", \"#19d3f3\", \"#FF6692\", \"#B6E880\", \"#FF97FF\", \"#FECB52\"], \"font\": {\"color\": \"#2a3f5f\"}, \"geo\": {\"bgcolor\": \"white\", \"lakecolor\": \"white\", \"landcolor\": \"#E5ECF6\", \"showlakes\": true, \"showland\": true, \"subunitcolor\": \"white\"}, \"hoverlabel\": {\"align\": \"left\"}, \"hovermode\": \"closest\", \"mapbox\": {\"style\": \"light\"}, \"paper_bgcolor\": \"white\", \"plot_bgcolor\": \"#E5ECF6\", \"polar\": {\"angularaxis\": {\"gridcolor\": \"white\", \"linecolor\": \"white\", \"ticks\": \"\"}, \"bgcolor\": \"#E5ECF6\", \"radialaxis\": {\"gridcolor\": \"white\", \"linecolor\": \"white\", \"ticks\": \"\"}}, \"scene\": {\"xaxis\": {\"backgroundcolor\": \"#E5ECF6\", \"gridcolor\": \"white\", \"gridwidth\": 2, \"linecolor\": \"white\", \"showbackground\": true, \"ticks\": \"\", \"zerolinecolor\": \"white\"}, \"yaxis\": {\"backgroundcolor\": \"#E5ECF6\", \"gridcolor\": \"white\", \"gridwidth\": 2, \"linecolor\": \"white\", \"showbackground\": true, \"ticks\": \"\", \"zerolinecolor\": \"white\"}, \"zaxis\": {\"backgroundcolor\": \"#E5ECF6\", \"gridcolor\": \"white\", \"gridwidth\": 2, \"linecolor\": \"white\", \"showbackground\": true, \"ticks\": \"\", \"zerolinecolor\": \"white\"}}, \"shapedefaults\": {\"line\": {\"color\": \"#2a3f5f\"}}, \"ternary\": {\"aaxis\": {\"gridcolor\": \"white\", \"linecolor\": \"white\", \"ticks\": \"\"}, \"baxis\": {\"gridcolor\": \"white\", \"linecolor\": \"white\", \"ticks\": \"\"}, \"bgcolor\": \"#E5ECF6\", \"caxis\": {\"gridcolor\": \"white\", \"linecolor\": \"white\", \"ticks\": \"\"}}, \"title\": {\"x\": 0.05}, \"xaxis\": {\"automargin\": true, \"gridcolor\": \"white\", \"linecolor\": \"white\", \"ticks\": \"\", \"title\": {\"standoff\": 15}, \"zerolinecolor\": \"white\", \"zerolinewidth\": 2}, \"yaxis\": {\"automargin\": true, \"gridcolor\": \"white\", \"linecolor\": \"white\", \"ticks\": \"\", \"title\": {\"standoff\": 15}, \"zerolinecolor\": \"white\", \"zerolinewidth\": 2}}}, \"xaxis\": {\"anchor\": \"y\", \"domain\": [0.0, 1.0], \"title\": {\"text\": \"x\"}}, \"yaxis\": {\"anchor\": \"x\", \"domain\": [0.0, 1.0], \"title\": {\"text\": \"y\"}}},\n",
              "                        {\"responsive\": true}\n",
              "                    ).then(function(){\n",
              "                            \n",
              "var gd = document.getElementById('12a800e7-321a-4a94-9a54-363a2f443921');\n",
              "var x = new MutationObserver(function (mutations, observer) {{\n",
              "        var display = window.getComputedStyle(gd).display;\n",
              "        if (!display || display === 'none') {{\n",
              "            console.log([gd, 'removed!']);\n",
              "            Plotly.purge(gd);\n",
              "            observer.disconnect();\n",
              "        }}\n",
              "}});\n",
              "\n",
              "// Listen for the removal of the full notebook cells\n",
              "var notebookContainer = gd.closest('#notebook-container');\n",
              "if (notebookContainer) {{\n",
              "    x.observe(notebookContainer, {childList: true});\n",
              "}}\n",
              "\n",
              "// Listen for the clearing of the current output cell\n",
              "var outputEl = gd.closest('.output');\n",
              "if (outputEl) {{\n",
              "    x.observe(outputEl, {childList: true});\n",
              "}}\n",
              "\n",
              "                        })\n",
              "                };\n",
              "                \n",
              "            </script>\n",
              "        </div>\n",
              "</body>\n",
              "</html>"
            ]
          },
          "metadata": {}
        }
      ]
    },
    {
      "cell_type": "markdown",
      "metadata": {
        "id": "FvZxrdfMwWj5"
      },
      "source": [
        "En el gráfico se pueden observar algunas cosas interesantes. Por ejemplo la conexión casi perfecta entre \"la\", \"república\" y \"Argentina\".\n",
        "\n",
        "También se observa conexión fuerte entre las palabras \"estado\" y \"pueblo\".\n",
        "\n",
        "Sobre el lateral derecho, hay conexiones entre palabras como \"quiero\", \"argentinos\" y \"mujeres\". Se puede suponer que esta conexión proviene del lado del afecto.\n",
        "\n",
        "Finalmente se observa gran cantidad de conexiones entre preposiciones y verbos en sus diferentes conjugaciones."
      ]
    },
    {
      "cell_type": "markdown",
      "metadata": {
        "id": "38klQTt3xHzC"
      },
      "source": [
        "### Discursos 2017"
      ]
    },
    {
      "cell_type": "markdown",
      "metadata": {
        "id": "Dk7eppKvxHzC"
      },
      "source": [
        "#### 1 - Preprocesamiento"
      ]
    },
    {
      "cell_type": "code",
      "metadata": {
        "id": "it1-fJYexHzC"
      },
      "source": [
        "from keras.preprocessing.text import text_to_word_sequence\n",
        "\n",
        "sentence_tokens = []\n",
        "# Recorrer todas las filas y transformar las oraciones\n",
        "# en una secuencia de palabras (esto podría realizarse con NLTK o spaCy también)\n",
        "for row in discursos_2017:\n",
        "    sentence_tokens.append(text_to_word_sequence(row))"
      ],
      "execution_count": 19,
      "outputs": []
    },
    {
      "cell_type": "code",
      "metadata": {
        "colab": {
          "base_uri": "https://localhost:8080/"
        },
        "id": "b-I3guvfxHzC",
        "outputId": "81dbad0e-c7bf-4ee0-999d-3a93cf048e71"
      },
      "source": [
        "# Demos un vistazo\n",
        "sentence_tokens[0][0:4]"
      ],
      "execution_count": 20,
      "outputs": [
        {
          "output_type": "execute_result",
          "data": {
            "text/plain": [
              "['muchas', 'gracias', 'a', 'todos']"
            ]
          },
          "metadata": {},
          "execution_count": 20
        }
      ]
    },
    {
      "cell_type": "markdown",
      "metadata": {
        "id": "IESQNKDPxHzD"
      },
      "source": [
        "#### 2 - Crear los vectores (word2vec)"
      ]
    },
    {
      "cell_type": "code",
      "metadata": {
        "id": "7_85horOxHzD"
      },
      "source": [
        "from gensim.models.callbacks import CallbackAny2Vec\n",
        "# Durante el entrenamiento gensim por defecto no informa el \"loss\" en cada época\n",
        "# Sobracargamos el callback para poder tener esta información\n",
        "class callback(CallbackAny2Vec):\n",
        "    \"\"\"\n",
        "    Callback to print loss after each epoch\n",
        "    \"\"\"\n",
        "    def __init__(self):\n",
        "        self.epoch = 0\n",
        "\n",
        "    def on_epoch_end(self, model):\n",
        "        loss = model.get_latest_training_loss()\n",
        "        if self.epoch == 0:\n",
        "            print('Loss after epoch {}: {}'.format(self.epoch, loss))\n",
        "        else:\n",
        "            print('Loss after epoch {}: {}'.format(self.epoch, loss- self.loss_previous_step))\n",
        "        self.epoch += 1\n",
        "        self.loss_previous_step = loss"
      ],
      "execution_count": 21,
      "outputs": []
    },
    {
      "cell_type": "code",
      "metadata": {
        "id": "jPcyDClGxHzD"
      },
      "source": [
        "# Crearmos el modelo generador de vectoeres\n",
        "# En este caso utilizaremos la estructura modelo Skipgram\n",
        "w2v_model = Word2Vec(min_count=5,    # frecuencia mínima de palabra para incluirla en el vocabulario\n",
        "                     window=2,       # cant de palabras antes y desp de la predicha\n",
        "                     size=300,       # dimensionalidad de los vectores \n",
        "                     negative=20,    # cantidad de negative samples... 0 es no se usa\n",
        "                     workers=1,      # si tienen más cores pueden cambiar este valor\n",
        "                     sg=1)           # modelo 0:CBOW  1:skipgram"
      ],
      "execution_count": 22,
      "outputs": []
    },
    {
      "cell_type": "code",
      "metadata": {
        "id": "R3ZZyy4zxHzD"
      },
      "source": [
        "# Buildear el vocabularui con los tokens\n",
        "w2v_model.build_vocab(sentence_tokens)"
      ],
      "execution_count": 23,
      "outputs": []
    },
    {
      "cell_type": "code",
      "metadata": {
        "colab": {
          "base_uri": "https://localhost:8080/"
        },
        "id": "fO6mIWunxHzD",
        "outputId": "a2e72412-3efa-4bdc-b63a-86a3b2e7e6a6"
      },
      "source": [
        "# Cantidad de filas/docs encontradas en el corpus\n",
        "print(\"Cantidad de docs en el corpus:\", w2v_model.corpus_count)"
      ],
      "execution_count": 24,
      "outputs": [
        {
          "output_type": "stream",
          "name": "stdout",
          "text": [
            "Cantidad de docs en el corpus: 616\n"
          ]
        }
      ]
    },
    {
      "cell_type": "code",
      "metadata": {
        "colab": {
          "base_uri": "https://localhost:8080/"
        },
        "id": "bDHGQI1exHzD",
        "outputId": "c50b3ebf-7498-4c40-f2f7-8d84793c36df"
      },
      "source": [
        "# Cantidad de words encontradas en el corpus\n",
        "print(\"Cantidad de words distintas en el corpus:\", len(w2v_model.wv.vocab))"
      ],
      "execution_count": 25,
      "outputs": [
        {
          "output_type": "stream",
          "name": "stdout",
          "text": [
            "Cantidad de words distintas en el corpus: 544\n"
          ]
        }
      ]
    },
    {
      "cell_type": "markdown",
      "metadata": {
        "id": "-UioYUPBxHzD"
      },
      "source": [
        "#### 3 - Entrenar el modelo generador"
      ]
    },
    {
      "cell_type": "code",
      "metadata": {
        "colab": {
          "base_uri": "https://localhost:8080/"
        },
        "id": "XjN47jTpxHzD",
        "outputId": "09a7cb9e-2b39-48f5-d645-dd7540204631"
      },
      "source": [
        "# Entrenamos el modelo generador de vectores\n",
        "# Utilizamos nuestro callback\n",
        "w2v_model.train(sentence_tokens,\n",
        "                 total_examples=w2v_model.corpus_count,\n",
        "                 epochs=20,\n",
        "                 compute_loss = True,\n",
        "                 callbacks=[callback()]\n",
        "                 )"
      ],
      "execution_count": 26,
      "outputs": [
        {
          "output_type": "stream",
          "name": "stdout",
          "text": [
            "Loss after epoch 0: 159079.203125\n",
            "Loss after epoch 1: 90907.765625\n",
            "Loss after epoch 2: 91398.21875\n",
            "Loss after epoch 3: 89814.0\n",
            "Loss after epoch 4: 89163.78125\n",
            "Loss after epoch 5: 89824.90625\n",
            "Loss after epoch 6: 91023.875\n",
            "Loss after epoch 7: 92244.0\n",
            "Loss after epoch 8: 92271.0\n",
            "Loss after epoch 9: 90677.8125\n",
            "Loss after epoch 10: 89972.4375\n",
            "Loss after epoch 11: 82066.25\n",
            "Loss after epoch 12: 80760.125\n",
            "Loss after epoch 13: 80259.875\n",
            "Loss after epoch 14: 80142.125\n",
            "Loss after epoch 15: 80413.0\n",
            "Loss after epoch 16: 80480.125\n",
            "Loss after epoch 17: 80590.5\n",
            "Loss after epoch 18: 80649.125\n",
            "Loss after epoch 19: 81008.0\n"
          ]
        },
        {
          "output_type": "execute_result",
          "data": {
            "text/plain": [
              "(165263, 381360)"
            ]
          },
          "metadata": {},
          "execution_count": 26
        }
      ]
    },
    {
      "cell_type": "markdown",
      "metadata": {
        "id": "c5UbTrtuxHzD"
      },
      "source": [
        "#### 4 - Ensayar"
      ]
    },
    {
      "cell_type": "code",
      "metadata": {
        "colab": {
          "base_uri": "https://localhost:8080/"
        },
        "id": "o0hvVlD3xHzE",
        "outputId": "40ef6bd7-5113-4b40-c4b1-6cbdcec97e17"
      },
      "source": [
        "# Palabras que MÁS se relacionan con...:\n",
        "w2v_model.wv.most_similar(positive=[\"argentina\"], topn=10)"
      ],
      "execution_count": 27,
      "outputs": [
        {
          "output_type": "execute_result",
          "data": {
            "text/plain": [
              "[('república', 0.9704345464706421),\n",
              " ('en', 0.965149998664856),\n",
              " ('la', 0.9591444730758667),\n",
              " ('como', 0.9304224252700806),\n",
              " ('sociedad', 0.9180277585983276),\n",
              " ('democracia', 0.9154567718505859),\n",
              " ('de', 0.9148116707801819),\n",
              " ('fue', 0.913988471031189),\n",
              " ('toda', 0.913358747959137),\n",
              " ('provincia', 0.9124040603637695)]"
            ]
          },
          "metadata": {},
          "execution_count": 27
        }
      ]
    },
    {
      "cell_type": "markdown",
      "metadata": {
        "id": "sqaDEdSNzJH5"
      },
      "source": [
        "Al caso anterior, se agregan palabras como sociedad y democracia."
      ]
    },
    {
      "cell_type": "code",
      "metadata": {
        "colab": {
          "base_uri": "https://localhost:8080/"
        },
        "id": "kqxPaBNoxHzE",
        "outputId": "6a89e06f-976e-42e1-a0ba-4e19afc9533b"
      },
      "source": [
        "# Palabras que MENOS se relacionan con...:\n",
        "w2v_model.wv.most_similar(negative=[\"argentino\"], topn=10)"
      ],
      "execution_count": 32,
      "outputs": [
        {
          "output_type": "execute_result",
          "data": {
            "text/plain": [
              "[('img', -0.03536156937479973),\n",
              " ('ni', -0.7716951370239258),\n",
              " ('todos', -0.828914999961853),\n",
              " ('argentina', -0.8601272106170654),\n",
              " ('no', -0.8647822141647339),\n",
              " ('creo', -0.8761969208717346),\n",
              " ('a', -0.8822106122970581),\n",
              " ('república', -0.8828254342079163),\n",
              " ('los', -0.8829725980758667),\n",
              " ('nada', -0.8855574727058411)]"
            ]
          },
          "metadata": {},
          "execution_count": 32
        }
      ]
    },
    {
      "cell_type": "markdown",
      "metadata": {
        "id": "CqKF4s8MzaKx"
      },
      "source": [
        "Este caso es curioso porque le asigna relación opuesta a argentino y argentina. Habría que analizar con mayor detalle a que se debe."
      ]
    },
    {
      "cell_type": "code",
      "metadata": {
        "colab": {
          "base_uri": "https://localhost:8080/"
        },
        "id": "SpzzjpdjxHzE",
        "outputId": "0cd3e624-fe6d-4d04-837b-415e361a43ce"
      },
      "source": [
        "# Palabras que MÁS se relacionan con...:\n",
        "w2v_model.wv.most_similar(positive=[\"política\"], topn=10)"
      ],
      "execution_count": 29,
      "outputs": [
        {
          "output_type": "execute_result",
          "data": {
            "text/plain": [
              "[('unidas', 0.9994730949401855),\n",
              " ('información', 0.9994136691093445),\n",
              " ('hicieron', 0.999349057674408),\n",
              " ('libertad', 0.9993384480476379),\n",
              " ('izquierda', 0.9993221759796143),\n",
              " ('maia', 0.9992518424987793),\n",
              " ('naciones', 0.9992427825927734),\n",
              " ('innovación', 0.999235212802887),\n",
              " ('25', 0.9992103576660156),\n",
              " ('derechas', 0.9991960525512695)]"
            ]
          },
          "metadata": {},
          "execution_count": 29
        }
      ]
    },
    {
      "cell_type": "markdown",
      "metadata": {
        "id": "3uzrS4EmznU5"
      },
      "source": [
        "En este caso, la palabra política se relaciona mas con libertad y con corrientes de pensamientos dentro de la política."
      ]
    },
    {
      "cell_type": "markdown",
      "metadata": {
        "id": "pK1UMx73xHzE"
      },
      "source": [
        "#### 5 - Visualizar agrupación de vectores"
      ]
    },
    {
      "cell_type": "code",
      "metadata": {
        "id": "u8vouqwfxHzE"
      },
      "source": [
        "from sklearn.decomposition import IncrementalPCA    \n",
        "from sklearn.manifold import TSNE                   \n",
        "import numpy as np                                  \n",
        "\n",
        "def reduce_dimensions(model):\n",
        "    num_dimensions = 2  \n",
        "\n",
        "    vectors = np.asarray(model.wv.vectors)\n",
        "    labels = np.asarray(model.wv.index2word)  \n",
        "\n",
        "    tsne = TSNE(n_components=num_dimensions, random_state=0)\n",
        "    vectors = tsne.fit_transform(vectors)\n",
        "\n",
        "    x_vals = [v[0] for v in vectors]\n",
        "    y_vals = [v[1] for v in vectors]\n",
        "    return x_vals, y_vals, labels"
      ],
      "execution_count": 30,
      "outputs": []
    },
    {
      "cell_type": "code",
      "metadata": {
        "colab": {
          "base_uri": "https://localhost:8080/",
          "height": 542
        },
        "id": "CVXBUGtTxHzE",
        "outputId": "3fa28f40-09d0-4c17-9ee1-9379a41c36c3"
      },
      "source": [
        "# Graficar los embedddings en 2D\n",
        "import plotly.graph_objects as go\n",
        "import plotly.express as px\n",
        "\n",
        "x_vals, y_vals, labels = reduce_dimensions(w2v_model)\n",
        "\n",
        "MAX_WORDS=100\n",
        "fig = px.scatter(x=x_vals[:MAX_WORDS], y=y_vals[:MAX_WORDS], text=labels[:MAX_WORDS])\n",
        "fig.show(renderer=\"colab\") # esto para plotly en colab\n"
      ],
      "execution_count": 31,
      "outputs": [
        {
          "output_type": "display_data",
          "data": {
            "text/html": [
              "<html>\n",
              "<head><meta charset=\"utf-8\" /></head>\n",
              "<body>\n",
              "    <div>\n",
              "            <script src=\"https://cdnjs.cloudflare.com/ajax/libs/mathjax/2.7.5/MathJax.js?config=TeX-AMS-MML_SVG\"></script><script type=\"text/javascript\">if (window.MathJax) {MathJax.Hub.Config({SVG: {font: \"STIX-Web\"}});}</script>\n",
              "                <script type=\"text/javascript\">window.PlotlyConfig = {MathJaxConfig: 'local'};</script>\n",
              "        <script src=\"https://cdn.plot.ly/plotly-latest.min.js\"></script>    \n",
              "            <div id=\"ffb2582a-7ae8-42b1-8149-0840ee437e8e\" class=\"plotly-graph-div\" style=\"height:525px; width:100%;\"></div>\n",
              "            <script type=\"text/javascript\">\n",
              "                \n",
              "                    window.PLOTLYENV=window.PLOTLYENV || {};\n",
              "                    \n",
              "                if (document.getElementById(\"ffb2582a-7ae8-42b1-8149-0840ee437e8e\")) {\n",
              "                    Plotly.newPlot(\n",
              "                        'ffb2582a-7ae8-42b1-8149-0840ee437e8e',\n",
              "                        [{\"hoverlabel\": {\"namelength\": 0}, \"hovertemplate\": \"x=%{x}<br>y=%{y}<br>text=%{text}\", \"legendgroup\": \"\", \"marker\": {\"color\": \"#636efa\", \"symbol\": \"circle\"}, \"mode\": \"markers+text\", \"name\": \"\", \"showlegend\": false, \"text\": [\"que\", \"de\", \"la\", \"y\", \"a\", \"en\", \"el\", \"no\", \"los\", \"es\", \"un\", \"las\", \"lo\", \"por\", \"una\", \"se\", \"porque\", \"con\", \"para\", \"me\", \"del\", \"o\", \"m\\u00e1s\", \"como\", \"cuando\", \"todos\", \"yo\", \"tambi\\u00e9n\", \"pero\", \"gobierno\", \"al\", \"le\", \"esto\", \"nos\", \"hoy\", \"esta\", \"su\", \"est\\u00e1\", \"argentina\", \"todo\", \"ni\", \"creo\", \"muy\", \"poder\", \"cosas\", \"hay\", \"gente\", \"quiero\", \"tenemos\", \"este\", \"ser\", \"era\", \"eso\", \"trabajo\", \"ustedes\", \"nosotros\", \"hab\\u00eda\", \"hacer\", \"tiene\", \"tienen\", \"todas\", \"pa\\u00eds\", \"puede\", \"donde\", \"les\", \"estamos\", \"adem\\u00e1s\", \"sus\", \"si\", \"qu\\u00e9\", \"desde\", \"ya\", \"sobre\", \"ha\", \"as\\u00ed\", \"fue\", \"mi\", \"son\", \"sociedad\", \"van\", \"siempre\", \"nada\", \"algo\", \"nuestro\", \"ah\\u00ed\", \"tener\", \"solamente\", \"haber\", \"ver\", \"aqu\\u00ed\", \"sea\", \"mujer\", \"esa\", \"sino\", \"han\", \"otro\", \"ahora\", \"uno\", \"est\\u00e1n\", \"entonces\"], \"type\": \"scatter\", \"x\": [10.06524658203125, 7.2583208084106445, 10.40180778503418, -21.723953247070312, -19.244239807128906, 9.932174682617188, 14.598153114318848, 2.82857608795166, -20.89106559753418, 11.668802261352539, 15.723281860351562, -21.524171829223633, 10.629945755004883, -4.885827541351318, 10.619104385375977, 9.915922164916992, 8.70678424835205, -2.9241325855255127, -12.454113006591797, 6.363210678100586, 7.560678958892822, 12.530465126037598, 2.6498701572418213, 8.777917861938477, 13.412870407104492, -20.476089477539062, 6.836908340454102, -13.73416805267334, -1.285154104232788, 15.007164001464844, 18.490793228149414, 0.8435415029525757, 9.893455505371094, -6.904515266418457, -10.753599166870117, 8.437074661254883, 13.587833404541016, 13.551977157592773, 11.349346160888672, 15.28990650177002, -14.456829071044922, 11.651034355163574, 10.7678861618042, 20.279949188232422, -11.415647506713867, 13.105952262878418, 13.83154582977295, -16.660829544067383, -3.053912401199341, 10.036667823791504, 4.223592281341553, 16.969913482666016, 0.6510418653488159, 14.75665283203125, -17.25101661682129, -4.493278980255127, 16.972015380859375, -6.544516563415527, 11.70610523223877, 2.0204362869262695, -20.49180793762207, 13.540335655212402, 0.33511877059936523, 13.337718963623047, -1.696041464805603, 2.4202308654785156, 10.090410232543945, -18.465152740478516, 4.185721397399902, 5.447863578796387, -1.8523727655410767, 10.094953536987305, 10.241045951843262, 11.036914825439453, -0.6111297011375427, 13.378067016601562, 9.097651481628418, -20.68543815612793, 11.52198600769043, -7.182423114776611, 7.714380264282227, 2.7816874980926514, 3.869009494781494, 0.35108068585395813, 7.758781909942627, -5.766913414001465, 6.557553768157959, -2.7850232124328613, 2.3972413539886475, -1.2716933488845825, 12.771560668945312, 10.6996431350708, 8.352517127990723, -0.7558801770210266, -7.091507434844971, 16.958772659301758, 2.9887115955352783, -6.89180326461792, -12.078512191772461, 7.083470344543457], \"xaxis\": \"x\", \"y\": [-23.837982177734375, 32.181095123291016, 32.35703659057617, -16.571500778198242, -22.366762161254883, 31.8477783203125, 25.020423889160156, -27.5958194732666, -21.083213806152344, -22.79943084716797, 24.318164825439453, -19.459383010864258, -23.372804641723633, 22.90372085571289, 26.20453453063965, -13.572498321533203, -22.641992568969727, 20.48328971862793, -18.584190368652344, -22.96166229248047, 32.287322998046875, 20.905139923095703, -24.50011444091797, 30.399429321289062, 16.825944900512695, -22.043987274169922, -23.79488754272461, -15.552099227905273, -24.031862258911133, 22.94532012939453, 13.122868537902832, -20.250429153442383, -23.331546783447266, -19.512603759765625, 4.098416328430176, 13.799477577209473, 23.570180892944336, -17.06815528869629, 32.195919036865234, -1.8176469802856445, 4.465371131896973, -23.437795639038086, 26.971248626708984, 15.719194412231445, -10.233611106872559, -14.537109375, -14.251788139343262, -21.927717208862305, -26.033294677734375, -18.28339385986328, -11.682397842407227, 20.759979248046875, -24.352025985717773, -6.646565914154053, -21.52706527709961, -23.345317840576172, 20.733661651611328, -26.06576919555664, -16.109420776367188, -26.99784278869629, -20.867280960083008, 27.47644805908203, -26.440677642822266, 27.364789962768555, -23.789592742919922, -18.027616500854492, -19.295751571655273, -17.27109146118164, -22.99466323852539, -21.567461013793945, 24.6326904296875, -15.955728530883789, 19.545042037963867, -20.250886917114258, -25.471975326538086, 25.486135482788086, 21.641483306884766, -13.9298734664917, 24.71780776977539, -25.999855041503906, -18.229976654052734, -27.328977584838867, -21.635019302368164, 22.445457458496094, -16.411962509155273, -26.056049346923828, -16.6848087310791, -20.718671798706055, -24.809160232543945, 25.571786880493164, 20.04473876953125, 25.054933547973633, -3.664649486541748, 27.676467895507812, -18.330562591552734, 10.792826652526855, -3.5459275245666504, 8.144423484802246, -9.971254348754883, -19.51962661743164], \"yaxis\": \"y\"}],\n",
              "                        {\"legend\": {\"tracegroupgap\": 0}, \"margin\": {\"t\": 60}, \"template\": {\"data\": {\"bar\": [{\"error_x\": {\"color\": \"#2a3f5f\"}, \"error_y\": {\"color\": \"#2a3f5f\"}, \"marker\": {\"line\": {\"color\": \"#E5ECF6\", \"width\": 0.5}}, \"type\": \"bar\"}], \"barpolar\": [{\"marker\": {\"line\": {\"color\": \"#E5ECF6\", \"width\": 0.5}}, \"type\": \"barpolar\"}], \"carpet\": [{\"aaxis\": {\"endlinecolor\": \"#2a3f5f\", \"gridcolor\": \"white\", \"linecolor\": \"white\", \"minorgridcolor\": \"white\", \"startlinecolor\": \"#2a3f5f\"}, \"baxis\": {\"endlinecolor\": \"#2a3f5f\", \"gridcolor\": \"white\", \"linecolor\": \"white\", \"minorgridcolor\": \"white\", \"startlinecolor\": \"#2a3f5f\"}, \"type\": \"carpet\"}], \"choropleth\": [{\"colorbar\": {\"outlinewidth\": 0, \"ticks\": \"\"}, \"type\": \"choropleth\"}], \"contour\": [{\"colorbar\": {\"outlinewidth\": 0, \"ticks\": \"\"}, \"colorscale\": [[0.0, \"#0d0887\"], [0.1111111111111111, \"#46039f\"], [0.2222222222222222, \"#7201a8\"], [0.3333333333333333, \"#9c179e\"], [0.4444444444444444, \"#bd3786\"], [0.5555555555555556, \"#d8576b\"], [0.6666666666666666, \"#ed7953\"], [0.7777777777777778, \"#fb9f3a\"], [0.8888888888888888, \"#fdca26\"], [1.0, \"#f0f921\"]], \"type\": \"contour\"}], \"contourcarpet\": [{\"colorbar\": {\"outlinewidth\": 0, \"ticks\": \"\"}, \"type\": \"contourcarpet\"}], \"heatmap\": [{\"colorbar\": {\"outlinewidth\": 0, \"ticks\": \"\"}, \"colorscale\": [[0.0, \"#0d0887\"], [0.1111111111111111, \"#46039f\"], [0.2222222222222222, \"#7201a8\"], [0.3333333333333333, \"#9c179e\"], [0.4444444444444444, \"#bd3786\"], [0.5555555555555556, \"#d8576b\"], [0.6666666666666666, \"#ed7953\"], [0.7777777777777778, \"#fb9f3a\"], [0.8888888888888888, \"#fdca26\"], [1.0, \"#f0f921\"]], \"type\": \"heatmap\"}], \"heatmapgl\": [{\"colorbar\": {\"outlinewidth\": 0, \"ticks\": \"\"}, \"colorscale\": [[0.0, \"#0d0887\"], [0.1111111111111111, \"#46039f\"], [0.2222222222222222, \"#7201a8\"], [0.3333333333333333, \"#9c179e\"], [0.4444444444444444, \"#bd3786\"], [0.5555555555555556, \"#d8576b\"], [0.6666666666666666, \"#ed7953\"], [0.7777777777777778, \"#fb9f3a\"], [0.8888888888888888, \"#fdca26\"], [1.0, \"#f0f921\"]], \"type\": \"heatmapgl\"}], \"histogram\": [{\"marker\": {\"colorbar\": {\"outlinewidth\": 0, \"ticks\": \"\"}}, \"type\": \"histogram\"}], \"histogram2d\": [{\"colorbar\": {\"outlinewidth\": 0, \"ticks\": \"\"}, \"colorscale\": [[0.0, \"#0d0887\"], [0.1111111111111111, \"#46039f\"], [0.2222222222222222, \"#7201a8\"], [0.3333333333333333, \"#9c179e\"], [0.4444444444444444, \"#bd3786\"], [0.5555555555555556, \"#d8576b\"], [0.6666666666666666, \"#ed7953\"], [0.7777777777777778, \"#fb9f3a\"], [0.8888888888888888, \"#fdca26\"], [1.0, \"#f0f921\"]], \"type\": \"histogram2d\"}], \"histogram2dcontour\": [{\"colorbar\": {\"outlinewidth\": 0, \"ticks\": \"\"}, \"colorscale\": [[0.0, \"#0d0887\"], [0.1111111111111111, \"#46039f\"], [0.2222222222222222, \"#7201a8\"], [0.3333333333333333, \"#9c179e\"], [0.4444444444444444, \"#bd3786\"], [0.5555555555555556, \"#d8576b\"], [0.6666666666666666, \"#ed7953\"], [0.7777777777777778, \"#fb9f3a\"], [0.8888888888888888, \"#fdca26\"], [1.0, \"#f0f921\"]], \"type\": \"histogram2dcontour\"}], \"mesh3d\": [{\"colorbar\": {\"outlinewidth\": 0, \"ticks\": \"\"}, \"type\": \"mesh3d\"}], \"parcoords\": [{\"line\": {\"colorbar\": {\"outlinewidth\": 0, \"ticks\": \"\"}}, \"type\": \"parcoords\"}], \"pie\": [{\"automargin\": true, \"type\": \"pie\"}], \"scatter\": [{\"marker\": {\"colorbar\": {\"outlinewidth\": 0, \"ticks\": \"\"}}, \"type\": \"scatter\"}], \"scatter3d\": [{\"line\": {\"colorbar\": {\"outlinewidth\": 0, \"ticks\": \"\"}}, \"marker\": {\"colorbar\": {\"outlinewidth\": 0, \"ticks\": \"\"}}, \"type\": \"scatter3d\"}], \"scattercarpet\": [{\"marker\": {\"colorbar\": {\"outlinewidth\": 0, \"ticks\": \"\"}}, \"type\": \"scattercarpet\"}], \"scattergeo\": [{\"marker\": {\"colorbar\": {\"outlinewidth\": 0, \"ticks\": \"\"}}, \"type\": \"scattergeo\"}], \"scattergl\": [{\"marker\": {\"colorbar\": {\"outlinewidth\": 0, \"ticks\": \"\"}}, \"type\": \"scattergl\"}], \"scattermapbox\": [{\"marker\": {\"colorbar\": {\"outlinewidth\": 0, \"ticks\": \"\"}}, \"type\": \"scattermapbox\"}], \"scatterpolar\": [{\"marker\": {\"colorbar\": {\"outlinewidth\": 0, \"ticks\": \"\"}}, \"type\": \"scatterpolar\"}], \"scatterpolargl\": [{\"marker\": {\"colorbar\": {\"outlinewidth\": 0, \"ticks\": \"\"}}, \"type\": \"scatterpolargl\"}], \"scatterternary\": [{\"marker\": {\"colorbar\": {\"outlinewidth\": 0, \"ticks\": \"\"}}, \"type\": \"scatterternary\"}], \"surface\": [{\"colorbar\": {\"outlinewidth\": 0, \"ticks\": \"\"}, \"colorscale\": [[0.0, \"#0d0887\"], [0.1111111111111111, \"#46039f\"], [0.2222222222222222, \"#7201a8\"], [0.3333333333333333, \"#9c179e\"], [0.4444444444444444, \"#bd3786\"], [0.5555555555555556, \"#d8576b\"], [0.6666666666666666, \"#ed7953\"], [0.7777777777777778, \"#fb9f3a\"], [0.8888888888888888, \"#fdca26\"], [1.0, \"#f0f921\"]], \"type\": \"surface\"}], \"table\": [{\"cells\": {\"fill\": {\"color\": \"#EBF0F8\"}, \"line\": {\"color\": \"white\"}}, \"header\": {\"fill\": {\"color\": \"#C8D4E3\"}, \"line\": {\"color\": \"white\"}}, \"type\": \"table\"}]}, \"layout\": {\"annotationdefaults\": {\"arrowcolor\": \"#2a3f5f\", \"arrowhead\": 0, \"arrowwidth\": 1}, \"coloraxis\": {\"colorbar\": {\"outlinewidth\": 0, \"ticks\": \"\"}}, \"colorscale\": {\"diverging\": [[0, \"#8e0152\"], [0.1, \"#c51b7d\"], [0.2, \"#de77ae\"], [0.3, \"#f1b6da\"], [0.4, \"#fde0ef\"], [0.5, \"#f7f7f7\"], [0.6, \"#e6f5d0\"], [0.7, \"#b8e186\"], [0.8, \"#7fbc41\"], [0.9, \"#4d9221\"], [1, \"#276419\"]], \"sequential\": [[0.0, \"#0d0887\"], [0.1111111111111111, \"#46039f\"], [0.2222222222222222, \"#7201a8\"], [0.3333333333333333, \"#9c179e\"], [0.4444444444444444, \"#bd3786\"], [0.5555555555555556, \"#d8576b\"], [0.6666666666666666, \"#ed7953\"], [0.7777777777777778, \"#fb9f3a\"], [0.8888888888888888, \"#fdca26\"], [1.0, \"#f0f921\"]], \"sequentialminus\": [[0.0, \"#0d0887\"], [0.1111111111111111, \"#46039f\"], [0.2222222222222222, \"#7201a8\"], [0.3333333333333333, \"#9c179e\"], [0.4444444444444444, \"#bd3786\"], [0.5555555555555556, \"#d8576b\"], [0.6666666666666666, \"#ed7953\"], [0.7777777777777778, \"#fb9f3a\"], [0.8888888888888888, \"#fdca26\"], [1.0, \"#f0f921\"]]}, \"colorway\": [\"#636efa\", \"#EF553B\", \"#00cc96\", \"#ab63fa\", \"#FFA15A\", \"#19d3f3\", \"#FF6692\", \"#B6E880\", \"#FF97FF\", \"#FECB52\"], \"font\": {\"color\": \"#2a3f5f\"}, \"geo\": {\"bgcolor\": \"white\", \"lakecolor\": \"white\", \"landcolor\": \"#E5ECF6\", \"showlakes\": true, \"showland\": true, \"subunitcolor\": \"white\"}, \"hoverlabel\": {\"align\": \"left\"}, \"hovermode\": \"closest\", \"mapbox\": {\"style\": \"light\"}, \"paper_bgcolor\": \"white\", \"plot_bgcolor\": \"#E5ECF6\", \"polar\": {\"angularaxis\": {\"gridcolor\": \"white\", \"linecolor\": \"white\", \"ticks\": \"\"}, \"bgcolor\": \"#E5ECF6\", \"radialaxis\": {\"gridcolor\": \"white\", \"linecolor\": \"white\", \"ticks\": \"\"}}, \"scene\": {\"xaxis\": {\"backgroundcolor\": \"#E5ECF6\", \"gridcolor\": \"white\", \"gridwidth\": 2, \"linecolor\": \"white\", \"showbackground\": true, \"ticks\": \"\", \"zerolinecolor\": \"white\"}, \"yaxis\": {\"backgroundcolor\": \"#E5ECF6\", \"gridcolor\": \"white\", \"gridwidth\": 2, \"linecolor\": \"white\", \"showbackground\": true, \"ticks\": \"\", \"zerolinecolor\": \"white\"}, \"zaxis\": {\"backgroundcolor\": \"#E5ECF6\", \"gridcolor\": \"white\", \"gridwidth\": 2, \"linecolor\": \"white\", \"showbackground\": true, \"ticks\": \"\", \"zerolinecolor\": \"white\"}}, \"shapedefaults\": {\"line\": {\"color\": \"#2a3f5f\"}}, \"ternary\": {\"aaxis\": {\"gridcolor\": \"white\", \"linecolor\": \"white\", \"ticks\": \"\"}, \"baxis\": {\"gridcolor\": \"white\", \"linecolor\": \"white\", \"ticks\": \"\"}, \"bgcolor\": \"#E5ECF6\", \"caxis\": {\"gridcolor\": \"white\", \"linecolor\": \"white\", \"ticks\": \"\"}}, \"title\": {\"x\": 0.05}, \"xaxis\": {\"automargin\": true, \"gridcolor\": \"white\", \"linecolor\": \"white\", \"ticks\": \"\", \"title\": {\"standoff\": 15}, \"zerolinecolor\": \"white\", \"zerolinewidth\": 2}, \"yaxis\": {\"automargin\": true, \"gridcolor\": \"white\", \"linecolor\": \"white\", \"ticks\": \"\", \"title\": {\"standoff\": 15}, \"zerolinecolor\": \"white\", \"zerolinewidth\": 2}}}, \"xaxis\": {\"anchor\": \"y\", \"domain\": [0.0, 1.0], \"title\": {\"text\": \"x\"}}, \"yaxis\": {\"anchor\": \"x\", \"domain\": [0.0, 1.0], \"title\": {\"text\": \"y\"}}},\n",
              "                        {\"responsive\": true}\n",
              "                    ).then(function(){\n",
              "                            \n",
              "var gd = document.getElementById('ffb2582a-7ae8-42b1-8149-0840ee437e8e');\n",
              "var x = new MutationObserver(function (mutations, observer) {{\n",
              "        var display = window.getComputedStyle(gd).display;\n",
              "        if (!display || display === 'none') {{\n",
              "            console.log([gd, 'removed!']);\n",
              "            Plotly.purge(gd);\n",
              "            observer.disconnect();\n",
              "        }}\n",
              "}});\n",
              "\n",
              "// Listen for the removal of the full notebook cells\n",
              "var notebookContainer = gd.closest('#notebook-container');\n",
              "if (notebookContainer) {{\n",
              "    x.observe(notebookContainer, {childList: true});\n",
              "}}\n",
              "\n",
              "// Listen for the clearing of the current output cell\n",
              "var outputEl = gd.closest('.output');\n",
              "if (outputEl) {{\n",
              "    x.observe(outputEl, {childList: true});\n",
              "}}\n",
              "\n",
              "                        })\n",
              "                };\n",
              "                \n",
              "            </script>\n",
              "        </div>\n",
              "</body>\n",
              "</html>"
            ]
          },
          "metadata": {}
        }
      ]
    },
    {
      "cell_type": "markdown",
      "metadata": {
        "id": "ZjTlaQ01xHzF"
      },
      "source": [
        "En el gráfico se puede observar una cercanía marcada de las palabras \"todos\" y \"todas\". \n",
        "\n",
        "Contrario al anterior, en este caso \"quiero\" se relaciona con \"todos\" y \"todas\"; y \"mujer\" se relaciona más con \"sociedad\".\n",
        "\n",
        "Finalmente, se mantienen las conexiones abundantes entre preposiciones y verbos."
      ]
    }
  ]
}