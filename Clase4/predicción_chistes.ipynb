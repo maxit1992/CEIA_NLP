{
  "nbformat": 4,
  "nbformat_minor": 0,
  "metadata": {
    "colab": {
      "name": "4d - predicción_chistes.ipynb",
      "provenance": [],
      "collapsed_sections": []
    },
    "kernelspec": {
      "name": "python3",
      "display_name": "Python 3"
    },
    "language_info": {
      "name": "python"
    },
    "accelerator": "GPU"
  },
  "cells": [
    {
      "cell_type": "markdown",
      "metadata": {
        "id": "g3yeJGnCYxuF"
      },
      "source": [
        "<a href=\"https://www.inove.com.ar\"><img src=\"https://github.com/hernancontigiani/ceia_memorias_especializacion/raw/master/Figures/logoFIUBA.jpg\" width=\"500\" align=\"center\"></a>\n",
        "\n",
        "\n",
        "# Procesamiento de lenguaje natural\n",
        "## Predicción de próxima palabra"
      ]
    },
    {
      "cell_type": "markdown",
      "metadata": {
        "id": "Iv5PEwGzZA9-"
      },
      "source": [
        "### Objetivo\n",
        "El objetivo es utilizar documentos / corpus para crear embeddings de palabras basado en ese contexto utilizando la layer Embedding de Keras. Se utilizará esos embeddings junto con layers LSTM para predeccir la próxima posible palabra."
      ]
    },
    {
      "cell_type": "code",
      "metadata": {
        "id": "Y-QdFbHZYj7C"
      },
      "source": [
        "import random\n",
        "import io\n",
        "import pickle\n",
        "\n",
        "import numpy as np\n",
        "import pandas as pd\n",
        "import re\n",
        "\n",
        "import sys\n",
        "!{sys.executable} -m pip install unidecode --quiet\n",
        "import unidecode\n",
        "\n",
        "from tensorflow import keras\n",
        "from tensorflow.keras import layers\n",
        "from keras.utils.np_utils import to_categorical\n",
        "from keras.models import Sequential\n",
        "from keras.layers import Dense, LSTM, Embedding, Dropout"
      ],
      "execution_count": 1,
      "outputs": []
    },
    {
      "cell_type": "markdown",
      "metadata": {
        "id": "xTvXlEKQZdqx"
      },
      "source": [
        "### Datos\n",
        "Utilizaremos como dataset chistes en español"
      ]
    },
    {
      "cell_type": "code",
      "metadata": {
        "id": "IkdPfrQJZdB5"
      },
      "source": [
        "#Carga de datos\n",
        "with open('/content/chistes.txt', 'r') as file:\n",
        "  raw_chistes = file.read()"
      ],
      "execution_count": 2,
      "outputs": []
    },
    {
      "cell_type": "code",
      "metadata": {
        "id": "_2fn-NQYHJe6"
      },
      "source": [
        "# Limpieza de caracteres especiales\n",
        "chistes = unidecode.unidecode(raw_chistes)\n",
        "chistes = re.sub(r'[^a-zA-Z0-9_ ñ.\\s]', '', chistes)\n",
        "chistes = re.sub(r'\\.+', ' ', chistes)\n",
        "chistes = re.sub(r'\\ +', ' ', chistes)\n",
        "chistes = chistes.lower()\n",
        "chistes =  chistes.split('\\n')"
      ],
      "execution_count": 3,
      "outputs": []
    },
    {
      "cell_type": "code",
      "metadata": {
        "colab": {
          "base_uri": "https://localhost:8080/"
        },
        "id": "wbRk3EtpJZ7B",
        "outputId": "ab6e5055-43d2-4ee2-f993-c99bd803ccab"
      },
      "source": [
        "len(chistes)"
      ],
      "execution_count": 4,
      "outputs": [
        {
          "output_type": "execute_result",
          "data": {
            "text/plain": [
              "631"
            ]
          },
          "metadata": {},
          "execution_count": 4
        }
      ]
    },
    {
      "cell_type": "code",
      "metadata": {
        "colab": {
          "base_uri": "https://localhost:8080/",
          "height": 35
        },
        "id": "bB0K8CTMGzaM",
        "outputId": "5c587b33-a888-4279-c87f-fbef6aa16aed"
      },
      "source": [
        "chistes[0]"
      ],
      "execution_count": 5,
      "outputs": [
        {
          "output_type": "execute_result",
          "data": {
            "application/vnd.google.colaboratory.intrinsic+json": {
              "type": "string"
            },
            "text/plain": [
              "'primera escena un hipopotamo pequeno segunda escena un hipopotamo mediano tercera escena un hipopotamo grande titulo de la obra hipocrecia'"
            ]
          },
          "metadata": {},
          "execution_count": 5
        }
      ]
    },
    {
      "cell_type": "code",
      "metadata": {
        "id": "Gb39v3PaZmRH",
        "colab": {
          "base_uri": "https://localhost:8080/",
          "height": 205
        },
        "outputId": "876a7962-9194-4cae-9ee9-e87d16e26720"
      },
      "source": [
        "# Armar el dataset utilizando salto de línea para separar las oraciones/docs\n",
        "df = pd.DataFrame(chistes)\n",
        "df.head()"
      ],
      "execution_count": 6,
      "outputs": [
        {
          "output_type": "execute_result",
          "data": {
            "text/html": [
              "<div>\n",
              "<style scoped>\n",
              "    .dataframe tbody tr th:only-of-type {\n",
              "        vertical-align: middle;\n",
              "    }\n",
              "\n",
              "    .dataframe tbody tr th {\n",
              "        vertical-align: top;\n",
              "    }\n",
              "\n",
              "    .dataframe thead th {\n",
              "        text-align: right;\n",
              "    }\n",
              "</style>\n",
              "<table border=\"1\" class=\"dataframe\">\n",
              "  <thead>\n",
              "    <tr style=\"text-align: right;\">\n",
              "      <th></th>\n",
              "      <th>0</th>\n",
              "    </tr>\n",
              "  </thead>\n",
              "  <tbody>\n",
              "    <tr>\n",
              "      <th>0</th>\n",
              "      <td>primera escena un hipopotamo pequeno segunda e...</td>\n",
              "    </tr>\n",
              "    <tr>\n",
              "      <th>1</th>\n",
              "      <td>tienes wifi si y cual es la clave tener diner...</td>\n",
              "    </tr>\n",
              "    <tr>\n",
              "      <th>2</th>\n",
              "      <td>en una entrevista de trabajo nivel de ingles a...</td>\n",
              "    </tr>\n",
              "    <tr>\n",
              "      <th>3</th>\n",
              "      <td>cual es el cafe mas peligroso del mundoel expreso</td>\n",
              "    </tr>\n",
              "    <tr>\n",
              "      <th>4</th>\n",
              "      <td>mama mama los spaghetti se estan pegando deja...</td>\n",
              "    </tr>\n",
              "  </tbody>\n",
              "</table>\n",
              "</div>"
            ],
            "text/plain": [
              "                                                   0\n",
              "0  primera escena un hipopotamo pequeno segunda e...\n",
              "1   tienes wifi si y cual es la clave tener diner...\n",
              "2  en una entrevista de trabajo nivel de ingles a...\n",
              "3  cual es el cafe mas peligroso del mundoel expreso\n",
              "4   mama mama los spaghetti se estan pegando deja..."
            ]
          },
          "metadata": {},
          "execution_count": 6
        }
      ]
    },
    {
      "cell_type": "code",
      "metadata": {
        "id": "riT898QlZnmF",
        "colab": {
          "base_uri": "https://localhost:8080/"
        },
        "outputId": "b38c7f13-c44e-4f1f-a192-103f4f23c432"
      },
      "source": [
        "print(\"Cantidad de documentos:\", df.shape[0])"
      ],
      "execution_count": 7,
      "outputs": [
        {
          "output_type": "stream",
          "name": "stdout",
          "text": [
            "Cantidad de documentos: 631\n"
          ]
        }
      ]
    },
    {
      "cell_type": "markdown",
      "metadata": {
        "id": "RDoouHp7Zp6D"
      },
      "source": [
        "### 1 - Ejemplo de Preprocesamiento\n",
        "- Hay que transformar las oraciones en tokens.\n",
        "- Dichas oraciones hay que ajustarlas al tamaño fijo de nuestra sentencia de entrada al modelo.\n",
        "- Hay que separar las palabras objetivos (target) que el modelo debe predecir en cada sentencia armada."
      ]
    },
    {
      "cell_type": "code",
      "metadata": {
        "id": "m5FeTaGvbDbw"
      },
      "source": [
        "from keras.preprocessing.text import Tokenizer # equivalente a ltokenizer de nltk\n",
        "from keras.preprocessing.text import text_to_word_sequence # equivalente a word_teokenize de nltk\n",
        "from keras.preprocessing.sequence import pad_sequences # se utilizará para padding\n",
        "\n",
        "# largo de la secuencia, incluye seq input + word output\n",
        "train_len = 4"
      ],
      "execution_count": 8,
      "outputs": []
    },
    {
      "cell_type": "code",
      "metadata": {
        "id": "Zf3O7eK6ZpP8",
        "colab": {
          "base_uri": "https://localhost:8080/",
          "height": 35
        },
        "outputId": "6acb2339-4ddd-43f1-ba34-3310f582cee4"
      },
      "source": [
        "# Ejemplo de como transformar una oración a tokens usando keras\n",
        "text = df.loc[1,0]\n",
        "text"
      ],
      "execution_count": 9,
      "outputs": [
        {
          "output_type": "execute_result",
          "data": {
            "application/vnd.google.colaboratory.intrinsic+json": {
              "type": "string"
            },
            "text/plain": [
              "' tienes wifi si y cual es la clave tener dinero y pagarlo '"
            ]
          },
          "metadata": {},
          "execution_count": 9
        }
      ]
    },
    {
      "cell_type": "code",
      "metadata": {
        "id": "AOv67Sj7aeFH",
        "colab": {
          "base_uri": "https://localhost:8080/"
        },
        "outputId": "02315724-a55b-4924-b25b-2fedf1884dc8"
      },
      "source": [
        "tokens = text_to_word_sequence(text) # entran oraciones -> salen vectores de N posiciones (tokens)\n",
        "tokens"
      ],
      "execution_count": 10,
      "outputs": [
        {
          "output_type": "execute_result",
          "data": {
            "text/plain": [
              "['tienes',\n",
              " 'wifi',\n",
              " 'si',\n",
              " 'y',\n",
              " 'cual',\n",
              " 'es',\n",
              " 'la',\n",
              " 'clave',\n",
              " 'tener',\n",
              " 'dinero',\n",
              " 'y',\n",
              " 'pagarlo']"
            ]
          },
          "metadata": {},
          "execution_count": 10
        }
      ]
    },
    {
      "cell_type": "markdown",
      "metadata": {
        "id": "ZrlyqkoiaymK"
      },
      "source": [
        "1.1 - Transformar las oraciones en secuencias (tokens) de palabras"
      ]
    },
    {
      "cell_type": "code",
      "metadata": {
        "id": "XH_L14Wjaowe"
      },
      "source": [
        "# Recorrer todas las filas y transformar las oraciones\n",
        "# en secuencias de palabras\n",
        "sentence_tokens = []\n",
        "for _, row in df[:None].iterrows():\n",
        "    sentence_tokens.append(text_to_word_sequence(row[0]))"
      ],
      "execution_count": 11,
      "outputs": []
    },
    {
      "cell_type": "code",
      "metadata": {
        "id": "KASzU4CdaxbZ",
        "colab": {
          "base_uri": "https://localhost:8080/"
        },
        "outputId": "a5fe9fb9-a853-4927-d6ed-e8fcfe78e4df"
      },
      "source": [
        "# Demos un vistazo\n",
        "sentence_tokens[:2]"
      ],
      "execution_count": 12,
      "outputs": [
        {
          "output_type": "execute_result",
          "data": {
            "text/plain": [
              "[['primera',\n",
              "  'escena',\n",
              "  'un',\n",
              "  'hipopotamo',\n",
              "  'pequeno',\n",
              "  'segunda',\n",
              "  'escena',\n",
              "  'un',\n",
              "  'hipopotamo',\n",
              "  'mediano',\n",
              "  'tercera',\n",
              "  'escena',\n",
              "  'un',\n",
              "  'hipopotamo',\n",
              "  'grande',\n",
              "  'titulo',\n",
              "  'de',\n",
              "  'la',\n",
              "  'obra',\n",
              "  'hipocrecia'],\n",
              " ['tienes',\n",
              "  'wifi',\n",
              "  'si',\n",
              "  'y',\n",
              "  'cual',\n",
              "  'es',\n",
              "  'la',\n",
              "  'clave',\n",
              "  'tener',\n",
              "  'dinero',\n",
              "  'y',\n",
              "  'pagarlo']]"
            ]
          },
          "metadata": {},
          "execution_count": 12
        }
      ]
    },
    {
      "cell_type": "code",
      "metadata": {
        "id": "A659lswTbIIB"
      },
      "source": [
        "# Código para hacer el desfazaje de las palabras\n",
        "# según el train_len\n",
        "text_sequences = []\n",
        "\n",
        "for i in range(train_len, len(tokens)+1):\n",
        "  seq = tokens[i-train_len:i]\n",
        "  text_sequences.append(seq)"
      ],
      "execution_count": 13,
      "outputs": []
    },
    {
      "cell_type": "code",
      "metadata": {
        "id": "01JEoPPnbgRF",
        "colab": {
          "base_uri": "https://localhost:8080/"
        },
        "outputId": "4b0c02dc-6b39-4c1b-cef0-d3b68fece713"
      },
      "source": [
        "# Demos un vistazo a nuestros vectores para entrenar el modelo\n",
        "text_sequences "
      ],
      "execution_count": 14,
      "outputs": [
        {
          "output_type": "execute_result",
          "data": {
            "text/plain": [
              "[['tienes', 'wifi', 'si', 'y'],\n",
              " ['wifi', 'si', 'y', 'cual'],\n",
              " ['si', 'y', 'cual', 'es'],\n",
              " ['y', 'cual', 'es', 'la'],\n",
              " ['cual', 'es', 'la', 'clave'],\n",
              " ['es', 'la', 'clave', 'tener'],\n",
              " ['la', 'clave', 'tener', 'dinero'],\n",
              " ['clave', 'tener', 'dinero', 'y'],\n",
              " ['tener', 'dinero', 'y', 'pagarlo']]"
            ]
          },
          "metadata": {},
          "execution_count": 14
        }
      ]
    },
    {
      "cell_type": "markdown",
      "metadata": {
        "id": "4B0gHnKVa4W_"
      },
      "source": [
        "1.2 - Crear los vectores de palabras (word2vec)\n",
        "\n",
        "Ahora necesitamos pasarlos a números para que lo entienda la red y separar input de output.\n",
        "- El Input seran integers (word2vec)\n",
        "- Mientras que el output será one hot encodeado (labels) del tamaño del vocabulario"
      ]
    },
    {
      "cell_type": "code",
      "metadata": {
        "id": "fkPNvXeQcS0U"
      },
      "source": [
        "tok = Tokenizer() \n",
        "\n",
        "# El tokeinzer \"aprende\" las palabras que se usaran\n",
        "# Se construye (fit) una vez por proyecto, se aplica N veces (tal cual un encoder)\n",
        "tok.fit_on_texts(text_sequences) \n",
        "\n",
        "# Convertimos las palabras a números\n",
        "# entran palabras -> salen números\n",
        "sequences = tok.texts_to_sequences(text_sequences)"
      ],
      "execution_count": 15,
      "outputs": []
    },
    {
      "cell_type": "code",
      "metadata": {
        "id": "4SIc44IocyQb",
        "colab": {
          "base_uri": "https://localhost:8080/"
        },
        "outputId": "10b37f11-615f-4547-fac9-c1c0568b2e2b"
      },
      "source": [
        "# Ahora sequences tiene los números \"ID\", largo 4\n",
        "sequences"
      ],
      "execution_count": 16,
      "outputs": [
        {
          "output_type": "execute_result",
          "data": {
            "text/plain": [
              "[[10, 9, 7, 1],\n",
              " [9, 7, 1, 2],\n",
              " [7, 1, 2, 3],\n",
              " [1, 2, 3, 4],\n",
              " [2, 3, 4, 5],\n",
              " [3, 4, 5, 6],\n",
              " [4, 5, 6, 8],\n",
              " [5, 6, 8, 1],\n",
              " [6, 8, 1, 11]]"
            ]
          },
          "metadata": {},
          "execution_count": 16
        }
      ]
    },
    {
      "cell_type": "code",
      "metadata": {
        "id": "3ro81yCQc1oX",
        "colab": {
          "base_uri": "https://localhost:8080/"
        },
        "outputId": "19b16423-cf3c-45ba-a65a-54f57e440c9e"
      },
      "source": [
        "# Cantidad de casos (doc) de entrada\n",
        "print(tok.document_count)"
      ],
      "execution_count": 17,
      "outputs": [
        {
          "output_type": "stream",
          "name": "stdout",
          "text": [
            "9\n"
          ]
        }
      ]
    },
    {
      "cell_type": "code",
      "metadata": {
        "id": "nzAWNfroc4u1",
        "colab": {
          "base_uri": "https://localhost:8080/"
        },
        "outputId": "89656dc2-f15c-4a1e-c332-61385d575293"
      },
      "source": [
        "# Cantidad de veces que aparece cada palabra\n",
        "print(tok.word_counts)"
      ],
      "execution_count": 18,
      "outputs": [
        {
          "output_type": "stream",
          "name": "stdout",
          "text": [
            "OrderedDict([('tienes', 1), ('wifi', 2), ('si', 3), ('y', 6), ('cual', 4), ('es', 4), ('la', 4), ('clave', 4), ('tener', 4), ('dinero', 3), ('pagarlo', 1)])\n"
          ]
        }
      ]
    },
    {
      "cell_type": "code",
      "metadata": {
        "id": "spTBxmFQc6h8",
        "colab": {
          "base_uri": "https://localhost:8080/"
        },
        "outputId": "69b5388a-ab46-460a-dea9-9e46f61882cf"
      },
      "source": [
        "# El índice para cada palabra\n",
        "# El sistema las ordena de las más populares a las menos populares\n",
        "print(tok.word_index)"
      ],
      "execution_count": 19,
      "outputs": [
        {
          "output_type": "stream",
          "name": "stdout",
          "text": [
            "{'y': 1, 'cual': 2, 'es': 3, 'la': 4, 'clave': 5, 'tener': 6, 'si': 7, 'dinero': 8, 'wifi': 9, 'tienes': 10, 'pagarlo': 11}\n"
          ]
        }
      ]
    },
    {
      "cell_type": "code",
      "metadata": {
        "id": "nUDkjy80c77h",
        "colab": {
          "base_uri": "https://localhost:8080/"
        },
        "outputId": "84fa12c9-77d1-41f7-f345-d65358e9ade9"
      },
      "source": [
        "# Cantidad de veces quea aparece cada palabra en cada \"documento\"\n",
        "# (1 documento = 1 caso de entrada)\n",
        "print(tok.word_docs)"
      ],
      "execution_count": 20,
      "outputs": [
        {
          "output_type": "stream",
          "name": "stdout",
          "text": [
            "defaultdict(<class 'int'>, {'si': 3, 'tienes': 1, 'y': 6, 'wifi': 2, 'cual': 4, 'es': 4, 'la': 4, 'clave': 4, 'tener': 4, 'dinero': 3, 'pagarlo': 1})\n"
          ]
        }
      ]
    },
    {
      "cell_type": "markdown",
      "metadata": {
        "id": "ohS5Tao1d2KB"
      },
      "source": [
        "### 2 - Preprocesamiento completo\n",
        "Debemos realizar los mismos pasos que en el ejemplo anterior.\n",
        "En este caso no unimos a texto completo ya que al tratarse de chistes individuales, no tendría sentido continuar uno con el otro."
      ]
    },
    {
      "cell_type": "code",
      "metadata": {
        "id": "63Z2-Se2t27r",
        "colab": {
          "base_uri": "https://localhost:8080/"
        },
        "outputId": "16614a77-b207-4320-b7d6-7db95860578a"
      },
      "source": [
        "# Vistazo a las primeras filas\n",
        "df.loc[:15,0]"
      ],
      "execution_count": 21,
      "outputs": [
        {
          "output_type": "execute_result",
          "data": {
            "text/plain": [
              "0     primera escena un hipopotamo pequeno segunda e...\n",
              "1      tienes wifi si y cual es la clave tener diner...\n",
              "2     en una entrevista de trabajo nivel de ingles a...\n",
              "3     cual es el cafe mas peligroso del mundoel expreso\n",
              "4      mama mama los spaghetti se estan pegando deja...\n",
              "5           soy rosa ah perdoname es que soy daltonico \n",
              "6      oye cual es tu plato favorito y por que pues ...\n",
              "7               que pasa si tiras un pato al agua nada \n",
              "8      ayer llame a la policia porque unos ladrones ...\n",
              "9               como te llamas lancelot pues atrapalot \n",
              "10     papa que esta mas lejos cordoba o la luna per...\n",
              "11     mi ordenador me gana al ajedrez pero yo le ga...\n",
              "12     general soldado ice la banderasoldado pues le...\n",
              "13     a las 10 te pito y bajas te has comprado un c...\n",
              "14     cual es el coche favorito de un fotografoel f...\n",
              "15     oye cuanto te costo esa terapia que hiciste p...\n",
              "Name: 0, dtype: object"
            ]
          },
          "metadata": {},
          "execution_count": 21
        }
      ]
    },
    {
      "cell_type": "code",
      "metadata": {
        "id": "8VkNG8UcUXPI"
      },
      "source": [
        "# Creamos vectores separando los chistes individualmente antes de tokenizar\n",
        "for j in range(len(df)):\n",
        "  tokens= text_to_word_sequence( str(df.loc[j][0]))\n",
        "  for i in range(train_len, len(tokens)):\n",
        "    seq = tokens[i-train_len:i]\n",
        "    text_sequences.append(seq)"
      ],
      "execution_count": 22,
      "outputs": []
    },
    {
      "cell_type": "code",
      "metadata": {
        "id": "FU3FuqHSuhzq",
        "colab": {
          "base_uri": "https://localhost:8080/"
        },
        "outputId": "fc017188-0d16-43fe-ed16-4a5c710c588b"
      },
      "source": [
        "# Demos un vistazo a nuestros vectores para entrenar el modelo\n",
        "text_sequences[:20]"
      ],
      "execution_count": 23,
      "outputs": [
        {
          "output_type": "execute_result",
          "data": {
            "text/plain": [
              "[['tienes', 'wifi', 'si', 'y'],\n",
              " ['wifi', 'si', 'y', 'cual'],\n",
              " ['si', 'y', 'cual', 'es'],\n",
              " ['y', 'cual', 'es', 'la'],\n",
              " ['cual', 'es', 'la', 'clave'],\n",
              " ['es', 'la', 'clave', 'tener'],\n",
              " ['la', 'clave', 'tener', 'dinero'],\n",
              " ['clave', 'tener', 'dinero', 'y'],\n",
              " ['tener', 'dinero', 'y', 'pagarlo'],\n",
              " ['primera', 'escena', 'un', 'hipopotamo'],\n",
              " ['escena', 'un', 'hipopotamo', 'pequeno'],\n",
              " ['un', 'hipopotamo', 'pequeno', 'segunda'],\n",
              " ['hipopotamo', 'pequeno', 'segunda', 'escena'],\n",
              " ['pequeno', 'segunda', 'escena', 'un'],\n",
              " ['segunda', 'escena', 'un', 'hipopotamo'],\n",
              " ['escena', 'un', 'hipopotamo', 'mediano'],\n",
              " ['un', 'hipopotamo', 'mediano', 'tercera'],\n",
              " ['hipopotamo', 'mediano', 'tercera', 'escena'],\n",
              " ['mediano', 'tercera', 'escena', 'un'],\n",
              " ['tercera', 'escena', 'un', 'hipopotamo']]"
            ]
          },
          "metadata": {},
          "execution_count": 23
        }
      ]
    },
    {
      "cell_type": "code",
      "metadata": {
        "id": "064N2jtLvHRg",
        "colab": {
          "base_uri": "https://localhost:8080/"
        },
        "outputId": "14a6802b-eae6-450c-9623-5dc018a24fc8"
      },
      "source": [
        "# Proceso de tokenizacion\n",
        "tok = Tokenizer() \n",
        "tok.fit_on_texts(text_sequences) \n",
        "\n",
        "# Convertimos las palabras a números\n",
        "# entran palabras -> salen números\n",
        "sequences = tok.texts_to_sequences(text_sequences)\n",
        "\n",
        "# Damos un vistazo\n",
        "sequences[:20]"
      ],
      "execution_count": 24,
      "outputs": [
        {
          "output_type": "execute_result",
          "data": {
            "text/plain": [
              "[[158, 874, 19, 7],\n",
              " [874, 19, 7, 75],\n",
              " [19, 7, 75, 13],\n",
              " [7, 75, 13, 4],\n",
              " [75, 13, 4, 496],\n",
              " [13, 4, 496, 100],\n",
              " [4, 496, 100, 193],\n",
              " [496, 100, 193, 7],\n",
              " [100, 193, 7, 2310],\n",
              " [205, 442, 6, 333],\n",
              " [442, 6, 333, 250],\n",
              " [6, 333, 250, 497],\n",
              " [333, 250, 497, 442],\n",
              " [250, 497, 442, 6],\n",
              " [497, 442, 6, 333],\n",
              " [442, 6, 333, 875],\n",
              " [6, 333, 875, 876],\n",
              " [333, 875, 876, 442],\n",
              " [875, 876, 442, 6],\n",
              " [876, 442, 6, 333]]"
            ]
          },
          "metadata": {},
          "execution_count": 24
        }
      ]
    },
    {
      "cell_type": "markdown",
      "metadata": {
        "id": "QMVP4bj0vL2e"
      },
      "source": [
        "### 3 - Input y target"
      ]
    },
    {
      "cell_type": "code",
      "metadata": {
        "id": "BEod7qghvTVt",
        "colab": {
          "base_uri": "https://localhost:8080/"
        },
        "outputId": "7293ff99-8f95-497f-fc8f-0208c5ff39bf"
      },
      "source": [
        "# Con numpy es muy fácil realizar el slicing de vectores\n",
        "ex = np.array([[1,2,3,4],[5,6,7,8]])\n",
        "\n",
        "print(\"Dimension:\", ex.shape)\n",
        "print(\"Todos los elementos:\", ex)\n",
        "print(\"Todos los elementos menos el último:\", ex[:, :-1])"
      ],
      "execution_count": 25,
      "outputs": [
        {
          "output_type": "stream",
          "name": "stdout",
          "text": [
            "Dimension: (2, 4)\n",
            "Todos los elementos: [[1 2 3 4]\n",
            " [5 6 7 8]]\n",
            "Todos los elementos menos el último: [[1 2 3]\n",
            " [5 6 7]]\n"
          ]
        }
      ]
    },
    {
      "cell_type": "code",
      "metadata": {
        "id": "i95xWqtCvp8T",
        "colab": {
          "base_uri": "https://localhost:8080/"
        },
        "outputId": "74fc1e87-60b2-451b-8e8a-551849bac506"
      },
      "source": [
        "input = ex[:,:-1] # todos los rows, menos la ultima col\n",
        "target = ex[:, -1] # última col de cada row\n",
        "\n",
        "print(\"Input:\", input)\n",
        "print(\"Target:\", target)"
      ],
      "execution_count": 26,
      "outputs": [
        {
          "output_type": "stream",
          "name": "stdout",
          "text": [
            "Input: [[1 2 3]\n",
            " [5 6 7]]\n",
            "Target: [4 8]\n"
          ]
        }
      ]
    },
    {
      "cell_type": "code",
      "metadata": {
        "id": "e1vJTG65v4Qn",
        "colab": {
          "base_uri": "https://localhost:8080/"
        },
        "outputId": "b4bbd59a-1bc8-419c-ea90-2bda04f4608c"
      },
      "source": [
        "arr_sequences = np.array(sequences)\n",
        "x_data = arr_sequences[:,:-1]\n",
        "y_data_int = arr_sequences[:,-1] # aún falta el oneHotEncoder\n",
        "\n",
        "print(x_data.shape)\n",
        "print(y_data_int.shape)"
      ],
      "execution_count": 27,
      "outputs": [
        {
          "output_type": "stream",
          "name": "stdout",
          "text": [
            "(9602, 3)\n",
            "(9602,)\n"
          ]
        }
      ]
    },
    {
      "cell_type": "code",
      "metadata": {
        "id": "ln6kVWVlwBBs",
        "colab": {
          "base_uri": "https://localhost:8080/"
        },
        "outputId": "2a901b8e-8ba6-42f6-b185-074d36a49ba8"
      },
      "source": [
        "# Palabras del vocabulario\n",
        "tok.index_word"
      ],
      "execution_count": 28,
      "outputs": [
        {
          "output_type": "execute_result",
          "data": {
            "text/plain": [
              "{1: 'que',\n",
              " 2: 'a',\n",
              " 3: 'de',\n",
              " 4: 'la',\n",
              " 5: 'el',\n",
              " 6: 'un',\n",
              " 7: 'y',\n",
              " 8: 'no',\n",
              " 9: 'en',\n",
              " 10: 'se',\n",
              " 11: 'le',\n",
              " 12: 'una',\n",
              " 13: 'es',\n",
              " 14: 'dice',\n",
              " 15: 'los',\n",
              " 16: 'me',\n",
              " 17: 'por',\n",
              " 18: 'con',\n",
              " 19: 'si',\n",
              " 20: 'tan',\n",
              " 21: 'pero',\n",
              " 22: 'mama',\n",
              " 23: 'al',\n",
              " 24: 'su',\n",
              " 25: 'lo',\n",
              " 26: 'porque',\n",
              " 27: 'te',\n",
              " 28: 'pues',\n",
              " 29: 'para',\n",
              " 30: 'tu',\n",
              " 31: 'mi',\n",
              " 32: 'hombre',\n",
              " 33: 'las',\n",
              " 34: 'como',\n",
              " 35: 'jaimito',\n",
              " 36: 'esta',\n",
              " 37: 'ya',\n",
              " 38: 'mujer',\n",
              " 39: 'cuando',\n",
              " 40: 'otro',\n",
              " 41: 'hijo',\n",
              " 42: 'pregunta',\n",
              " 43: 'ha',\n",
              " 44: 'del',\n",
              " 45: 'mas',\n",
              " 46: 'papa',\n",
              " 47: 'yo',\n",
              " 48: 'eso',\n",
              " 49: 'va',\n",
              " 50: 'lepe',\n",
              " 51: 'dos',\n",
              " 52: 'padre',\n",
              " 53: 'he',\n",
              " 54: 'uno',\n",
              " 55: 'responde',\n",
              " 56: 'hacer',\n",
              " 57: 'hace',\n",
              " 58: 'doctor',\n",
              " 59: 'tiene',\n",
              " 60: 'nino',\n",
              " 61: 'contesta',\n",
              " 62: 'otra',\n",
              " 63: 'bien',\n",
              " 64: 'ver',\n",
              " 65: 'senor',\n",
              " 66: 'donde',\n",
              " 67: 'madre',\n",
              " 68: 'vez',\n",
              " 69: 'solo',\n",
              " 70: 'tengo',\n",
              " 71: 'quiero',\n",
              " 72: 'estan',\n",
              " 73: 'hombres',\n",
              " 74: 'dijo',\n",
              " 75: 'cual',\n",
              " 76: 'hay',\n",
              " 77: 'usted',\n",
              " 78: 'parecen',\n",
              " 79: 'ser',\n",
              " 80: 'puedo',\n",
              " 81: 'estas',\n",
              " 82: 'aqui',\n",
              " 83: 'muy',\n",
              " 84: 'este',\n",
              " 85: 'nada',\n",
              " 86: 'son',\n",
              " 87: 'escuela',\n",
              " 88: 'haces',\n",
              " 89: 'mujeres',\n",
              " 90: 'colmo',\n",
              " 91: 'voy',\n",
              " 92: 'dicen',\n",
              " 93: 'amor',\n",
              " 94: 'soy',\n",
              " 95: 'antes',\n",
              " 96: 'mira',\n",
              " 97: 'casa',\n",
              " 98: 'les',\n",
              " 99: 'era',\n",
              " 100: 'tener',\n",
              " 101: 'veces',\n",
              " 102: 'siempre',\n",
              " 103: 'o',\n",
              " 104: 'todo',\n",
              " 105: 'ahora',\n",
              " 106: 'vas',\n",
              " 107: 'suegra',\n",
              " 108: 'falta',\n",
              " 109: 'sin',\n",
              " 110: 'bueno',\n",
              " 111: 'mio',\n",
              " 112: 'ay',\n",
              " 113: 'fea',\n",
              " 114: 'entra',\n",
              " 115: 'entonces',\n",
              " 116: 'oye',\n",
              " 117: 'pasa',\n",
              " 118: 'ella',\n",
              " 119: 'hoy',\n",
              " 120: 'puede',\n",
              " 121: 'despues',\n",
              " 122: 'hija',\n",
              " 123: 'medico',\n",
              " 124: 'verdad',\n",
              " 125: 'anda',\n",
              " 126: 'estoy',\n",
              " 127: 'maestra',\n",
              " 128: 'tres',\n",
              " 129: 'dia',\n",
              " 130: 'fiesta',\n",
              " 131: 'coche',\n",
              " 132: 'mucho',\n",
              " 133: 'entre',\n",
              " 134: 'tienen',\n",
              " 135: 'vamos',\n",
              " 136: 'dicho',\n",
              " 137: 'ponen',\n",
              " 138: 'borracho',\n",
              " 139: 'feo',\n",
              " 140: 'sobre',\n",
              " 141: 'sabes',\n",
              " 142: 'van',\n",
              " 143: 'tio',\n",
              " 144: 'pelo',\n",
              " 145: 'loco',\n",
              " 146: 'ves',\n",
              " 147: 'quieres',\n",
              " 148: 'bebe',\n",
              " 149: 'pobre',\n",
              " 150: 'claro',\n",
              " 151: 'cabeza',\n",
              " 152: 'amigo',\n",
              " 153: 'quiere',\n",
              " 154: 'ninos',\n",
              " 155: 'pepito',\n",
              " 156: 'callate',\n",
              " 157: 'dar',\n",
              " 158: 'tienes',\n",
              " 159: 'anos',\n",
              " 160: 'mar',\n",
              " 161: 'colegio',\n",
              " 162: 'gato',\n",
              " 163: 'nene',\n",
              " 164: 'libro',\n",
              " 165: 'profesora',\n",
              " 166: 'encima',\n",
              " 167: 'marido',\n",
              " 168: 'desde',\n",
              " 169: 'dices',\n",
              " 170: '2',\n",
              " 171: 'grande',\n",
              " 172: 'oiga',\n",
              " 173: 'mismo',\n",
              " 174: 'ojos',\n",
              " 175: 'quien',\n",
              " 176: 'ah',\n",
              " 177: 'esa',\n",
              " 178: 'tambien',\n",
              " 179: 'hola',\n",
              " 180: 'senora',\n",
              " 181: 'mis',\n",
              " 182: 'profesor',\n",
              " 183: 'fue',\n",
              " 184: 'perro',\n",
              " 185: 'cama',\n",
              " 186: 'hizo',\n",
              " 187: 'agua',\n",
              " 188: 'patxi',\n",
              " 189: 'senorita',\n",
              " 190: 'menos',\n",
              " 191: 'cara',\n",
              " 192: 'juanito',\n",
              " 193: 'dinero',\n",
              " 194: 'cada',\n",
              " 195: 'ese',\n",
              " 196: 'llega',\n",
              " 197: 'paciente',\n",
              " 198: 'diferencia',\n",
              " 199: '3',\n",
              " 200: 'pez',\n",
              " 201: 'nos',\n",
              " 202: 'parece',\n",
              " 203: 'manana',\n",
              " 204: 'abre',\n",
              " 205: 'primera',\n",
              " 206: 'gusano',\n",
              " 207: 'calle',\n",
              " 208: 'da',\n",
              " 209: 'ellos',\n",
              " 210: 'hijos',\n",
              " 211: 'frente',\n",
              " 212: 'eres',\n",
              " 213: 'pedo',\n",
              " 214: 'bar',\n",
              " 215: 'obsesionado',\n",
              " 216: 'tenia',\n",
              " 217: 'llama',\n",
              " 218: 'gorda',\n",
              " 219: 'amiga',\n",
              " 220: 'preguntan',\n",
              " 221: 'esposa',\n",
              " 222: 'ir',\n",
              " 223: 'papel',\n",
              " 224: 'soldado',\n",
              " 225: 'tarde',\n",
              " 226: 'carino',\n",
              " 227: 'noche',\n",
              " 228: 'decir',\n",
              " 229: 'mejor',\n",
              " 230: 'piernas',\n",
              " 231: 'todos',\n",
              " 232: 'ayer',\n",
              " 233: 'has',\n",
              " 234: 'gusta',\n",
              " 235: 'problema',\n",
              " 236: 'debo',\n",
              " 237: 'cayo',\n",
              " 238: 'queda',\n",
              " 239: 'euros',\n",
              " 240: 'dije',\n",
              " 241: 'pato',\n",
              " 242: 'hasta',\n",
              " 243: 'nunca',\n",
              " 244: 'sale',\n",
              " 245: 'dime',\n",
              " 246: 'lleva',\n",
              " 247: 'leche',\n",
              " 248: 'hecho',\n",
              " 249: 'maria',\n",
              " 250: 'pequeno',\n",
              " 251: 'trabajo',\n",
              " 252: 'ingles',\n",
              " 253: 'cafe',\n",
              " 254: 'policia',\n",
              " 255: 'comida',\n",
              " 256: 'todavia',\n",
              " 257: 'puerta',\n",
              " 258: 'examen',\n",
              " 259: 'matematicas',\n",
              " 260: 'dio',\n",
              " 261: 'llego',\n",
              " 262: 'comprar',\n",
              " 263: 'mando',\n",
              " 264: 'sea',\n",
              " 265: 'consulta',\n",
              " 266: 'the',\n",
              " 267: 'ventana',\n",
              " 268: 'banera',\n",
              " 269: 'ven',\n",
              " 270: 'tortuga',\n",
              " 271: 'pasar',\n",
              " 272: 'pan',\n",
              " 273: 'normal',\n",
              " 274: 'animal',\n",
              " 275: 'jugar',\n",
              " 276: 'haciendo',\n",
              " 277: 'nombre',\n",
              " 278: 'dios',\n",
              " 279: 'ano',\n",
              " 280: 'vago',\n",
              " 281: 'lugar',\n",
              " 282: 'mierda',\n",
              " 283: 'caca',\n",
              " 284: 'abajo',\n",
              " 285: 'vascos',\n",
              " 286: 'inaki',\n",
              " 287: 'grita',\n",
              " 288: 'nina',\n",
              " 289: 'crees',\n",
              " 290: 'hablando',\n",
              " 291: 'deje',\n",
              " 292: 'sus',\n",
              " 293: 'salir',\n",
              " 294: 'das',\n",
              " 295: 'luz',\n",
              " 296: 'toda',\n",
              " 297: 'ahi',\n",
              " 298: 'nosotros',\n",
              " 299: 'detras',\n",
              " 300: 'unos',\n",
              " 301: 'luna',\n",
              " 302: 'ordenador',\n",
              " 303: 'mil',\n",
              " 304: 'mal',\n",
              " 305: 'telefono',\n",
              " 306: 'tiempo',\n",
              " 307: 'joder',\n",
              " 308: 'ni',\n",
              " 309: 'huevos',\n",
              " 310: 'estar',\n",
              " 311: 'tanto',\n",
              " 312: 'facil',\n",
              " 313: 'tonto',\n",
              " 314: 'usar',\n",
              " 315: 'paso',\n",
              " 316: 'dias',\n",
              " 317: 'cuerpo',\n",
              " 318: 'gracias',\n",
              " 319: 'vuelve',\n",
              " 320: 'novio',\n",
              " 321: 'quitas',\n",
              " 322: 'cuesta',\n",
              " 323: 'hacia',\n",
              " 324: 'pepe',\n",
              " 325: 'caminan',\n",
              " 326: 'picar',\n",
              " 327: 'mano',\n",
              " 328: 'llorar',\n",
              " 329: 'arriba',\n",
              " 330: 'familia',\n",
              " 331: 'salio',\n",
              " 332: 'cosas',\n",
              " 333: 'hipopotamo',\n",
              " 334: 'pegando',\n",
              " 335: 'lejos',\n",
              " 336: 'gana',\n",
              " 337: 'comprado',\n",
              " 338: 'cuanto',\n",
              " 339: 'diez',\n",
              " 340: 'gustaria',\n",
              " 341: 'vivir',\n",
              " 342: 'vida',\n",
              " 343: 'ropa',\n",
              " 344: 'playa',\n",
              " 345: 'llaman',\n",
              " 346: 'motosierra',\n",
              " 347: 'cien',\n",
              " 348: 'segundo',\n",
              " 349: '15',\n",
              " 350: '300',\n",
              " 351: 'vacas',\n",
              " 352: 'madera',\n",
              " 353: 'estamos',\n",
              " 354: 'primero',\n",
              " 355: 'grandes',\n",
              " 356: '7',\n",
              " 357: 'llegan',\n",
              " 358: '4',\n",
              " 359: 'tierra',\n",
              " 360: 'encuentra',\n",
              " 361: 'blanco',\n",
              " 362: 'pechos',\n",
              " 363: 'boca',\n",
              " 364: 'cerrados',\n",
              " 365: 'windows',\n",
              " 366: 'cierto',\n",
              " 367: 'empate',\n",
              " 368: 'hubo',\n",
              " 369: 'mayor',\n",
              " 370: 'cocina',\n",
              " 371: 'pollo',\n",
              " 372: 'arco',\n",
              " 373: 'novia',\n",
              " 374: 'sabia',\n",
              " 375: 'habia',\n",
              " 376: 'tarea',\n",
              " 377: 've',\n",
              " 378: 'barra',\n",
              " 379: 'tenemos',\n",
              " 380: 'mami',\n",
              " 381: 'gustan',\n",
              " 382: 'futbol',\n",
              " 383: 'forever',\n",
              " 384: 'techo',\n",
              " 385: 'fruta',\n",
              " 386: 'abuelo',\n",
              " 387: 'pueden',\n",
              " 388: 'grave',\n",
              " 389: 'despistado',\n",
              " 390: 'vino',\n",
              " 391: 'deja',\n",
              " 392: 'bonito',\n",
              " 393: 'capitan',\n",
              " 394: 'ultima',\n",
              " 395: 'sorprendido',\n",
              " 396: 'pulga',\n",
              " 397: 'igual',\n",
              " 398: 'profe',\n",
              " 399: 'escribe',\n",
              " 400: 'adan',\n",
              " 401: 'venimos',\n",
              " 402: 'culpa',\n",
              " 403: 'preocupes',\n",
              " 404: 'drogas',\n",
              " 405: 'gratis',\n",
              " 406: 'unas',\n",
              " 407: 'pera',\n",
              " 408: 'cabello',\n",
              " 409: 'cuatro',\n",
              " 410: 'sexual',\n",
              " 411: 'honrado',\n",
              " 412: 'chiquita',\n",
              " 413: 'cura',\n",
              " 414: 'cuello',\n",
              " 415: 'caia',\n",
              " 416: 'general',\n",
              " 417: '10',\n",
              " 418: 'peor',\n",
              " 419: '0',\n",
              " 420: 'veo',\n",
              " 421: 'han',\n",
              " 422: 'esto',\n",
              " 423: 'siento',\n",
              " 424: 'amigos',\n",
              " 425: 'llevo',\n",
              " 426: 'meter',\n",
              " 427: 'personas',\n",
              " 428: 'bote',\n",
              " 429: 'restaurante',\n",
              " 430: 'pinchos',\n",
              " 431: 'serpiente',\n",
              " 432: 'corto',\n",
              " 433: 'camarero',\n",
              " 434: 'acaba',\n",
              " 435: 'cine',\n",
              " 436: '50',\n",
              " 437: 'barco',\n",
              " 438: 'cosa',\n",
              " 439: 'embarazada',\n",
              " 440: 'pared',\n",
              " 441: 'sopa',\n",
              " 442: 'escena',\n",
              " 443: 'llamas',\n",
              " 444: 'hiciste',\n",
              " 445: 'mundo',\n",
              " 446: 'manzana',\n",
              " 447: 'ascensor',\n",
              " 448: 'alquilar',\n",
              " 449: 'hora',\n",
              " 450: 'echar',\n",
              " 451: 'cambiar',\n",
              " 452: 'duele',\n",
              " 453: 'pusieron',\n",
              " 454: 'corriendo',\n",
              " 455: 'vienen',\n",
              " 456: 'pone',\n",
              " 457: 'presento',\n",
              " 458: 'persona',\n",
              " 459: 'mosquito',\n",
              " 460: 'comer',\n",
              " 461: 'filete',\n",
              " 462: 'muchos',\n",
              " 463: 'malo',\n",
              " 464: 'gusto',\n",
              " 465: 'disculpe',\n",
              " 466: 'ustedes',\n",
              " 467: 'acabo',\n",
              " 468: 'acto',\n",
              " 469: 'droga',\n",
              " 470: 'cuernos',\n",
              " 471: 'enano',\n",
              " 472: 'largo',\n",
              " 473: 'quedo',\n",
              " 474: 'cambio',\n",
              " 475: 'somos',\n",
              " 476: 'estaba',\n",
              " 477: 'patatas',\n",
              " 478: 'tele',\n",
              " 479: 'queria',\n",
              " 480: 'hermana',\n",
              " 481: 'creo',\n",
              " 482: 'ja',\n",
              " 483: 'caja',\n",
              " 484: 'gimnasio',\n",
              " 485: 'buena',\n",
              " 486: 'sigue',\n",
              " 487: 'sabe',\n",
              " 488: 'vuelta',\n",
              " 489: 'escribir',\n",
              " 490: 'primer',\n",
              " 491: 'dile',\n",
              " 492: 'podemos',\n",
              " 493: 'carne',\n",
              " 494: '6',\n",
              " 495: 'guarro',\n",
              " 496: 'clave',\n",
              " 497: 'segunda',\n",
              " 498: 'obra',\n",
              " 499: 'alto',\n",
              " 500: 'favorito',\n",
              " 501: 'vasos',\n",
              " 502: 'dejar',\n",
              " 503: 'millones',\n",
              " 504: 'isla',\n",
              " 505: 'desierta',\n",
              " 506: 'numero',\n",
              " 507: 'viaje',\n",
              " 508: 'lavan',\n",
              " 509: 'alli',\n",
              " 510: 'discutir',\n",
              " 511: 'sera',\n",
              " 512: 'necesitamos',\n",
              " 513: 'positivo',\n",
              " 514: 'depende',\n",
              " 515: 'tienda',\n",
              " 516: 'arboles',\n",
              " 517: 'probado',\n",
              " 518: 'corta',\n",
              " 519: 'cogido',\n",
              " 520: '30',\n",
              " 521: 'minutos',\n",
              " 522: 'ido',\n",
              " 523: 'ovejas',\n",
              " 524: 'construir',\n",
              " 525: 'castillo',\n",
              " 526: 'repente',\n",
              " 527: 'patucos',\n",
              " 528: 'tercero',\n",
              " 529: 'moto',\n",
              " 530: 'sevilla',\n",
              " 531: 'debe',\n",
              " 532: 'bailar',\n",
              " 533: 'habla',\n",
              " 534: 'estacion',\n",
              " 535: 'din',\n",
              " 536: 'tren',\n",
              " 537: 'ayuda',\n",
              " 538: 'levanta',\n",
              " 539: 'llegaste',\n",
              " 540: '100',\n",
              " 541: 'saber',\n",
              " 542: 'decirme',\n",
              " 543: 'casado',\n",
              " 544: 'bigote',\n",
              " 545: 'haga',\n",
              " 546: 'derecho',\n",
              " 547: 'abra',\n",
              " 548: 'caso',\n",
              " 549: 'tenga',\n",
              " 550: 'atiende',\n",
              " 551: 'llamada',\n",
              " 552: 'computadora',\n",
              " 553: 'colada',\n",
              " 554: 'hacen',\n",
              " 555: 'tirando',\n",
              " 556: 'beben',\n",
              " 557: 'casi',\n",
              " 558: 'llegas',\n",
              " 559: 'quede',\n",
              " 560: 'dormido',\n",
              " 561: 'sonando',\n",
              " 562: 'partido',\n",
              " 563: 'ahogo',\n",
              " 564: 'cat',\n",
              " 565: 'cataplum',\n",
              " 566: 'in',\n",
              " 567: 'water',\n",
              " 568: 'piedra',\n",
              " 569: 'lengua',\n",
              " 570: 'verano',\n",
              " 571: 'dormir',\n",
              " 572: 'mosquitos',\n",
              " 573: 'quieren',\n",
              " 574: 'muerte',\n",
              " 575: 'huevo',\n",
              " 576: 'director',\n",
              " 577: 'diceque',\n",
              " 578: 'salido',\n",
              " 579: 'polo',\n",
              " 580: 'norte',\n",
              " 581: 'cero',\n",
              " 582: 'bajo',\n",
              " 583: 'repartir',\n",
              " 584: 'asi',\n",
              " 585: 'buscar',\n",
              " 586: 'identificar',\n",
              " 587: 'submarino',\n",
              " 588: 'tiran',\n",
              " 589: 'unico',\n",
              " 590: 'sirven',\n",
              " 591: 'juana',\n",
              " 592: 'drogadicta',\n",
              " 593: 'palabra',\n",
              " 594: 'muchas',\n",
              " 595: 'ahogando',\n",
              " 596: 'alta',\n",
              " 597: 'limpia',\n",
              " 598: 'volcan',\n",
              " 599: 'redaccion',\n",
              " 600: 'jardineroque',\n",
              " 601: 'memoria',\n",
              " 602: 'chocolate',\n",
              " 603: 'pulgas',\n",
              " 604: 'cuidado',\n",
              " 605: 'intentando',\n",
              " 606: 'empresa',\n",
              " 607: 'puesto',\n",
              " 608: 'focas',\n",
              " 609: 'circo',\n",
              " 610: 'miran',\n",
              " 611: 'mago',\n",
              " 612: 'batman',\n",
              " 613: 'nervios',\n",
              " 614: 'iguana',\n",
              " 615: 'busco',\n",
              " 616: 'delante',\n",
              " 617: 'idiota',\n",
              " 618: 'pedirle',\n",
              " 619: 'casarme',\n",
              " 620: 'espagueti',\n",
              " 621: 'grano',\n",
              " 622: 'desierto',\n",
              " 623: 'deshacen',\n",
              " 624: 'primo',\n",
              " 625: 'impresora',\n",
              " 626: 'tuvo',\n",
              " 627: 'cole',\n",
              " 628: 'hoja',\n",
              " 629: 'tuya',\n",
              " 630: 'doliendo',\n",
              " 631: 'esponja',\n",
              " 632: 'chinche',\n",
              " 633: 'chica',\n",
              " 634: 'pastillas',\n",
              " 635: '5',\n",
              " 636: '000',\n",
              " 637: 'calvo',\n",
              " 638: 'mes',\n",
              " 639: 'zoo',\n",
              " 640: 'pasado',\n",
              " 641: 'ultimo',\n",
              " 642: 'estudiante',\n",
              " 643: 'piscina',\n",
              " 644: 'quejar',\n",
              " 645: 'grupo',\n",
              " 646: 'eva',\n",
              " 647: 'regalar',\n",
              " 648: 'super',\n",
              " 649: 'replica',\n",
              " 650: 'dragones',\n",
              " 651: 'champu',\n",
              " 652: 'quita',\n",
              " 653: 'todas',\n",
              " 654: 'pecho',\n",
              " 655: 'confesar',\n",
              " 656: 'puedes',\n",
              " 657: 'palo',\n",
              " 658: 'psiquiatras',\n",
              " 659: 'locos',\n",
              " 660: 'disfraz',\n",
              " 661: 'aun',\n",
              " 662: 'ponte',\n",
              " 663: 'meses',\n",
              " 664: 'dientes',\n",
              " 665: 'camello',\n",
              " 666: 'mamamama',\n",
              " 667: 'taxi',\n",
              " 668: 'decia',\n",
              " 669: 'rien',\n",
              " 670: 'promedio',\n",
              " 671: 'parada',\n",
              " 672: 'podes',\n",
              " 673: 'negro',\n",
              " 674: 'pregunto',\n",
              " 675: 'pepitopepito',\n",
              " 676: 'semana',\n",
              " 677: 'significa',\n",
              " 678: 'puso',\n",
              " 679: 'peluche',\n",
              " 680: 'dedo',\n",
              " 681: 'mecanico',\n",
              " 682: 'pis',\n",
              " 683: 'mia',\n",
              " 684: 'digo',\n",
              " 685: 'caramelos',\n",
              " 686: 'esperes',\n",
              " 687: '200',\n",
              " 688: 'aparece',\n",
              " 689: 'pandemia',\n",
              " 690: 'flash',\n",
              " 691: 'mentiroso',\n",
              " 692: 'conocer',\n",
              " 693: 'abuelito',\n",
              " 694: 'hermanito',\n",
              " 695: 'tirar',\n",
              " 696: 'tinta',\n",
              " 697: 'flaca',\n",
              " 698: 'fosforo',\n",
              " 699: 'fuego',\n",
              " 700: 'et',\n",
              " 701: 'avion',\n",
              " 702: 'cuantas',\n",
              " 703: 'levantar',\n",
              " 704: 'pies',\n",
              " 705: 'puzzle',\n",
              " 706: 'debajo',\n",
              " 707: 'reyes',\n",
              " 708: 'sol',\n",
              " 709: 'gracia',\n",
              " 710: 'higienico',\n",
              " 711: 'preservativo',\n",
              " 712: 'definicion',\n",
              " 713: 'menta',\n",
              " 714: 'camion',\n",
              " 715: 'tropezo',\n",
              " 716: 'cuarto',\n",
              " 717: 'mala',\n",
              " 718: 'pequena',\n",
              " 719: 'topes',\n",
              " 720: 'pilas',\n",
              " 721: 'disolucion',\n",
              " 722: 'solucion',\n",
              " 723: 'fila',\n",
              " 724: 'cochinadas',\n",
              " 725: 'cintura',\n",
              " 726: 'coma',\n",
              " 727: 'agujero',\n",
              " 728: 'muslo',\n",
              " 729: 'gafe',\n",
              " 730: 'gordo',\n",
              " 731: 'piedad',\n",
              " 732: 'llame',\n",
              " 733: 'humano',\n",
              " 734: 'rapido',\n",
              " 735: 'cincuenta',\n",
              " 736: 'salida',\n",
              " 737: 'encuentran',\n",
              " 738: 'sevillano',\n",
              " 739: 'setas',\n",
              " 740: 'gorro',\n",
              " 741: 'habian',\n",
              " 742: 'visto',\n",
              " 743: 'basura',\n",
              " 744: 'sacame',\n",
              " 745: 'vengo',\n",
              " 746: 'fumar',\n",
              " 747: 'verlo',\n",
              " 748: 'hospital',\n",
              " 749: 'enfermera',\n",
              " 750: 'digame',\n",
              " 751: 'desea',\n",
              " 752: 'basalto',\n",
              " 753: 'empieza',\n",
              " 754: 'cartel',\n",
              " 755: 'bragas',\n",
              " 756: 'television',\n",
              " 757: 'harias',\n",
              " 758: 'salga',\n",
              " 759: 'importante',\n",
              " 760: 'buenos',\n",
              " 761: 'naranja',\n",
              " 762: 'superman',\n",
              " 763: 'libros',\n",
              " 764: 'gallina',\n",
              " 765: 'comete',\n",
              " 766: 'terreno',\n",
              " 767: 'morsa',\n",
              " 768: 'supieras',\n",
              " 769: 'acido',\n",
              " 770: 'camuflaje',\n",
              " 771: 'tal',\n",
              " 772: 'pego',\n",
              " 773: 'ciudad',\n",
              " 774: 'feliz',\n",
              " 775: 'latina',\n",
              " 776: 'escoba',\n",
              " 777: 'vaca',\n",
              " 778: 'seis',\n",
              " 779: 'zorro',\n",
              " 780: 'tomate',\n",
              " 781: 'limon',\n",
              " 782: 'daba',\n",
              " 783: 'pitos',\n",
              " 784: 'podria',\n",
              " 785: 'trae',\n",
              " 786: 'dejas',\n",
              " 787: 'calor',\n",
              " 788: 'cuadritos',\n",
              " 789: 'misma',\n",
              " 790: 'ciguena',\n",
              " 791: 'acuerdo',\n",
              " 792: 'iglesia',\n",
              " 793: 'inteligente',\n",
              " 794: 'zapatos',\n",
              " 795: 'nuca',\n",
              " 796: 'estomago',\n",
              " 797: 'dejalos',\n",
              " 798: 'tiras',\n",
              " 799: 'rato',\n",
              " 800: 'suena',\n",
              " 801: 'perdone',\n",
              " 802: 'vale',\n",
              " 803: 'vasco',\n",
              " 804: 'mirando',\n",
              " 805: 'venido',\n",
              " 806: 'cielo',\n",
              " 807: 'yerno',\n",
              " 808: 'serias',\n",
              " 809: 'manolo',\n",
              " 810: 'cuelga',\n",
              " 811: 'x',\n",
              " 812: 'prorroga',\n",
              " 813: 'ademas',\n",
              " 814: 'clase',\n",
              " 815: 'ambulancia',\n",
              " 816: 'pedido',\n",
              " 817: 'encantado',\n",
              " 818: 'pide',\n",
              " 819: 'fondo',\n",
              " 820: 'aparcar',\n",
              " 821: 'cobra',\n",
              " 822: 'roto',\n",
              " 823: 'paraguayo',\n",
              " 824: 'zombies',\n",
              " 825: 'bruce',\n",
              " 826: 'quimicos',\n",
              " 827: 'cansancio',\n",
              " 828: 'deprimida',\n",
              " 829: 'movil',\n",
              " 830: 'planeta',\n",
              " 831: 'bob',\n",
              " 832: 'ojala',\n",
              " 833: 'toca',\n",
              " 834: 'placer',\n",
              " 835: 'venir',\n",
              " 836: 'duerma',\n",
              " 837: 'durmiendo',\n",
              " 838: 'favor',\n",
              " 839: 'queme',\n",
              " 840: 'guapa',\n",
              " 841: 'paraiso',\n",
              " 842: 'liebre',\n",
              " 843: 'case',\n",
              " 844: 'perros',\n",
              " 845: 'comiendo',\n",
              " 846: 'traeme',\n",
              " 847: 'vivia',\n",
              " 848: 'barras',\n",
              " 849: 'volver',\n",
              " 850: 'inodoro',\n",
              " 851: 'ciempies',\n",
              " 852: 'ford',\n",
              " 853: 'empezamos',\n",
              " 854: 'encontrarse',\n",
              " 855: 'saca',\n",
              " 856: 'querida',\n",
              " 857: 'hago',\n",
              " 858: 'llevan',\n",
              " 859: 'buenas',\n",
              " 860: 'murio',\n",
              " 861: 'panuelo',\n",
              " 862: 'cometido',\n",
              " 863: 'estaban',\n",
              " 864: 'guarda',\n",
              " 865: 'noe',\n",
              " 866: 'pedrito',\n",
              " 867: 'anita',\n",
              " 868: 'juan',\n",
              " 869: 'vecina',\n",
              " 870: 'come',\n",
              " 871: 'sirve',\n",
              " 872: 'encontro',\n",
              " 873: 'seria',\n",
              " 874: 'wifi',\n",
              " 875: 'mediano',\n",
              " 876: 'tercera',\n",
              " 877: 'titulo',\n",
              " 878: 'nivel',\n",
              " 879: 'traduzca',\n",
              " 880: 'mirar',\n",
              " 881: 'look',\n",
              " 882: 'perfecto',\n",
              " 883: 'uselo',\n",
              " 884: 'frase',\n",
              " 885: 'luke',\n",
              " 886: 'spaghetti',\n",
              " 887: 'perdoname',\n",
              " 888: 'plato',\n",
              " 889: 'hondo',\n",
              " 890: 'ladrones',\n",
              " 891: 'robaron',\n",
              " 892: 'llevaron',\n",
              " 893: 'detuvosi',\n",
              " 894: 'cordoba',\n",
              " 895: 'ajedrez',\n",
              " 896: 'banderasoldado',\n",
              " 897: 'pito',\n",
              " 898: 'bajas',\n",
              " 899: 'costo',\n",
              " 900: 'terapia',\n",
              " 901: 'pensar',\n",
              " 902: 'rock',\n",
              " 903: 'caido',\n",
              " 904: 'estofado',\n",
              " 905: 'echarle',\n",
              " 906: 'nombrando',\n",
              " 907: 'gran',\n",
              " 908: 'actor',\n",
              " 909: 'india',\n",
              " 910: 'langosta',\n",
              " 911: 'tipo',\n",
              " 912: 'saludando',\n",
              " 913: 'llevarte',\n",
              " 914: 'truco',\n",
              " 915: 'tecnico',\n",
              " 916: 'ayuntamiento',\n",
              " 917: 'proceder',\n",
              " 918: 'derribo',\n",
              " 919: 'subida',\n",
              " 920: 'pongamos',\n",
              " 921: 'electrica',\n",
              " 922: 'cortaba',\n",
              " 923: 'preocupe',\n",
              " 924: 'probamos',\n",
              " 925: 'arranca',\n",
              " 926: 'dependiente',\n",
              " 927: 'oirla',\n",
              " 928: 'aibalaostia',\n",
              " 929: 'ti',\n",
              " 930: 'cojonudos',\n",
              " 931: 'nacido',\n",
              " 932: 'castellon',\n",
              " 933: 'tierracomo',\n",
              " 934: 'euskadi',\n",
              " 935: 'pueblo',\n",
              " 936: 'frontontambien',\n",
              " 937: 'autobus',\n",
              " 938: 'andando',\n",
              " 939: 'bilbainos',\n",
              " 940: 'vienes',\n",
              " 941: '500',\n",
              " 942: 'bueyes',\n",
              " 943: '400',\n",
              " 944: 'toneladas',\n",
              " 945: 'montas',\n",
              " 946: 'pronto',\n",
              " 947: 'explica',\n",
              " 948: 'turistas',\n",
              " 949: 'carlos',\n",
              " 950: 'v',\n",
              " 951: 'ningun',\n",
              " 952: 'recogiendo',\n",
              " 953: 'campo',\n",
              " 954: 'unomira',\n",
              " 955: 'rolexe',\n",
              " 956: 'contestapatxi',\n",
              " 957: 'maternidad',\n",
              " 958: 'empiezan',\n",
              " 959: 'hablarel',\n",
              " 960: 'azules',\n",
              " 961: 'rosas',\n",
              " 962: 'bilbao',\n",
              " 963: 'horizonte',\n",
              " 964: 'arrancando',\n",
              " 965: 'patada',\n",
              " 966: 'gonorrea',\n",
              " 967: 'mientras',\n",
              " 968: 'maestranza',\n",
              " 969: 'puro',\n",
              " 970: 'metro',\n",
              " 971: 'espectador',\n",
              " 972: 'chaval',\n",
              " 973: 'marear',\n",
              " 974: 'mareando',\n",
              " 975: 'buscando',\n",
              " 976: 'entrada',\n",
              " 977: 'andaluces',\n",
              " 978: 'jaen',\n",
              " 979: 'liado',\n",
              " 980: 'sevillana',\n",
              " 981: 'llevado',\n",
              " 982: 'sitio',\n",
              " 983: 'zapatazos',\n",
              " 984: 'tablao',\n",
              " 985: 'flamenco',\n",
              " 986: 'don',\n",
              " 987: 'destino',\n",
              " 988: 'via',\n",
              " 989: 'correr',\n",
              " 990: 'jefe',\n",
              " 991: 'subir',\n",
              " 992: 'velocidad',\n",
              " 993: 'puedesubirlo',\n",
              " 994: 'sentir',\n",
              " 995: 'entierro',\n",
              " 996: 'ataud',\n",
              " 997: 'fuiste',\n",
              " 998: 'momento',\n",
              " 999: 'pajaro',\n",
              " 1000: 'sobrevolando',\n",
              " ...}"
            ]
          },
          "metadata": {},
          "execution_count": 28
        }
      ]
    },
    {
      "cell_type": "code",
      "metadata": {
        "id": "gJgVhq1zwEpf",
        "colab": {
          "base_uri": "https://localhost:8080/"
        },
        "outputId": "8cd0c4bc-1802-4b18-8483-b4dea816d754"
      },
      "source": [
        "# Cantidad de palabras en el vocabulario\n",
        "vocab_size = len(tok.word_counts)\n",
        "vocab_size"
      ],
      "execution_count": 29,
      "outputs": [
        {
          "output_type": "execute_result",
          "data": {
            "text/plain": [
              "2415"
            ]
          },
          "metadata": {},
          "execution_count": 29
        }
      ]
    },
    {
      "cell_type": "code",
      "metadata": {
        "id": "gIg2e2WCwXbG",
        "colab": {
          "base_uri": "https://localhost:8080/"
        },
        "outputId": "4a2d441e-9895-4fc3-aa1e-2afcf4db7ca2"
      },
      "source": [
        "y_data_int_offset = y_data_int - 1\n",
        "y_data = to_categorical(y_data_int_offset, num_classes=vocab_size) \n",
        "y_data.shape"
      ],
      "execution_count": 30,
      "outputs": [
        {
          "output_type": "execute_result",
          "data": {
            "text/plain": [
              "(9602, 2415)"
            ]
          },
          "metadata": {},
          "execution_count": 30
        }
      ]
    },
    {
      "cell_type": "markdown",
      "metadata": {
        "id": "GmJWNyxQwfCE"
      },
      "source": [
        "### 4 - Entrenar el modelo"
      ]
    },
    {
      "cell_type": "code",
      "metadata": {
        "id": "0cOmNZT_weK2",
        "colab": {
          "base_uri": "https://localhost:8080/"
        },
        "outputId": "6a108329-8e3a-46d1-c88a-475af0a50af2"
      },
      "source": [
        "# largo de la secuencia de entrada\n",
        "input_seq_len = x_data.shape[1] \n",
        "input_seq_len"
      ],
      "execution_count": 31,
      "outputs": [
        {
          "output_type": "execute_result",
          "data": {
            "text/plain": [
              "3"
            ]
          },
          "metadata": {},
          "execution_count": 31
        }
      ]
    },
    {
      "cell_type": "code",
      "metadata": {
        "id": "qtwITjgnwlgp",
        "colab": {
          "base_uri": "https://localhost:8080/"
        },
        "outputId": "6845c963-2cff-4f31-abac-f62ba54b13c8"
      },
      "source": [
        "# Largo del vector de salida --> vocab_size\n",
        "output_size = vocab_size\n",
        "output_size"
      ],
      "execution_count": 32,
      "outputs": [
        {
          "output_type": "execute_result",
          "data": {
            "text/plain": [
              "2415"
            ]
          },
          "metadata": {},
          "execution_count": 32
        }
      ]
    },
    {
      "cell_type": "code",
      "metadata": {
        "id": "jzTZRXrrwrvi",
        "colab": {
          "base_uri": "https://localhost:8080/"
        },
        "outputId": "5b9ed853-659a-4a65-817c-45badc72887d"
      },
      "source": [
        "model = Sequential()\n",
        "\n",
        "# Embedding:\n",
        "# input_seq_len = 3 --> ingreso 3 palabras\n",
        "# input_dim = vocab_size --> 2415 palabras distintas\n",
        "# output_dim = 3 --> crear embeddings de tamaño 50 (tamaño variable y ajustable)\n",
        "model.add(Embedding(input_dim=vocab_size+1, output_dim=50, input_length=input_seq_len))\n",
        "\n",
        "\n",
        "model.add(LSTM(64, return_sequences=True))\n",
        "model.add(Dropout(0.2))\n",
        "model.add(LSTM(64, return_sequences=True))\n",
        "model.add(Dropout(0.2))\n",
        "model.add(LSTM(64, return_sequences=True))\n",
        "model.add(Dropout(0.2))\n",
        "model.add(LSTM(64))\n",
        "model.add(Dense(128, activation='relu'))\n",
        "# Predicción de clasificación con softmax\n",
        "# La salida vuelve al espacio de 1628 palabras posibles\n",
        "model.add(Dense(vocab_size, activation='softmax'))\n",
        "\n",
        "# Clasificación multiple categórica --> loss = categorical_crossentropy\n",
        "model.compile(loss='categorical_crossentropy', optimizer='adam', metrics=['accuracy'])\n",
        "\n",
        "model.summary()"
      ],
      "execution_count": 37,
      "outputs": [
        {
          "output_type": "stream",
          "name": "stdout",
          "text": [
            "Model: \"sequential_1\"\n",
            "_________________________________________________________________\n",
            "Layer (type)                 Output Shape              Param #   \n",
            "=================================================================\n",
            "embedding_1 (Embedding)      (None, 3, 50)             120800    \n",
            "_________________________________________________________________\n",
            "lstm_4 (LSTM)                (None, 3, 64)             29440     \n",
            "_________________________________________________________________\n",
            "dropout_3 (Dropout)          (None, 3, 64)             0         \n",
            "_________________________________________________________________\n",
            "lstm_5 (LSTM)                (None, 3, 64)             33024     \n",
            "_________________________________________________________________\n",
            "dropout_4 (Dropout)          (None, 3, 64)             0         \n",
            "_________________________________________________________________\n",
            "lstm_6 (LSTM)                (None, 3, 64)             33024     \n",
            "_________________________________________________________________\n",
            "dropout_5 (Dropout)          (None, 3, 64)             0         \n",
            "_________________________________________________________________\n",
            "lstm_7 (LSTM)                (None, 64)                33024     \n",
            "_________________________________________________________________\n",
            "dense_2 (Dense)              (None, 128)               8320      \n",
            "_________________________________________________________________\n",
            "dense_3 (Dense)              (None, 2415)              311535    \n",
            "=================================================================\n",
            "Total params: 569,167\n",
            "Trainable params: 569,167\n",
            "Non-trainable params: 0\n",
            "_________________________________________________________________\n"
          ]
        }
      ]
    },
    {
      "cell_type": "code",
      "metadata": {
        "id": "oQq1PHDkxDvN",
        "colab": {
          "base_uri": "https://localhost:8080/"
        },
        "outputId": "04456799-e57d-4d50-ee4f-084bd438d2f5"
      },
      "source": [
        "hist = model.fit(x_data, y_data, epochs=100,batch_size=8, validation_split=0.2)"
      ],
      "execution_count": 38,
      "outputs": [
        {
          "output_type": "stream",
          "name": "stdout",
          "text": [
            "Epoch 1/100\n",
            "961/961 [==============================] - 22s 17ms/step - loss: 6.5873 - accuracy: 0.0417 - val_loss: 6.4531 - val_accuracy: 0.0547\n",
            "Epoch 2/100\n",
            "961/961 [==============================] - 15s 15ms/step - loss: 6.1369 - accuracy: 0.0430 - val_loss: 6.6159 - val_accuracy: 0.0547\n",
            "Epoch 3/100\n",
            "961/961 [==============================] - 15s 15ms/step - loss: 6.0425 - accuracy: 0.0418 - val_loss: 6.6992 - val_accuracy: 0.0541\n",
            "Epoch 4/100\n",
            "961/961 [==============================] - 15s 15ms/step - loss: 5.9501 - accuracy: 0.0449 - val_loss: 6.9445 - val_accuracy: 0.0547\n",
            "Epoch 5/100\n",
            "961/961 [==============================] - 15s 15ms/step - loss: 5.8425 - accuracy: 0.0441 - val_loss: 6.8150 - val_accuracy: 0.0567\n",
            "Epoch 6/100\n",
            "961/961 [==============================] - 15s 15ms/step - loss: 5.6690 - accuracy: 0.0465 - val_loss: 6.8146 - val_accuracy: 0.0521\n",
            "Epoch 7/100\n",
            "961/961 [==============================] - 15s 15ms/step - loss: 5.4912 - accuracy: 0.0543 - val_loss: 6.8398 - val_accuracy: 0.0521\n",
            "Epoch 8/100\n",
            "961/961 [==============================] - 15s 15ms/step - loss: 5.3025 - accuracy: 0.0622 - val_loss: 7.0081 - val_accuracy: 0.0484\n",
            "Epoch 9/100\n",
            "961/961 [==============================] - 15s 15ms/step - loss: 5.1403 - accuracy: 0.0670 - val_loss: 7.1637 - val_accuracy: 0.0547\n",
            "Epoch 10/100\n",
            "961/961 [==============================] - 15s 15ms/step - loss: 4.9846 - accuracy: 0.0750 - val_loss: 7.3676 - val_accuracy: 0.0510\n",
            "Epoch 11/100\n",
            "961/961 [==============================] - 15s 15ms/step - loss: 4.8494 - accuracy: 0.0879 - val_loss: 7.6593 - val_accuracy: 0.0588\n",
            "Epoch 12/100\n",
            "961/961 [==============================] - 15s 15ms/step - loss: 4.7079 - accuracy: 0.0932 - val_loss: 7.9365 - val_accuracy: 0.0604\n",
            "Epoch 13/100\n",
            "961/961 [==============================] - 15s 15ms/step - loss: 4.5858 - accuracy: 0.1038 - val_loss: 8.0491 - val_accuracy: 0.0599\n",
            "Epoch 14/100\n",
            "961/961 [==============================] - 15s 15ms/step - loss: 4.4743 - accuracy: 0.1144 - val_loss: 8.6395 - val_accuracy: 0.0656\n",
            "Epoch 15/100\n",
            "961/961 [==============================] - 15s 15ms/step - loss: 4.3667 - accuracy: 0.1216 - val_loss: 8.6807 - val_accuracy: 0.0640\n",
            "Epoch 16/100\n",
            "961/961 [==============================] - 15s 15ms/step - loss: 4.2593 - accuracy: 0.1306 - val_loss: 9.1269 - val_accuracy: 0.0651\n",
            "Epoch 17/100\n",
            "961/961 [==============================] - 15s 15ms/step - loss: 4.1300 - accuracy: 0.1420 - val_loss: 9.3826 - val_accuracy: 0.0677\n",
            "Epoch 18/100\n",
            "961/961 [==============================] - 15s 15ms/step - loss: 4.0332 - accuracy: 0.1513 - val_loss: 9.8048 - val_accuracy: 0.0625\n",
            "Epoch 19/100\n",
            "961/961 [==============================] - 15s 15ms/step - loss: 3.8967 - accuracy: 0.1669 - val_loss: 10.1366 - val_accuracy: 0.0666\n",
            "Epoch 20/100\n",
            "961/961 [==============================] - 15s 15ms/step - loss: 3.8071 - accuracy: 0.1702 - val_loss: 10.5798 - val_accuracy: 0.0625\n",
            "Epoch 21/100\n",
            "961/961 [==============================] - 15s 15ms/step - loss: 3.6889 - accuracy: 0.1797 - val_loss: 11.2053 - val_accuracy: 0.0656\n",
            "Epoch 22/100\n",
            "961/961 [==============================] - 15s 15ms/step - loss: 3.5886 - accuracy: 0.1864 - val_loss: 11.5544 - val_accuracy: 0.0599\n",
            "Epoch 23/100\n",
            "961/961 [==============================] - 15s 15ms/step - loss: 3.4875 - accuracy: 0.2021 - val_loss: 11.8800 - val_accuracy: 0.0593\n",
            "Epoch 24/100\n",
            "961/961 [==============================] - 15s 15ms/step - loss: 3.3950 - accuracy: 0.2047 - val_loss: 12.4495 - val_accuracy: 0.0692\n",
            "Epoch 25/100\n",
            "961/961 [==============================] - 15s 15ms/step - loss: 3.3221 - accuracy: 0.2190 - val_loss: 12.5280 - val_accuracy: 0.0651\n",
            "Epoch 26/100\n",
            "961/961 [==============================] - 15s 15ms/step - loss: 3.2365 - accuracy: 0.2251 - val_loss: 12.7395 - val_accuracy: 0.0666\n",
            "Epoch 27/100\n",
            "961/961 [==============================] - 15s 15ms/step - loss: 3.1728 - accuracy: 0.2332 - val_loss: 13.6410 - val_accuracy: 0.0645\n",
            "Epoch 28/100\n",
            "961/961 [==============================] - 15s 15ms/step - loss: 3.0941 - accuracy: 0.2435 - val_loss: 13.5959 - val_accuracy: 0.0630\n",
            "Epoch 29/100\n",
            "961/961 [==============================] - 15s 15ms/step - loss: 3.0138 - accuracy: 0.2596 - val_loss: 14.3985 - val_accuracy: 0.0599\n",
            "Epoch 30/100\n",
            "961/961 [==============================] - 15s 15ms/step - loss: 2.9570 - accuracy: 0.2677 - val_loss: 14.8132 - val_accuracy: 0.0630\n",
            "Epoch 31/100\n",
            "961/961 [==============================] - 15s 15ms/step - loss: 2.8926 - accuracy: 0.2764 - val_loss: 14.9533 - val_accuracy: 0.0645\n",
            "Epoch 32/100\n",
            "961/961 [==============================] - 15s 15ms/step - loss: 2.8421 - accuracy: 0.2790 - val_loss: 15.4615 - val_accuracy: 0.0687\n",
            "Epoch 33/100\n",
            "961/961 [==============================] - 15s 15ms/step - loss: 2.7902 - accuracy: 0.2915 - val_loss: 16.0184 - val_accuracy: 0.0656\n",
            "Epoch 34/100\n",
            "961/961 [==============================] - 15s 15ms/step - loss: 2.7357 - accuracy: 0.3083 - val_loss: 15.9184 - val_accuracy: 0.0656\n",
            "Epoch 35/100\n",
            "961/961 [==============================] - 15s 15ms/step - loss: 2.7027 - accuracy: 0.3071 - val_loss: 16.5629 - val_accuracy: 0.0661\n",
            "Epoch 36/100\n",
            "961/961 [==============================] - 15s 15ms/step - loss: 2.6491 - accuracy: 0.3101 - val_loss: 16.8808 - val_accuracy: 0.0692\n",
            "Epoch 37/100\n",
            "961/961 [==============================] - 15s 15ms/step - loss: 2.6127 - accuracy: 0.3253 - val_loss: 17.0466 - val_accuracy: 0.0651\n",
            "Epoch 38/100\n",
            "961/961 [==============================] - 15s 15ms/step - loss: 2.5622 - accuracy: 0.3309 - val_loss: 17.3114 - val_accuracy: 0.0625\n",
            "Epoch 39/100\n",
            "961/961 [==============================] - 15s 15ms/step - loss: 2.5171 - accuracy: 0.3351 - val_loss: 17.6925 - val_accuracy: 0.0609\n",
            "Epoch 40/100\n",
            "961/961 [==============================] - 15s 15ms/step - loss: 2.4840 - accuracy: 0.3494 - val_loss: 17.6943 - val_accuracy: 0.0692\n",
            "Epoch 41/100\n",
            "961/961 [==============================] - 15s 15ms/step - loss: 2.4376 - accuracy: 0.3587 - val_loss: 17.4878 - val_accuracy: 0.0677\n",
            "Epoch 42/100\n",
            "961/961 [==============================] - 15s 15ms/step - loss: 2.3977 - accuracy: 0.3664 - val_loss: 18.2585 - val_accuracy: 0.0640\n",
            "Epoch 43/100\n",
            "961/961 [==============================] - 15s 15ms/step - loss: 2.3524 - accuracy: 0.3717 - val_loss: 18.5203 - val_accuracy: 0.0677\n",
            "Epoch 44/100\n",
            "961/961 [==============================] - 15s 15ms/step - loss: 2.3445 - accuracy: 0.3747 - val_loss: 18.6141 - val_accuracy: 0.0734\n",
            "Epoch 45/100\n",
            "961/961 [==============================] - 15s 15ms/step - loss: 2.3208 - accuracy: 0.3890 - val_loss: 18.7950 - val_accuracy: 0.0614\n",
            "Epoch 46/100\n",
            "961/961 [==============================] - 15s 15ms/step - loss: 2.2532 - accuracy: 0.3904 - val_loss: 19.1400 - val_accuracy: 0.0640\n",
            "Epoch 47/100\n",
            "961/961 [==============================] - 15s 15ms/step - loss: 2.2354 - accuracy: 0.3942 - val_loss: 18.9909 - val_accuracy: 0.0645\n",
            "Epoch 48/100\n",
            "961/961 [==============================] - 15s 15ms/step - loss: 2.1866 - accuracy: 0.4041 - val_loss: 19.5048 - val_accuracy: 0.0698\n",
            "Epoch 49/100\n",
            "961/961 [==============================] - 15s 15ms/step - loss: 2.1703 - accuracy: 0.4117 - val_loss: 19.4136 - val_accuracy: 0.0698\n",
            "Epoch 50/100\n",
            "961/961 [==============================] - 15s 15ms/step - loss: 2.1439 - accuracy: 0.4162 - val_loss: 20.0144 - val_accuracy: 0.0635\n",
            "Epoch 51/100\n",
            "961/961 [==============================] - 15s 15ms/step - loss: 2.1063 - accuracy: 0.4268 - val_loss: 19.9063 - val_accuracy: 0.0698\n",
            "Epoch 52/100\n",
            "961/961 [==============================] - 15s 15ms/step - loss: 2.0693 - accuracy: 0.4322 - val_loss: 20.2907 - val_accuracy: 0.0724\n",
            "Epoch 53/100\n",
            "961/961 [==============================] - 15s 15ms/step - loss: 2.0615 - accuracy: 0.4358 - val_loss: 20.4784 - val_accuracy: 0.0682\n",
            "Epoch 54/100\n",
            "961/961 [==============================] - 16s 17ms/step - loss: 2.0342 - accuracy: 0.4368 - val_loss: 20.2735 - val_accuracy: 0.0776\n",
            "Epoch 55/100\n",
            "961/961 [==============================] - 15s 15ms/step - loss: 1.9988 - accuracy: 0.4417 - val_loss: 20.7577 - val_accuracy: 0.0755\n",
            "Epoch 56/100\n",
            "961/961 [==============================] - 15s 15ms/step - loss: 1.9696 - accuracy: 0.4571 - val_loss: 20.6699 - val_accuracy: 0.0724\n",
            "Epoch 57/100\n",
            "961/961 [==============================] - 15s 15ms/step - loss: 1.9557 - accuracy: 0.4583 - val_loss: 21.1431 - val_accuracy: 0.0692\n",
            "Epoch 58/100\n",
            "961/961 [==============================] - 15s 15ms/step - loss: 1.9188 - accuracy: 0.4661 - val_loss: 21.4767 - val_accuracy: 0.0734\n",
            "Epoch 59/100\n",
            "961/961 [==============================] - 15s 15ms/step - loss: 1.8747 - accuracy: 0.4744 - val_loss: 21.1987 - val_accuracy: 0.0817\n",
            "Epoch 60/100\n",
            "961/961 [==============================] - 15s 15ms/step - loss: 1.8633 - accuracy: 0.4758 - val_loss: 21.9231 - val_accuracy: 0.0666\n",
            "Epoch 61/100\n",
            "961/961 [==============================] - 15s 15ms/step - loss: 1.8611 - accuracy: 0.4731 - val_loss: 21.3842 - val_accuracy: 0.0729\n",
            "Epoch 62/100\n",
            "961/961 [==============================] - 15s 15ms/step - loss: 1.8189 - accuracy: 0.4814 - val_loss: 21.4241 - val_accuracy: 0.0713\n",
            "Epoch 63/100\n",
            "961/961 [==============================] - 15s 15ms/step - loss: 1.8080 - accuracy: 0.4904 - val_loss: 21.3365 - val_accuracy: 0.0750\n",
            "Epoch 64/100\n",
            "961/961 [==============================] - 15s 15ms/step - loss: 1.7782 - accuracy: 0.4938 - val_loss: 22.1813 - val_accuracy: 0.0651\n",
            "Epoch 65/100\n",
            "961/961 [==============================] - 15s 15ms/step - loss: 1.7568 - accuracy: 0.5066 - val_loss: 22.2557 - val_accuracy: 0.0724\n",
            "Epoch 66/100\n",
            "961/961 [==============================] - 15s 15ms/step - loss: 1.7768 - accuracy: 0.5012 - val_loss: 22.3151 - val_accuracy: 0.0703\n",
            "Epoch 67/100\n",
            "961/961 [==============================] - 15s 15ms/step - loss: 1.7045 - accuracy: 0.5131 - val_loss: 22.3080 - val_accuracy: 0.0729\n",
            "Epoch 68/100\n",
            "961/961 [==============================] - 15s 15ms/step - loss: 1.6968 - accuracy: 0.5186 - val_loss: 22.8005 - val_accuracy: 0.0724\n",
            "Epoch 69/100\n",
            "961/961 [==============================] - 15s 15ms/step - loss: 1.6651 - accuracy: 0.5162 - val_loss: 22.9279 - val_accuracy: 0.0734\n",
            "Epoch 70/100\n",
            "961/961 [==============================] - 15s 16ms/step - loss: 1.6590 - accuracy: 0.5299 - val_loss: 22.8095 - val_accuracy: 0.0724\n",
            "Epoch 71/100\n",
            "961/961 [==============================] - 15s 15ms/step - loss: 1.6353 - accuracy: 0.5317 - val_loss: 23.2353 - val_accuracy: 0.0718\n",
            "Epoch 72/100\n",
            "961/961 [==============================] - 15s 15ms/step - loss: 1.6191 - accuracy: 0.5377 - val_loss: 23.0967 - val_accuracy: 0.0776\n",
            "Epoch 73/100\n",
            "961/961 [==============================] - 15s 15ms/step - loss: 1.6063 - accuracy: 0.5318 - val_loss: 22.8873 - val_accuracy: 0.0713\n",
            "Epoch 74/100\n",
            "961/961 [==============================] - 15s 15ms/step - loss: 1.5728 - accuracy: 0.5485 - val_loss: 23.1451 - val_accuracy: 0.0703\n",
            "Epoch 75/100\n",
            "961/961 [==============================] - 15s 15ms/step - loss: 1.5572 - accuracy: 0.5541 - val_loss: 23.3785 - val_accuracy: 0.0729\n",
            "Epoch 76/100\n",
            "961/961 [==============================] - 15s 15ms/step - loss: 1.5478 - accuracy: 0.5533 - val_loss: 23.8763 - val_accuracy: 0.0687\n",
            "Epoch 77/100\n",
            "961/961 [==============================] - 15s 15ms/step - loss: 1.5307 - accuracy: 0.5576 - val_loss: 23.4037 - val_accuracy: 0.0802\n",
            "Epoch 78/100\n",
            "961/961 [==============================] - 15s 15ms/step - loss: 1.5055 - accuracy: 0.5620 - val_loss: 23.2324 - val_accuracy: 0.0750\n",
            "Epoch 79/100\n",
            "961/961 [==============================] - 15s 15ms/step - loss: 1.4815 - accuracy: 0.5684 - val_loss: 23.6396 - val_accuracy: 0.0703\n",
            "Epoch 80/100\n",
            "961/961 [==============================] - 15s 15ms/step - loss: 1.4743 - accuracy: 0.5718 - val_loss: 23.7725 - val_accuracy: 0.0729\n",
            "Epoch 81/100\n",
            "961/961 [==============================] - 15s 15ms/step - loss: 1.4486 - accuracy: 0.5784 - val_loss: 24.1214 - val_accuracy: 0.0744\n",
            "Epoch 82/100\n",
            "961/961 [==============================] - 15s 15ms/step - loss: 1.4268 - accuracy: 0.5810 - val_loss: 24.0578 - val_accuracy: 0.0713\n",
            "Epoch 83/100\n",
            "961/961 [==============================] - 15s 15ms/step - loss: 1.4294 - accuracy: 0.5809 - val_loss: 23.9215 - val_accuracy: 0.0729\n",
            "Epoch 84/100\n",
            "961/961 [==============================] - 15s 15ms/step - loss: 1.3995 - accuracy: 0.5930 - val_loss: 24.1332 - val_accuracy: 0.0760\n",
            "Epoch 85/100\n",
            "961/961 [==============================] - 15s 15ms/step - loss: 1.3722 - accuracy: 0.6038 - val_loss: 24.6504 - val_accuracy: 0.0724\n",
            "Epoch 86/100\n",
            "961/961 [==============================] - 15s 15ms/step - loss: 1.3750 - accuracy: 0.5985 - val_loss: 24.2831 - val_accuracy: 0.0765\n",
            "Epoch 87/100\n",
            "961/961 [==============================] - 15s 15ms/step - loss: 1.3887 - accuracy: 0.5942 - val_loss: 24.5180 - val_accuracy: 0.0760\n",
            "Epoch 88/100\n",
            "961/961 [==============================] - 15s 15ms/step - loss: 1.3477 - accuracy: 0.6040 - val_loss: 24.2569 - val_accuracy: 0.0729\n",
            "Epoch 89/100\n",
            "961/961 [==============================] - 15s 15ms/step - loss: 1.3561 - accuracy: 0.5965 - val_loss: 24.3873 - val_accuracy: 0.0760\n",
            "Epoch 90/100\n",
            "961/961 [==============================] - 15s 15ms/step - loss: 1.3234 - accuracy: 0.6086 - val_loss: 24.6440 - val_accuracy: 0.0718\n",
            "Epoch 91/100\n",
            "961/961 [==============================] - 15s 15ms/step - loss: 1.3240 - accuracy: 0.6089 - val_loss: 24.8061 - val_accuracy: 0.0817\n",
            "Epoch 92/100\n",
            "961/961 [==============================] - 15s 15ms/step - loss: 1.2982 - accuracy: 0.6161 - val_loss: 25.0059 - val_accuracy: 0.0724\n",
            "Epoch 93/100\n",
            "961/961 [==============================] - 15s 15ms/step - loss: 1.2755 - accuracy: 0.6193 - val_loss: 24.8115 - val_accuracy: 0.0760\n",
            "Epoch 94/100\n",
            "961/961 [==============================] - 15s 15ms/step - loss: 1.2639 - accuracy: 0.6239 - val_loss: 24.9454 - val_accuracy: 0.0755\n",
            "Epoch 95/100\n",
            "961/961 [==============================] - 15s 15ms/step - loss: 1.2811 - accuracy: 0.6153 - val_loss: 25.2576 - val_accuracy: 0.0755\n",
            "Epoch 96/100\n",
            "961/961 [==============================] - 15s 15ms/step - loss: 1.2554 - accuracy: 0.6271 - val_loss: 25.2176 - val_accuracy: 0.0796\n",
            "Epoch 97/100\n",
            "961/961 [==============================] - 15s 15ms/step - loss: 1.2352 - accuracy: 0.6370 - val_loss: 25.0667 - val_accuracy: 0.0776\n",
            "Epoch 98/100\n",
            "961/961 [==============================] - 15s 15ms/step - loss: 1.2225 - accuracy: 0.6342 - val_loss: 25.1545 - val_accuracy: 0.0718\n",
            "Epoch 99/100\n",
            "961/961 [==============================] - 15s 15ms/step - loss: 1.2108 - accuracy: 0.6374 - val_loss: 25.1479 - val_accuracy: 0.0755\n",
            "Epoch 100/100\n",
            "961/961 [==============================] - 15s 15ms/step - loss: 1.2007 - accuracy: 0.6408 - val_loss: 25.3957 - val_accuracy: 0.0750\n"
          ]
        }
      ]
    },
    {
      "cell_type": "code",
      "metadata": {
        "id": "q_orBXOrCsNn",
        "colab": {
          "base_uri": "https://localhost:8080/",
          "height": 265
        },
        "outputId": "b3cd2176-2c9f-40c5-b1f5-377aebcac5b7"
      },
      "source": [
        "import matplotlib.pyplot as plt\n",
        "import seaborn as sns\n",
        "\n",
        "# Entrenamiento\n",
        "epoch_count = range(1, len(hist.history['accuracy']) + 1)\n",
        "sns.lineplot(x=epoch_count,  y=hist.history['accuracy'], label='train')\n",
        "sns.lineplot(x=epoch_count,  y=hist.history['val_accuracy'], label='valid')\n",
        "plt.show()"
      ],
      "execution_count": 39,
      "outputs": [
        {
          "output_type": "display_data",
          "data": {
            "image/png": "[encoded data removed]",
            "text/plain": [
              "<Figure size 432x288 with 1 Axes>"
            ]
          },
          "metadata": {
            "needs_background": "light"
          }
        }
      ]
    },
    {
      "cell_type": "markdown",
      "metadata": {
        "id": "ovMusBtckjsM"
      },
      "source": [
        "Se observa la presencia de overfitting. El dataset no es suficiente para evitarlo. Entrenamos por 100 epochs mas"
      ]
    },
    {
      "cell_type": "code",
      "metadata": {
        "colab": {
          "base_uri": "https://localhost:8080/"
        },
        "id": "P2o39msTlwMv",
        "outputId": "59649025-48ed-4a69-a531-53aca1b3d7c6"
      },
      "source": [
        "hist = model.fit(x_data, y_data, epochs=100,batch_size=8)"
      ],
      "execution_count": 48,
      "outputs": [
        {
          "output_type": "stream",
          "name": "stdout",
          "text": [
            "Epoch 1/100\n",
            "1201/1201 [==============================] - 17s 14ms/step - loss: 4.3579 - accuracy: 0.3853\n",
            "Epoch 2/100\n",
            "1201/1201 [==============================] - 17s 14ms/step - loss: 3.3491 - accuracy: 0.4131\n",
            "Epoch 3/100\n",
            "1201/1201 [==============================] - 17s 14ms/step - loss: 3.0425 - accuracy: 0.4274\n",
            "Epoch 4/100\n",
            "1201/1201 [==============================] - 16s 14ms/step - loss: 2.8484 - accuracy: 0.4367\n",
            "Epoch 5/100\n",
            "1201/1201 [==============================] - 17s 14ms/step - loss: 2.6733 - accuracy: 0.4504\n",
            "Epoch 6/100\n",
            "1201/1201 [==============================] - 17s 14ms/step - loss: 2.5429 - accuracy: 0.4561\n",
            "Epoch 7/100\n",
            "1201/1201 [==============================] - 17s 14ms/step - loss: 2.4243 - accuracy: 0.4693\n",
            "Epoch 8/100\n",
            "1201/1201 [==============================] - 16s 14ms/step - loss: 2.3159 - accuracy: 0.4796\n",
            "Epoch 9/100\n",
            "1201/1201 [==============================] - 16s 14ms/step - loss: 2.2085 - accuracy: 0.4922\n",
            "Epoch 10/100\n",
            "1201/1201 [==============================] - 17s 14ms/step - loss: 2.1244 - accuracy: 0.5008\n",
            "Epoch 11/100\n",
            "1201/1201 [==============================] - 17s 14ms/step - loss: 2.0636 - accuracy: 0.5074\n",
            "Epoch 12/100\n",
            "1201/1201 [==============================] - 17s 14ms/step - loss: 1.9989 - accuracy: 0.5170\n",
            "Epoch 13/100\n",
            "1201/1201 [==============================] - 17s 14ms/step - loss: 1.9343 - accuracy: 0.5208\n",
            "Epoch 14/100\n",
            "1201/1201 [==============================] - 17s 14ms/step - loss: 1.8726 - accuracy: 0.5296\n",
            "Epoch 15/100\n",
            "1201/1201 [==============================] - 17s 14ms/step - loss: 1.8281 - accuracy: 0.5450\n",
            "Epoch 16/100\n",
            "1201/1201 [==============================] - 17s 14ms/step - loss: 1.7696 - accuracy: 0.5467\n",
            "Epoch 17/100\n",
            "1201/1201 [==============================] - 17s 14ms/step - loss: 1.7109 - accuracy: 0.5609\n",
            "Epoch 18/100\n",
            "1201/1201 [==============================] - 17s 14ms/step - loss: 1.6880 - accuracy: 0.5587\n",
            "Epoch 19/100\n",
            "1201/1201 [==============================] - 17s 14ms/step - loss: 1.6276 - accuracy: 0.5730\n",
            "Epoch 20/100\n",
            "1201/1201 [==============================] - 17s 14ms/step - loss: 1.6045 - accuracy: 0.5782\n",
            "Epoch 21/100\n",
            "1201/1201 [==============================] - 17s 14ms/step - loss: 1.5818 - accuracy: 0.5753\n",
            "Epoch 22/100\n",
            "1201/1201 [==============================] - 16s 14ms/step - loss: 1.5374 - accuracy: 0.5828\n",
            "Epoch 23/100\n",
            "1201/1201 [==============================] - 17s 14ms/step - loss: 1.5094 - accuracy: 0.5925\n",
            "Epoch 24/100\n",
            "1201/1201 [==============================] - 16s 14ms/step - loss: 1.4871 - accuracy: 0.5977\n",
            "Epoch 25/100\n",
            "1201/1201 [==============================] - 17s 14ms/step - loss: 1.4720 - accuracy: 0.5983\n",
            "Epoch 26/100\n",
            "1201/1201 [==============================] - 17s 14ms/step - loss: 1.4331 - accuracy: 0.6062\n",
            "Epoch 27/100\n",
            "1201/1201 [==============================] - 17s 14ms/step - loss: 1.3920 - accuracy: 0.6150\n",
            "Epoch 28/100\n",
            "1201/1201 [==============================] - 17s 14ms/step - loss: 1.3684 - accuracy: 0.6170\n",
            "Epoch 29/100\n",
            "1201/1201 [==============================] - 17s 14ms/step - loss: 1.3606 - accuracy: 0.6215\n",
            "Epoch 30/100\n",
            "1201/1201 [==============================] - 17s 14ms/step - loss: 1.3259 - accuracy: 0.6248\n",
            "Epoch 31/100\n",
            "1201/1201 [==============================] - 17s 14ms/step - loss: 1.3245 - accuracy: 0.6268\n",
            "Epoch 32/100\n",
            "1201/1201 [==============================] - 17s 14ms/step - loss: 1.3117 - accuracy: 0.6288\n",
            "Epoch 33/100\n",
            "1201/1201 [==============================] - 17s 14ms/step - loss: 1.2899 - accuracy: 0.6371\n",
            "Epoch 34/100\n",
            "1201/1201 [==============================] - 17s 14ms/step - loss: 1.2474 - accuracy: 0.6429\n",
            "Epoch 35/100\n",
            "1201/1201 [==============================] - 17s 14ms/step - loss: 1.2400 - accuracy: 0.6425\n",
            "Epoch 36/100\n",
            "1201/1201 [==============================] - 17s 14ms/step - loss: 1.2378 - accuracy: 0.6435\n",
            "Epoch 37/100\n",
            "1201/1201 [==============================] - 17s 14ms/step - loss: 1.2155 - accuracy: 0.6550\n",
            "Epoch 38/100\n",
            "1201/1201 [==============================] - 17s 14ms/step - loss: 1.2049 - accuracy: 0.6544\n",
            "Epoch 39/100\n",
            "1201/1201 [==============================] - 17s 14ms/step - loss: 1.1711 - accuracy: 0.6600\n",
            "Epoch 40/100\n",
            "1201/1201 [==============================] - 17s 14ms/step - loss: 1.1655 - accuracy: 0.6628\n",
            "Epoch 41/100\n",
            "1201/1201 [==============================] - 17s 14ms/step - loss: 1.1450 - accuracy: 0.6677\n",
            "Epoch 42/100\n",
            "1201/1201 [==============================] - 17s 14ms/step - loss: 1.1072 - accuracy: 0.6803\n",
            "Epoch 43/100\n",
            "1201/1201 [==============================] - 17s 14ms/step - loss: 1.1394 - accuracy: 0.6737\n",
            "Epoch 44/100\n",
            "1201/1201 [==============================] - 17s 14ms/step - loss: 1.0998 - accuracy: 0.6824\n",
            "Epoch 45/100\n",
            "1201/1201 [==============================] - 17s 14ms/step - loss: 1.0940 - accuracy: 0.6846\n",
            "Epoch 46/100\n",
            "1201/1201 [==============================] - 17s 14ms/step - loss: 1.0883 - accuracy: 0.6846\n",
            "Epoch 47/100\n",
            "1201/1201 [==============================] - 17s 14ms/step - loss: 1.0683 - accuracy: 0.6861\n",
            "Epoch 48/100\n",
            "1201/1201 [==============================] - 17s 14ms/step - loss: 1.0611 - accuracy: 0.6892\n",
            "Epoch 49/100\n",
            "1201/1201 [==============================] - 17s 14ms/step - loss: 1.0336 - accuracy: 0.6950\n",
            "Epoch 50/100\n",
            "1201/1201 [==============================] - 17s 14ms/step - loss: 1.0367 - accuracy: 0.6933\n",
            "Epoch 51/100\n",
            "1201/1201 [==============================] - 17s 14ms/step - loss: 1.0265 - accuracy: 0.7012\n",
            "Epoch 52/100\n",
            "1201/1201 [==============================] - 17s 14ms/step - loss: 1.0228 - accuracy: 0.6994\n",
            "Epoch 53/100\n",
            "1201/1201 [==============================] - 17s 14ms/step - loss: 1.0028 - accuracy: 0.7008\n",
            "Epoch 54/100\n",
            "1201/1201 [==============================] - 17s 14ms/step - loss: 1.0004 - accuracy: 0.7044\n",
            "Epoch 55/100\n",
            "1201/1201 [==============================] - 17s 14ms/step - loss: 0.9935 - accuracy: 0.7045\n",
            "Epoch 56/100\n",
            "1201/1201 [==============================] - 17s 14ms/step - loss: 0.9672 - accuracy: 0.7126\n",
            "Epoch 57/100\n",
            "1201/1201 [==============================] - 17s 14ms/step - loss: 0.9778 - accuracy: 0.7094\n",
            "Epoch 58/100\n",
            "1201/1201 [==============================] - 17s 14ms/step - loss: 0.9570 - accuracy: 0.7172\n",
            "Epoch 59/100\n",
            "1201/1201 [==============================] - 17s 14ms/step - loss: 0.9592 - accuracy: 0.7177\n",
            "Epoch 60/100\n",
            "1201/1201 [==============================] - 17s 14ms/step - loss: 0.9573 - accuracy: 0.7171\n",
            "Epoch 61/100\n",
            "1201/1201 [==============================] - 17s 14ms/step - loss: 0.9270 - accuracy: 0.7211\n",
            "Epoch 62/100\n",
            "1201/1201 [==============================] - 17s 14ms/step - loss: 0.9363 - accuracy: 0.7184\n",
            "Epoch 63/100\n",
            "1201/1201 [==============================] - 17s 14ms/step - loss: 0.9295 - accuracy: 0.7212\n",
            "Epoch 64/100\n",
            "1201/1201 [==============================] - 17s 14ms/step - loss: 0.9089 - accuracy: 0.7269\n",
            "Epoch 65/100\n",
            "1201/1201 [==============================] - 17s 14ms/step - loss: 0.9128 - accuracy: 0.7285\n",
            "Epoch 66/100\n",
            "1201/1201 [==============================] - 17s 14ms/step - loss: 0.8800 - accuracy: 0.7345\n",
            "Epoch 67/100\n",
            "1201/1201 [==============================] - 17s 14ms/step - loss: 0.8811 - accuracy: 0.7389\n",
            "Epoch 68/100\n",
            "1201/1201 [==============================] - 17s 14ms/step - loss: 0.8886 - accuracy: 0.7316\n",
            "Epoch 69/100\n",
            "1201/1201 [==============================] - 17s 14ms/step - loss: 0.8867 - accuracy: 0.7329\n",
            "Epoch 70/100\n",
            "1201/1201 [==============================] - 17s 14ms/step - loss: 0.8761 - accuracy: 0.7330\n",
            "Epoch 71/100\n",
            "1201/1201 [==============================] - 17s 14ms/step - loss: 0.8541 - accuracy: 0.7431\n",
            "Epoch 72/100\n",
            "1201/1201 [==============================] - 17s 14ms/step - loss: 0.8665 - accuracy: 0.7436\n",
            "Epoch 73/100\n",
            "1201/1201 [==============================] - 17s 14ms/step - loss: 0.8468 - accuracy: 0.7442\n",
            "Epoch 74/100\n",
            "1201/1201 [==============================] - 17s 14ms/step - loss: 0.8464 - accuracy: 0.7459\n",
            "Epoch 75/100\n",
            "1201/1201 [==============================] - 17s 14ms/step - loss: 0.8466 - accuracy: 0.7416\n",
            "Epoch 76/100\n",
            "1201/1201 [==============================] - 17s 14ms/step - loss: 0.8165 - accuracy: 0.7504\n",
            "Epoch 77/100\n",
            "1201/1201 [==============================] - 17s 14ms/step - loss: 0.8187 - accuracy: 0.7516\n",
            "Epoch 78/100\n",
            "1201/1201 [==============================] - 17s 14ms/step - loss: 0.8360 - accuracy: 0.7465\n",
            "Epoch 79/100\n",
            "1201/1201 [==============================] - 16s 14ms/step - loss: 0.8162 - accuracy: 0.7520\n",
            "Epoch 80/100\n",
            "1201/1201 [==============================] - 17s 14ms/step - loss: 0.8131 - accuracy: 0.7530\n",
            "Epoch 81/100\n",
            "1201/1201 [==============================] - 17s 14ms/step - loss: 0.7996 - accuracy: 0.7581\n",
            "Epoch 82/100\n",
            "1201/1201 [==============================] - 17s 14ms/step - loss: 0.8054 - accuracy: 0.7537\n",
            "Epoch 83/100\n",
            "1201/1201 [==============================] - 17s 14ms/step - loss: 0.8066 - accuracy: 0.7519\n",
            "Epoch 84/100\n",
            "1201/1201 [==============================] - 17s 14ms/step - loss: 0.7876 - accuracy: 0.7594\n",
            "Epoch 85/100\n",
            "1201/1201 [==============================] - 17s 14ms/step - loss: 0.7624 - accuracy: 0.7697\n",
            "Epoch 86/100\n",
            "1201/1201 [==============================] - 17s 14ms/step - loss: 0.7730 - accuracy: 0.7693\n",
            "Epoch 87/100\n",
            "1201/1201 [==============================] - 17s 14ms/step - loss: 0.7840 - accuracy: 0.7655\n",
            "Epoch 88/100\n",
            "1201/1201 [==============================] - 17s 14ms/step - loss: 0.7695 - accuracy: 0.7630\n",
            "Epoch 89/100\n",
            "1201/1201 [==============================] - 17s 14ms/step - loss: 0.7703 - accuracy: 0.7655\n",
            "Epoch 90/100\n",
            "1201/1201 [==============================] - 17s 14ms/step - loss: 0.7424 - accuracy: 0.7672\n",
            "Epoch 91/100\n",
            "1201/1201 [==============================] - 17s 14ms/step - loss: 0.7565 - accuracy: 0.7647\n",
            "Epoch 92/100\n",
            "1201/1201 [==============================] - 17s 14ms/step - loss: 0.7828 - accuracy: 0.7633\n",
            "Epoch 93/100\n",
            "1201/1201 [==============================] - 17s 14ms/step - loss: 0.7542 - accuracy: 0.7713\n",
            "Epoch 94/100\n",
            "1201/1201 [==============================] - 17s 14ms/step - loss: 0.7192 - accuracy: 0.7788\n",
            "Epoch 95/100\n",
            "1201/1201 [==============================] - 17s 14ms/step - loss: 0.7347 - accuracy: 0.7714\n",
            "Epoch 96/100\n",
            "1201/1201 [==============================] - 17s 14ms/step - loss: 0.7175 - accuracy: 0.7766\n",
            "Epoch 97/100\n",
            "1201/1201 [==============================] - 17s 14ms/step - loss: 0.7349 - accuracy: 0.7690\n",
            "Epoch 98/100\n",
            "1201/1201 [==============================] - 17s 14ms/step - loss: 0.7520 - accuracy: 0.7705\n",
            "Epoch 99/100\n",
            "1201/1201 [==============================] - 17s 14ms/step - loss: 0.7023 - accuracy: 0.7792\n",
            "Epoch 100/100\n",
            "1201/1201 [==============================] - 16s 14ms/step - loss: 0.7046 - accuracy: 0.7768\n"
          ]
        }
      ]
    },
    {
      "cell_type": "markdown",
      "metadata": {
        "id": "KN6Fg_BsxJe6"
      },
      "source": [
        "### 5 - Predicción de próxima palabra"
      ]
    },
    {
      "cell_type": "code",
      "metadata": {
        "id": "iy_AXWQWzeeE"
      },
      "source": [
        "# Keras pad_sequences\n",
        "# https://www.tensorflow.org/api_docs/python/tf/keras/preprocessing/sequence/pad_sequences\n",
        "# Si la secuencia de entrada supera al input_seq_len (3) se trunca\n",
        "# Si la secuencia es más corta se agregna ceros al comienzo"
      ],
      "execution_count": 40,
      "outputs": []
    },
    {
      "cell_type": "code",
      "metadata": {
        "id": "IBvKHFPmzpy2",
        "colab": {
          "base_uri": "https://localhost:8080/"
        },
        "outputId": "aa12e800-3b22-4852-98ae-476bdb57573d"
      },
      "source": [
        "# Se utilizará gradio para ensayar el modelo\n",
        "# Herramienta poderosa para crear interfaces rápidas para ensayar modelos\n",
        "# https://gradio.app/\n",
        "import sys\n",
        "!{sys.executable} -m pip install gradio --quiet"
      ],
      "execution_count": 41,
      "outputs": [
        {
          "output_type": "stream",
          "name": "stdout",
          "text": [
            "\u001b[K     |████████████████████████████████| 3.4 MB 4.1 MB/s \n",
            "\u001b[K     |████████████████████████████████| 206 kB 48.6 MB/s \n",
            "\u001b[K     |████████████████████████████████| 1.9 MB 43.9 MB/s \n",
            "\u001b[K     |████████████████████████████████| 63 kB 2.3 MB/s \n",
            "\u001b[K     |████████████████████████████████| 3.0 MB 39.3 MB/s \n",
            "\u001b[K     |████████████████████████████████| 961 kB 44.4 MB/s \n",
            "\u001b[?25h  Building wheel for ffmpy (setup.py) ... \u001b[?25l\u001b[?25hdone\n",
            "  Building wheel for flask-cachebuster (setup.py) ... \u001b[?25l\u001b[?25hdone\n"
          ]
        }
      ]
    },
    {
      "cell_type": "code",
      "metadata": {
        "id": "HNyBykvhzs7-",
        "colab": {
          "base_uri": "https://localhost:8080/",
          "height": 909
        },
        "outputId": "77549504-32e6-43f3-b414-184f8d828813"
      },
      "source": [
        "import gradio as gr\n",
        "\n",
        "def model_response(human_text):\n",
        "\n",
        "    # Encodeamos\n",
        "    encoded = tok.texts_to_sequences([human_text])[0]\n",
        "    # Si tienen distinto largo\n",
        "    encoded = pad_sequences([encoded], maxlen=3, padding='pre')\n",
        "    \n",
        "    # Predicción softmax\n",
        "    y_hat = model.predict(encoded).argmax(axis=-1)\n",
        "\n",
        "    # Debemos buscar en el vocabulario la palabra\n",
        "    # que corresopnde al indice (y_hat) predicho por le modelo\n",
        "    out_word = ''\n",
        "    for word, index in tok.word_index.items():\n",
        "        if index == y_hat:\n",
        "            out_word = word\n",
        "            break\n",
        "\n",
        "    # Agrego la palabra a la frase predicha\n",
        "    return human_text + ' ' + out_word\n",
        "\n",
        "iface = gr.Interface(\n",
        "    fn=model_response,\n",
        "    inputs=[\"textbox\"],\n",
        "    outputs=\"text\",\n",
        "    layout=\"vertical\")\n",
        "\n",
        "iface.launch(debug=True)"
      ],
      "execution_count": 42,
      "outputs": [
        {
          "output_type": "stream",
          "name": "stdout",
          "text": [
            "Colab notebook detected. This cell will run indefinitely so that you can see errors and logs. To turn off, set debug=False in launch().\n",
            "This share link will expire in 72 hours. If you need a permanent link, visit: https://gradio.app/introducing-hosted\n",
            "Running on External URL: https://39021.gradio.app\n",
            "Interface loading below...\n"
          ]
        },
        {
          "output_type": "display_data",
          "data": {
            "text/html": [
              "\n",
              "        <iframe\n",
              "            width=\"900\"\n",
              "            height=\"500\"\n",
              "            src=\"https://39021.gradio.app\"\n",
              "            frameborder=\"0\"\n",
              "            allowfullscreen\n",
              "        ></iframe>\n",
              "        "
            ],
            "text/plain": [
              "<IPython.lib.display.IFrame at 0x7f5f94f69250>"
            ]
          },
          "metadata": {}
        },
        {
          "output_type": "error",
          "ename": "KeyboardInterrupt",
          "evalue": "ignored",
          "traceback": [
            "\u001b[0;31m---------------------------------------------------------------------------\u001b[0m",
            "\u001b[0;31mKeyboardInterrupt\u001b[0m                         Traceback (most recent call last)",
            "\u001b[0;32m<ipython-input-42-2a8fe09160a6>\u001b[0m in \u001b[0;36m<module>\u001b[0;34m()\u001b[0m\n\u001b[1;32m     28\u001b[0m     layout=\"vertical\")\n\u001b[1;32m     29\u001b[0m \u001b[0;34m\u001b[0m\u001b[0m\n\u001b[0;32m---> 30\u001b[0;31m \u001b[0miface\u001b[0m\u001b[0;34m.\u001b[0m\u001b[0mlaunch\u001b[0m\u001b[0;34m(\u001b[0m\u001b[0mdebug\u001b[0m\u001b[0;34m=\u001b[0m\u001b[0;32mTrue\u001b[0m\u001b[0;34m)\u001b[0m\u001b[0;34m\u001b[0m\u001b[0;34m\u001b[0m\u001b[0m\n\u001b[0m",
            "\u001b[0;32m/usr/local/lib/python3.7/dist-packages/gradio/interface.py\u001b[0m in \u001b[0;36mlaunch\u001b[0;34m(self, inline, inbrowser, share, debug, auth, auth_message, private_endpoint, prevent_thread_lock)\u001b[0m\n\u001b[1;32m    584\u001b[0m             \u001b[0;32mwhile\u001b[0m \u001b[0;32mTrue\u001b[0m\u001b[0;34m:\u001b[0m\u001b[0;34m\u001b[0m\u001b[0;34m\u001b[0m\u001b[0m\n\u001b[1;32m    585\u001b[0m                 \u001b[0msys\u001b[0m\u001b[0;34m.\u001b[0m\u001b[0mstdout\u001b[0m\u001b[0;34m.\u001b[0m\u001b[0mflush\u001b[0m\u001b[0;34m(\u001b[0m\u001b[0;34m)\u001b[0m\u001b[0;34m\u001b[0m\u001b[0;34m\u001b[0m\u001b[0m\n\u001b[0;32m--> 586\u001b[0;31m                 \u001b[0mtime\u001b[0m\u001b[0;34m.\u001b[0m\u001b[0msleep\u001b[0m\u001b[0;34m(\u001b[0m\u001b[0;36m0.1\u001b[0m\u001b[0;34m)\u001b[0m\u001b[0;34m\u001b[0m\u001b[0;34m\u001b[0m\u001b[0m\n\u001b[0m\u001b[1;32m    587\u001b[0m         \u001b[0mis_in_interactive_mode\u001b[0m \u001b[0;34m=\u001b[0m \u001b[0mbool\u001b[0m\u001b[0;34m(\u001b[0m\u001b[0mgetattr\u001b[0m\u001b[0;34m(\u001b[0m\u001b[0msys\u001b[0m\u001b[0;34m,\u001b[0m \u001b[0;34m'ps1'\u001b[0m\u001b[0;34m,\u001b[0m \u001b[0msys\u001b[0m\u001b[0;34m.\u001b[0m\u001b[0mflags\u001b[0m\u001b[0;34m.\u001b[0m\u001b[0minteractive\u001b[0m\u001b[0;34m)\u001b[0m\u001b[0;34m)\u001b[0m\u001b[0;34m\u001b[0m\u001b[0;34m\u001b[0m\u001b[0m\n\u001b[1;32m    588\u001b[0m         \u001b[0;32mif\u001b[0m \u001b[0;32mnot\u001b[0m \u001b[0mprevent_thread_lock\u001b[0m \u001b[0;32mand\u001b[0m \u001b[0;32mnot\u001b[0m \u001b[0mis_in_interactive_mode\u001b[0m\u001b[0;34m:\u001b[0m\u001b[0;34m\u001b[0m\u001b[0;34m\u001b[0m\u001b[0m\n",
            "\u001b[0;31mKeyboardInterrupt\u001b[0m: "
          ]
        }
      ]
    },
    {
      "cell_type": "markdown",
      "metadata": {
        "id": "mCeMWWupxN1-"
      },
      "source": [
        "### 6 - Generación de secuencias nuevas"
      ]
    },
    {
      "cell_type": "code",
      "metadata": {
        "id": "bwbS_pfhxvB3"
      },
      "source": [
        "def generate_seq(model, tokenizer, seed_text, max_length, n_words):\n",
        "    \"\"\"\n",
        "        Exec model sequence prediction\n",
        "\n",
        "        Args:\n",
        "            model (keras): modelo entrenado\n",
        "            tokenizer (keras tokenizer): tonenizer utilizado en el preprocesamiento\n",
        "            seed_text (string): texto de entrada (input_seq)\n",
        "            max_length (int): máxima longitud de la sequencia de entrada\n",
        "            n_words (int): números de palabras a agregar a la sequencia de entrada\n",
        "        returns:\n",
        "            output_text (string): sentencia con las \"n_words\" agregadas\n",
        "    \"\"\"\n",
        "    output_text = seed_text\n",
        "\t# generate a fixed number of words\n",
        "    for _ in range(n_words):\n",
        "\t\t# Encodeamos\n",
        "        encoded = tokenizer.texts_to_sequences([output_text])[0]\n",
        "\t\t# Si tienen distinto largo\n",
        "        encoded = pad_sequences([encoded], maxlen=max_length, padding='pre')\n",
        "\t\t\n",
        "\t\t# Predicción softmax\n",
        "        y_hat = model.predict(encoded).argmax(axis=-1)\n",
        "\t\t# Vamos concatenando las predicciones\n",
        "        out_word = ''\n",
        "\n",
        "        # Debemos buscar en el vocabulario la palabra\n",
        "        # que corresopnde al indice (y_hat) predicho por le modelo\n",
        "        for word, index in tokenizer.word_index.items():\n",
        "            if index == y_hat:\n",
        "                out_word = word\n",
        "                break\n",
        "\n",
        "\t\t# Agrego las palabras a la frase predicha\n",
        "        output_text += ' ' + out_word\n",
        "    return output_text"
      ],
      "execution_count": 49,
      "outputs": []
    },
    {
      "cell_type": "code",
      "metadata": {
        "id": "JoFqRC5pxzqS",
        "colab": {
          "base_uri": "https://localhost:8080/",
          "height": 35
        },
        "outputId": "a5810dfc-c88c-4f7e-b23d-8451fe500553"
      },
      "source": [
        "input_text='que le dice'\n",
        "\n",
        "generate_seq(model, tok, input_text, max_length=3, n_words=20)"
      ],
      "execution_count": 50,
      "outputs": [
        {
          "output_type": "execute_result",
          "data": {
            "application/vnd.google.colaboratory.intrinsic+json": {
              "type": "string"
            },
            "text/plain": [
              "'que le dice el calzoncillos que 7 principe por a criatura te hijo hace dice me primo colegio a gato al obsesionado me'"
            ]
          },
          "metadata": {},
          "execution_count": 50
        }
      ]
    },
    {
      "cell_type": "code",
      "metadata": {
        "colab": {
          "base_uri": "https://localhost:8080/",
          "height": 35
        },
        "id": "pqYocNn3tftv",
        "outputId": "44756cdc-ce52-4a3e-a4fc-db16f140fcac"
      },
      "source": [
        "input_text='primer acto'\n",
        "\n",
        "generate_seq(model, tok, input_text, max_length=3, n_words=20)"
      ],
      "execution_count": 54,
      "outputs": [
        {
          "output_type": "execute_result",
          "data": {
            "application/vnd.google.colaboratory.intrinsic+json": {
              "type": "string"
            },
            "text/plain": [
              "'primer acto como supervision cien euros beber se quieres ayuda que dice que dos solo una nacemos en frente por la zapatos'"
            ]
          },
          "metadata": {},
          "execution_count": 54
        }
      ]
    },
    {
      "cell_type": "markdown",
      "metadata": {
        "id": "TXQptUXztxhE"
      },
      "source": [
        "Vemos que la cantidad de capas y el dataset no es suficiente para este caso"
      ]
    },
    {
      "cell_type": "markdown",
      "metadata": {
        "id": "T2SHmXbgxQH9"
      },
      "source": [
        "### 7 - Conclusiones\n",
        "El modelo entrenado tuvo un muy mail desempeño en el entrenamiento además de overfitting. Cuestiones que podrían mejorarse:\n",
        "- Agregar más capas o neuronaes\n",
        "- Incrementar la cantidad de épocas\n",
        "- Agregar BRNN\n",
        "\n",
        "Es importante destacar que en este ejemplo estamos entrenando nuestro propios Embeddings, y para ello se requiere mucha data. En los ejemplos que realizaremos de aquí en más utilizaremos más datos, embeddings pre-enternados o modelos pre-entrenados."
      ]
    }
  ]
}